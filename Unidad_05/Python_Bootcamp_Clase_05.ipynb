{
  "cells": [
    {
      "cell_type": "markdown",
      "metadata": {
        "colab_type": "text",
        "id": "view-in-github"
      },
      "source": [
        "<a href=\"https://colab.research.google.com/github/GonzaloMartin/Python-Bootcamp/blob/main/Unidad_05/Python_Bootcamp_Clase_05.ipynb\" target=\"_parent\"><img src=\"https://colab.research.google.com/assets/colab-badge.svg\" alt=\"Open In Colab\"/></a>"
      ]
    },
    {
      "cell_type": "markdown",
      "metadata": {
        "id": "-TUcZs7nWywn"
      },
      "source": [
        "<img src=\"https://raw.githubusercontent.com/GonzaloMartin/Python-Bootcamp/refs/heads/main/Assets/python_bootcamp_banner1.png\" width=\"400\">\n",
        "\n",
        "# **Python Bootcamp orientado a la Automatización**\n",
        "\n",
        "La idea es entender los fundamentos de cómo viajan los datos en Internet, cómo funcionan los protocolos que usamos todos los días, y cómo llevar todo eso al entorno de Python.  \n",
        "No te preocupes si algún concepto parece técnico al principio: lo vamos a explicar de manera sencilla, con ejemplos prácticos que puedas probar por tu cuenta."
      ]
    },
    {
      "cell_type": "markdown",
      "metadata": {
        "id": "o9M3M7L0X1nL"
      },
      "source": [
        "# Unidad 5\n",
        "\n",
        "El objetivo de la clase es obtener la primera experiencia de trabajo con programación aprendiendo los siguientes temas.\n",
        "\n",
        "* Redes e Internet\n",
        "* Protocolos HTTP\n",
        "* Requests con Python\n",
        "\n",
        "La clase incluye teoría y práctica sobre cada tema."
      ]
    },
    {
      "cell_type": "markdown",
      "metadata": {
        "id": "hMRV7LXqgTsC"
      },
      "source": [
        "***\n",
        "## Redes e Internet 🌍\n",
        "\n",
        "En primer lugar, para comenzar a usar Python con cualquier web es fundamental comprender primero las nociones básicas del funcionamiento de las redes e internet. El [siguiente artículo](https://developer.mozilla.org/es/docs/Learn_web_development/Howto/Web_mechanics/How_does_the_Internet_work) es una excelente introducción a las redes y su funcionamiento (Su lectura es opcional).\n",
        "\n",
        "En pocas palabras y hablando muy a alto nivel, las redes permiten la comunicación entre dispositivos, y para que esto funcione, se utilizan protocolos que definen cómo se envían y reciben los datos. Python, a través de sus bibliotecas de código, facilita la interacción con estas redes y protocolos, permitiendo a los desarrolladores crear aplicaciones que pueden comunicarse a través de internet de manera eficiente.\n",
        "\n",
        "Algo más que se pueda decir, es que Python cuenta con varias bibliotecas y módulos que simplifican el trabajo con redes, como `socket`, `requests` y `http.server`, entre otros. Estas herramientas permiten realizar tareas como enviar y recibir datos a través de sockets, hacer peticiones HTTP y crear servidores web de manera sencilla."
      ]
    },
    {
      "cell_type": "markdown",
      "metadata": {
        "id": "_SbuATGMJQ2S"
      },
      "source": [
        "### Transferencia de Datos\n",
        "\n",
        "Imaginá a Internet como una red enorme de autopistas. Bueno, en este caso, los autos serán los datos que viajan de un lugar a otro.\n",
        "\n",
        "Cada vez que enviás un mensaje por WhatsApp, mirás un video en YouTube o abrís una página web, lo que ocurre es que varios datos viajan en pequeños paquetes.  \n",
        "Estos paquetes son como cartas dentro de sobres 📩: tienen una dirección de origen, una de destino y el contenido (mensaje).\n",
        "\n",
        "Ejemplo simple:\n",
        "```python\n",
        "- Vos pedís abrir *www.google.com*  \n",
        "- Tu computadora arma un \"paquete\" que viaja hasta los servidores de Google.  \n",
        "- Google responde con otro paquete que contiene el HTML, imágenes, etc.  \n",
        "```\n",
        "\n",
        "En esa maniobra hubo un intercambio de mensajes y datos, en donde se le envió una petición a google, y google respondió con el contenido que le pediste.\n",
        "\n",
        "Por lo tanto: La transferencia de datos es el proceso de mover información de un lugar a otro a través de una red. En el contexto de Python y la programación en general, esto puede implicar el envío de datos entre un cliente y un servidor, la lectura y escritura de archivos, o la comunicación entre diferentes partes de una aplicación."
      ]
    },
    {
      "cell_type": "markdown",
      "metadata": {},
      "source": [
        "### Internet Protocol (IP)\n",
        "\n",
        "El Protocolo de Internet (IP) vendría a ser el \"gps\" en la red. Cada dispositivo conectado (PC, celular, servidor) tuene una dirección IP que lo identifica. No tener una IP, es como enviar una carta sin dirección, es imposible que llegue a destino.\n",
        "\n",
        "Su función principal es dirigir los paquetes de datos desde su origen hasta su destino a través de múltiples redes. Cada dispositivo en Internet tiene una dirección IP única, que actúa como su identificador en la red.\n",
        "\n",
        "Ejemplo:\n",
        "```python\n",
        "- IP típica: \"192.168.0.5\"  \n",
        "- Piensa en ella como la dirección de tu casa, pero en el mundo digital.\n",
        "```\n",
        "\n",
        "Si miramos los números en detalle, podemos ver que la dirección IP se compone de cuatro grupos de números, cada uno de los cuales puede variar de 0 a 255. Estos grupos están separados por puntos y se conocen como \"octetos\", ya que cada grupo equivale a 8 bits. En el ejemplo \"192.168.0.5\", los octetos son 192, 168, 0 y 5. Cada uno de estos octetos tiene un significado específico en la red y ayuda a identificar la ubicación del dispositivo dentro de la misma.\n",
        "\n",
        "### IP Pública e IP Privada\n",
        "\n",
        "Las IP's públicas son las que se asignan a los dispositivos que se conectan directamente a Internet. Son únicas en todo el mundo y permiten que los dispositivos se identifiquen y se comuniquen entre sí a través de la red global. Es la dirección con la que salís al mundo.  Es como tu dirección oficial en Internet.\n",
        "\n",
        "<img src=\"https://raw.githubusercontent.com/GonzaloMartin/Python-Bootcamp/refs/heads/unidad_5/Assets/u5_ips.jpg\" width=\"500\">\n",
        "\n",
        "Las IP's privadas son las que se usan dentro de una red local. No son únicas en todo el mundo y no pueden ser alcanzadas directamente desde Internet. Estas direcciones son útiles para la comunicación interna dentro de una red, como la red de tu casa o la de una oficina.\n",
        "\n",
        "En resumen, las direcciones IP son fundamentales para la comunicación en la red. Las IP's públicas permiten la conexión a Internet, mientras que las IP's privadas facilitan la comunicación interna en redes locales."
      ]
    },
    {
      "cell_type": "markdown",
      "metadata": {},
      "source": [
        "### Sockets 🔌\n",
        "\n",
        "Un **socket** es un \"enchufe digital\" que permite a dos computadoras conectarse y hablar entre sí.\n",
        "Es muy facil: Si el IP es la dirección de la casa, el socket es el número de puerta (puerto) al que vas a tocar el timbre.\n",
        "\n",
        "Ejemplo de puertos comunes:  \n",
        "- Puerto 80 → HTTP (navegación web)  \n",
        "- Puerto 443 → HTTPS (navegación segura)\n",
        "\n",
        "Un socket se puede imaginar como un punto final en una conexión de red. Cada socket está asociado a una dirección IP y un número de puerto, lo que permite identificar de manera única el proceso que está escuchando en ese socket.\n",
        "\n",
        "#### Tipos de Sockets\n",
        "\n",
        "1. **Sockets de flujo (TCP)**: Proporcionan una conexión confiable y orientada a la conexión. Aseguran que los datos se entreguen en el orden correcto y sin pérdidas.\n",
        "2. **Sockets de datagramas (UDP)**: Proporcionan un servicio no confiable y sin conexión. No garantizan la entrega de paquetes ni el orden de los mismos, pero son más rápidos y tienen menos sobrecarga.\n",
        "\n",
        "Los sockets son fundamentales para la comunicación en red y se utilizan en una amplia variedad de aplicaciones, desde navegadores web hasta juegos en línea."
      ]
    },
    {
      "cell_type": "markdown",
      "metadata": {},
      "source": [
        "### Modelo Cliente-Servidor 🖧\n",
        "\n",
        "Hablar sobre el modelo Cliente-Servidor puede llevarnos semanas. Hay mucha teoría detrás, y diversos tipos de modelos basados en esta arquitectura.  Sin embargo vamos a acotarlo en lo esencial, como para poner un punto de partida a la aplicación que le podemos dar en este bootcamp.\n",
        "\n",
        "El modelo cliente-servidor es una arquitectura de red en la que un dispositivo (cliente) solicita servicios o recursos a otro dispositivo (servidor) que los proporciona.\n",
        "\n",
        "Es algo muy simple si seguimos la siguiente analogía. Supongamos, imaginá un restaurante:\n",
        "- **Cliente** = vos, que pedís comida.\n",
        "- **Servidor** = la cocina, que recibe tu pedido y te trae la comida.\n",
        "\n",
        "En Internet pasa lo mismo: tu navegador es el cliente y el servidor es el que responde con la información que solicitaste.\n",
        "\n",
        "<img src=\"https://raw.githubusercontent.com/GonzaloMartin/Python-Bootcamp/refs/heads/unidad_5/Assets/u5_cliente_servidor.jpg\" width=\"500\">\n",
        "\n",
        "Según el profesor [Gregory R. Andrews](https://appliedmath.arizona.edu/person/gregory-r-andrews), el cliente es un proceso desencadenante mientras que el servidor es un proceso reactivo. Lo que significa que el servidor no puede envíar datos o empezar procesos que un cliente no solicitó.\n",
        "\n",
        "Las ventajas que puede traer este modelo son:\n",
        "\n",
        "1. **Escalabilidad**: Los servidores pueden manejar múltiples solicitudes de diferentes clientes simultáneamente.\n",
        "2. **Mantenimiento**: Es más fácil actualizar o modificar el servidor sin afectar a los clientes.\n",
        "3. **Seguridad**: Los datos sensibles pueden ser almacenados y gestionados en el servidor, reduciendo el riesgo en los clientes.\n",
        "\n",
        "En resumen, el modelo cliente-servidor es fundamental para la arquitectura de Internet y permite una interacción eficiente y segura entre los usuarios y los servicios que utilizan."
      ]
    },
    {
      "cell_type": "markdown",
      "metadata": {
        "id": "AFFOtQB7JQ2u"
      },
      "source": [
        "***\n",
        "## Protocolo HTTP 🔗\n",
        "\n",
        "HTTP (HyperText Transfer Protocol) es el idioma que usan navegadores y servidores para comunicarse. Es como un \"contrato\" que define cómo debe pedirse y entregarse la información.\n",
        "\n",
        "<style>\n",
        ".alert-atom-info {\n",
        "  background-color: #ffffffff;  /* fondo oscuro suave  #2c313c */\n",
        "  color: #c7cfd6ff;             /* custom */\n",
        "  border: 1px solid #3e4451;  /* gris oscuro */\n",
        "  padding: 15px;\n",
        "  border-radius: 5px;\n",
        "  font-family: 'Fira Code', Consolas, monospace;\n",
        "  width: 90%;\n",
        "}\n",
        "</style>\n",
        "<div class=\"alert alert-atom-info\">\n",
        "<img src=\"https://raw.githubusercontent.com/GonzaloMartin/Python-Bootcamp/refs/heads/unidad_5/Assets/u5_http_protocol.png\">\n",
        "</div>\n",
        "\n",
        "Cuando escribís una URL en tu navegador, estás haciendo una solicitud HTTP al servidor que aloja esa página web. El servidor responde con los datos que tu navegador necesita para mostrar la página.\n",
        "\n",
        "Existen los mensajes HTTP que básicamente llevan información sobre la solicitud o la respuesta. Estos mensajes se dividen en dos partes: la cabecera (header) y el cuerpo (body).\n",
        "\n",
        "En palabras simples, el protocolo HTTP define cómo se envían y reciben los mensajes entre el cliente y el servidor. Esto incluye la estructura de los mensajes, los métodos de solicitud, los códigos de estado y otros aspectos importantes de la comunicación web."
      ]
    },
    {
      "cell_type": "markdown",
      "metadata": {},
      "source": [
        "### Requests HTTP\n",
        "\n",
        "Las solicitudes HTTP (o \"requests\") son mensajes enviados por el cliente (por ejemplo, tu navegador) al servidor para solicitar recursos.\n",
        "\n",
        "<img src=\"https://raw.githubusercontent.com/GonzaloMartin/Python-Bootcamp/refs/heads/unidad_5/Assets/u5_http_msg_bn.jpg\" width=\"800\">\n",
        "\n",
        "Una solicitud HTTP típica incluye:\n",
        "\n",
        "1. **Método**: Indica la acción que se desea realizar (GET, POST, PUT, DELETE, etc.). Es el verbo de la solicitud.\n",
        "2. **URL**: La dirección del recurso que se quiere acceder. Es el endpoint del servicio.\n",
        "3. **Cabecera (header)**: Información adicional sobre la solicitud (tipo de contenido, autenticación, etc.).\n",
        "4. **Cuerpo (body)**: Datos que se envían al servidor (en solicitudes POST o PUT). Las solicitudes GET generalmente no incluyen un cuerpo.\n",
        "\n",
        "Pero qué son los métodos? Para qué sirven? De dónde salen? Y las rutas de los endpoints? Cómo se compone un header? Qué información lleva el body?"
      ]
    },
    {
      "cell_type": "markdown",
      "metadata": {},
      "source": [
        "#### Métodos HTTP\n",
        "\n",
        "Los métodos HTTP son un conjunto de verbos que indican la acción que se desea realizar sobre un recurso. Cada método tiene un propósito específico y se utiliza en diferentes situaciones. Los más comunes son:\n",
        "\n",
        "- **GET**: Solicita un recurso. Es el método más utilizado y se usa para obtener datos del servidor.\n",
        "- **POST**: Envía datos al servidor para crear un nuevo recurso. Se utiliza comúnmente en formularios.\n",
        "- **PUT**: Actualiza un recurso existente en el servidor.\n",
        "- **DELETE**: Elimina un recurso del servidor.\n",
        "\n",
        "Estos son parte del protocolo HTTP y están definidos en la especificación del mismo. Los desarrolladores los utilizan para interactuar con APIs y servicios web de manera estandarizada.\n",
        "\n",
        "#### Manejo de Rutas\n",
        "\n",
        "Las rutas de los requests indican la ubicación del recurso en el servidor. Se definen en la URL y pueden incluir parámetros para filtrar o modificar la respuesta.\n",
        "\n",
        "Por ejemplo, en la URL `www.tienda.com/productos/123`, la ruta `/productos/123` indica que se está solicitando el producto con ID 123.\n",
        "\n",
        "Las rutas son fundamentales para que el servidor sepa qué recurso se está solicitando y cómo debe manejar la solicitud. En las APIs REST, las rutas suelen estar estructuradas de manera jerárquica y semántica, lo que facilita la comprensión y el uso de la API.\n",
        "\n",
        "Entonces, desglosando:\n",
        "\n",
        "```code\n",
        "> www.tienda.com/productos/123\n",
        "```\n",
        "\n",
        ">  `https://` → protocolo\n",
        ">\n",
        ">  `www.tienda.com` → servidor\n",
        ">\n",
        ">  `/productos/123` → ruta al recurso\n",
        "\n",
        "\n",
        "#### Cabeceras (Headers)\n",
        "\n",
        "Las cabeceras HTTP son campos de información que se envían junto con la solicitud o la respuesta. Proporcionan información adicional sobre la solicitud, como el tipo de contenido, la longitud del contenido, la autenticación, entre otros. Algunas cabeceras comunes son:\n",
        "\n",
        "- **Content-Type**: Indica el tipo de contenido que se está enviando (por ejemplo, `application/json` para JSON).\n",
        "- **Authorization**: Contiene credenciales para autenticar al usuario (por ejemplo, un token de acceso) Esto es según la implementación del servicio. Como buena práctica, debería existir.\n",
        "- **User-Agent**: Información sobre el cliente que realiza la solicitud (por ejemplo, el navegador y su versión).\n",
        "\n",
        "Las cabeceras son importantes para que el servidor pueda procesar correctamente la solicitud y devolver la respuesta adecuada.\n",
        "\n",
        "#### Cuerpo (Body)\n",
        "\n",
        "El body de una solicitud HTTP es la parte que contiene los datos que se envían al servidor. Esto es especialmente relevante en las solicitudes POST y PUT, donde se envían datos para crear o actualizar un recurso.\n",
        "\n",
        "Puede contener diferentes tipos de datos, como:\n",
        "\n",
        "- **JSON**: Formato de intercambio de datos ligero y fácil de leer. Se utiliza comúnmente en APIs REST.\n",
        "- **Form Data**: Datos de formularios HTML, que se envían como pares clave-valor.\n",
        "- **XML**: Un formato de marcado que se utiliza para estructurar datos.\n",
        "\n",
        "Es importante establecer el tipo de contenido adecuado en la cabecera `Content-Type` para que el servidor pueda interpretar correctamente los datos del body.\n",
        "\n",
        "Ejemplo:\n",
        "\n",
        "```python\n",
        "{\n",
        "    \"nombre\": \"Gonzalo\",\n",
        "    \"edad\": 30,\n",
        "    \"ciudad\": \"Buenos Aires\"\n",
        "}\n"
      ]
    },
    {
      "cell_type": "markdown",
      "metadata": {},
      "source": [
        "### Response HTTP\n",
        "\n",
        "Las respuestas HTTP (o \"responses\") son mensajes enviados por el servidor al cliente en respuesta a una solicitud. Siguiendo la misma analogía, un mensaje response tiene una estructura parecida:\n",
        "\n",
        "1. **Código de estado (Status Code)**: Indica el resultado de la solicitud (por ejemplo, 200 para éxito, 404 para no encontrado).\n",
        "2. **Cabecera (header)**: Información adicional sobre la respuesta (tipo de contenido, longitud del contenido, etc.).\n",
        "3. **Cuerpo (body)**: Datos que se envían al cliente (por ejemplo, el contenido de una página web o un mensaje de error).\n",
        "\n",
        "#### Código de Estado (Status Code)\n",
        "\n",
        "Los Status Code dentro de la mensajería request indica el resultado de la solicitud. Por ejemplo, un código 200 significa que la solicitud fue exitosa, mientras que un código 404 indica que el recurso no fue encontrado.\n",
        "\n",
        "Con esto podemos identificar fácilmente cuando una solicitud ha tenido éxito o ha fallado, y tomar decisiones en consecuencia (por ejemplo, reintentar la solicitud, mostrar un mensaje de error, etc.).\n",
        "\n",
        "Los Status Codes son parte fundamental de la comunicación HTTP y permiten a los desarrolladores entender rápidamente el resultado de una solicitud. Algunos de los Status Codes más comunes son:\n",
        "\n",
        "- **200 OK**: La solicitud fue exitosa.\n",
        "- **201 Created**: La solicitud fue exitosa y se creó un nuevo recurso.\n",
        "- **204 No Content**: La solicitud fue exitosa, pero no hay contenido que devolver.\n",
        "- **400 Bad Request**: La solicitud no se pudo procesar debido a un error del cliente.\n",
        "- **404 Not Found**: El recurso solicitado no fue encontrado.\n",
        "- **500 Internal Server Error**: Se produjo un error en el servidor al procesar la solicitud.\n",
        "\n"
      ]
    },
    {
      "cell_type": "markdown",
      "metadata": {},
      "source": [
        "#### Header y Body de un Response\n",
        "\n",
        "Al igual que en las solicitudes, las respuestas HTTP también tienen un encabezado (header) y un cuerpo (body).\n",
        "\n",
        "1. **Header**: Contiene información sobre la respuesta, como el tipo de contenido, la longitud del contenido, y otros metadatos. Por ejemplo:\n",
        "   - `Content-Type: application/json`\n",
        "   - `Content-Length: 120`\n",
        "\n",
        "2. **Body**: Es la parte que contiene los datos que se envían al cliente. Esto puede incluir el contenido de una página web, una API, un mensaje de error, o datos en formato JSON. \n",
        "\n",
        "Por ejemplo:\n",
        "\n",
        "```json\n",
        "{\n",
        "    \"mensaje\": \"Recurso creado exitosamente\",\n",
        "    \"id\": 123\n",
        "}"
      ]
    },
    {
      "cell_type": "markdown",
      "metadata": {},
      "source": [
        "### En Resumen\n",
        "\n",
        "<img src=\"https://raw.githubusercontent.com/GonzaloMartin/Python-Bootcamp/refs/heads/unidad_5/Assets/u5_http_protocol_resumen.png\" width=\"600\">"
      ]
    },
    {
      "cell_type": "markdown",
      "metadata": {},
      "source": [
        "***\n",
        "## Request con Python 🐍💻\n",
        "\n",
        "Con Python podemos trabajar con los protocolos HTTP mediante sus bibliotecas de código abierto. Al igual que en java existen dependencias, en Python también. Una de las bibliotecas de código más populares para realizar solicitudes HTTP es la biblioteca `requests`.\n",
        "Este paque simplifica el proceso de enviar solicitudes y manejar respuestas, permitiendo a los desarrolladores interactuar con APIs y servicios web de manera eficiente."
      ]
    },
    {
      "cell_type": "markdown",
      "metadata": {},
      "source": [
        "### ¿Pero qué es una biblioteca de código o paquete?\n",
        "\n",
        "Python trabaja con [paquetes](https://pypi.org/) (o bibliotecas de código, mal llamadas \"librerías\" popularmente) que son colecciones de módulos y funciones que facilitan tareas comunes. Estos paquetes pueden ser instalados y gestionados fácilmente, lo que permite a los desarrolladores aprovecharlos y centrarse en la lógica específica de su aplicación.\n",
        "\n",
        "Cada paquete o biblioteca no se instala por si solo, es necesario un gestor de paquetes que me permita a mí instalar y gestionar estas dependencias de manera eficiente.\n",
        "Una de las más comunes y las más usadas es el gestor [`pip`](https://pypi.org/project/pip/), la cual ya viene preinstalada cuando instalamos Python.\n",
        "\n",
        "Para manejar todo esto, preferentemente, debemos contar con un entorno virtual para poder trabajar tranquilos. Los pasos para crear un entorno virtual y activarlo para uso es muy sencillo. En la terminal de este repositorio, ingresar los siguientes comandos:\n",
        "\n",
        "Para usuarios Windows:\n",
        "\n",
        "```bash\n",
        " > python -m venv .venv\n",
        " > .\\.venv\\Scripts\\activate  # En Windows\n",
        "```\n",
        "\n",
        "Para usuarios Linux / Mac:\n",
        "\n",
        "```bash\n",
        " > python -m venv .venv\n",
        " > source .venv/bin/activate  # En Linux o Mac\n",
        "```"
      ]
    },
    {
      "cell_type": "markdown",
      "metadata": {},
      "source": [
        "### La biblioteca Requests\n",
        "\n",
        "Como mencionábamos en un principio, la biblioteca `requests` es una de las más populares para realizar solicitudes HTTP en Python. Proporciona una forma sencilla y elegante de enviar solicitudes y manejar respuestas, lo que facilita la interacción con APIs y servicios web.\n",
        "\n",
        "En principio se debe instalar `requests` utilizando el gestor `pip` en la línea de comandos:\n",
        "\n",
        "```bash\n",
        " > pip install requests\n",
        "```\n",
        "\n",
        "<img src=\"https://steemitimages.com/0x0//https://res.cloudinary.com/hpiynhbhq/image/upload/v1515863619/ysun3dqsldxjqwtepddl.gif\">\n",
        "\n",
        "Una vez instalada, en nuestro editor de código tendremos que importar la biblioteca:"
      ]
    },
    {
      "cell_type": "code",
      "execution_count": 4,
      "metadata": {},
      "outputs": [],
      "source": [
        "import requests"
      ]
    },
    {
      "cell_type": "markdown",
      "metadata": {},
      "source": [
        "#### Implementación\n",
        "\n",
        "Podemos hacer cualquier request HTTP simplemente usando el método correspondiente de la biblioteca `requests`. Por ejemplo:"
      ]
    },
    {
      "cell_type": "code",
      "execution_count": null,
      "metadata": {},
      "outputs": [],
      "source": [
        "# Peticiones GET\n",
        "response = requests.get('http://jsonplaceholder.typicode.com/posts/1')\n",
        "print(response.content)"
      ]
    },
    {
      "cell_type": "code",
      "execution_count": null,
      "metadata": {},
      "outputs": [],
      "source": [
        "# Peticiones POST\n",
        "response = requests.post('http://jsonplaceholder.typicode.com/posts')\n",
        "print(response.content)"
      ]
    },
    {
      "cell_type": "markdown",
      "metadata": {},
      "source": [
        "Para los métodos POST y PUT, por lo general el request tiene que ir acompañado de los datos que queremos modificar en el servidor.  Para elllo existe el argumento \"data\", con le cual podemos pasarle los datos en el formato de un diccionaroi de Python."
      ]
    },
    {
      "cell_type": "code",
      "execution_count": null,
      "metadata": {},
      "outputs": [],
      "source": [
        "datos = {'key': 'value'}\n",
        "\n",
        "response = requests.post('http://httpbin.org/post', data=datos)\n",
        "print(\"POST con data:\\n\", response.content)"
      ]
    },
    {
      "cell_type": "code",
      "execution_count": null,
      "metadata": {},
      "outputs": [],
      "source": [
        "# Peticiones PUT\n",
        "datos = {'key': 'value'}\n",
        "\n",
        "response = requests.put('http://httpbin.org/put', data=datos)\n",
        "print(\"PUT con data:\\n\", response.content)"
      ]
    },
    {
      "cell_type": "markdown",
      "metadata": {},
      "source": [
        "### Excepción de Certificados\n",
        "\n",
        "Sí.  En un ambiente de desarrollo, es común encontrarse con problemas de certificados SSL, especialmente al trabajar con APIs. Para evitar estos problemas, se puede desactivar la verificación de certificados en las solicitudes HTTP. Sin embargo, esto no se recomienda en producción, ya que puede exponer la aplicación a riesgos de seguridad.\n",
        "Como justamente ahora mismo se presupone que están usando un ambiente de Desarrollo, usaremos un enfoque que ignora la verificación de certificados SSL.\n",
        "\n",
        "En un entorno de producción, se recomienda utilizar un enfoque más seguro, como la validación de certificados y el manejo adecuado de excepciones.\n",
        "\n",
        "Prueba a realizar una solicitud a la API sin desactivar la verificación de certificados y observa el comportamiento:"
      ]
    },
    {
      "cell_type": "code",
      "execution_count": null,
      "metadata": {},
      "outputs": [],
      "source": [
        "import requests\n",
        "\n",
        "response = requests.get('https://jsonplaceholder.typicode.com/posts/1')\n",
        "print(response.text)"
      ]
    },
    {
      "cell_type": "markdown",
      "metadata": {},
      "source": [
        "<img src=\"https://media.tenor.com/PkI9ms2vWvcAAAAj/%E5%B0%8F%E7%8C%AB.gif\" width=100>\n",
        "\n",
        "Lindo, no? jaja\n",
        "\n",
        "Para evitar esto usaremos el argumento `verify=False` en la solicitud.  Va luego de `requests.get()`. Así:"
      ]
    },
    {
      "cell_type": "code",
      "execution_count": null,
      "metadata": {},
      "outputs": [],
      "source": [
        "import requests\n",
        "\n",
        "response = requests.get('https://jsonplaceholder.typicode.com/posts/1', verify=False)\n",
        "print(response.text)"
      ]
    },
    {
      "cell_type": "markdown",
      "metadata": {},
      "source": [
        "### Manejo del Response\n",
        "\n",
        "La variable `response` que venimos manejando contiene toda la información sobre la respuesta del servidor a nuestras peticiones HTTP. Algunos de los atributos más importantes de esta variable son:\n",
        "\n",
        "- `response.status_code`: El código de estado HTTP de la respuesta (por ejemplo, 200 para éxito, 404 para no encontrado).\n",
        "- `response.headers`: Los encabezados de la respuesta, que pueden contener información adicional sobre la misma.\n",
        "- `response.content`: El contenido de la respuesta, que puede ser texto, JSON, imágenes, etc.\n",
        "- `response.text`: El contenido de la respuesta como una cadena de texto (útil para respuestas en formato HTML o texto plano).\n",
        "- `response.raw`: El contenido de la respuesta en su forma cruda (útil para archivos binarios).\n",
        "- `response.cookies`: Las cookies que el servidor ha enviado en la respuesta, en caso que las hubiere.\n",
        "- `response.json()`: Un método que intenta parsear el contenido de la respuesta como JSON y devolverlo como un diccionario de Python.\n",
        "\n",
        "\n",
        "Por ejemplo:"
      ]
    },
    {
      "cell_type": "code",
      "execution_count": null,
      "metadata": {},
      "outputs": [],
      "source": [
        "import requests\n",
        "\n",
        "# Evaluación del Response: Código de estado\n",
        "response = requests.get('http://httpbin.org/get')\n",
        "print(\"Código de estado:\\n\", response.status_code)"
      ]
    },
    {
      "cell_type": "code",
      "execution_count": null,
      "metadata": {},
      "outputs": [],
      "source": [
        "# Evaluación del Response: Encabezado\n",
        "response = requests.get('http://httpbin.org/get')\n",
        "print(\"Encabezados:\\n\", response.headers)"
      ]
    },
    {
      "cell_type": "code",
      "execution_count": null,
      "metadata": {},
      "outputs": [],
      "source": [
        "# Evaluación del Response: Contenido\n",
        "response = requests.get('http://httpbin.org/get')\n",
        "print(\"Contenido:\\n\", response.content)"
      ]
    },
    {
      "cell_type": "code",
      "execution_count": null,
      "metadata": {},
      "outputs": [],
      "source": [
        "# Evaluación del Response: Contenido en formato Texto\n",
        "response = requests.get('http://httpbin.org/get')\n",
        "print(\"Contenido en text:\\n\", response.text)"
      ]
    },
    {
      "cell_type": "code",
      "execution_count": null,
      "metadata": {},
      "outputs": [],
      "source": [
        "# Evaluación del Response: Contenido en formato Raw\n",
        "response = requests.get('http://httpbin.org/get')\n",
        "print(\"Contenido en raw:\\n\", response.raw)"
      ]
    },
    {
      "cell_type": "code",
      "execution_count": null,
      "metadata": {},
      "outputs": [],
      "source": [
        "# Evaluación del Response: Contenido de cookies (Si las hubiere)\n",
        "response = requests.get('http://httpbin.org/get')\n",
        "print(\"Contenido en cookies:\\n\", response.cookies)"
      ]
    },
    {
      "cell_type": "code",
      "execution_count": null,
      "metadata": {},
      "outputs": [],
      "source": [
        "# Evaluación del Response: Contenido en formato JSON\n",
        "response = requests.get('http://httpbin.org/get')\n",
        "print(\"Contenido en JSON:\\n\", response.json())"
      ]
    },
    {
      "cell_type": "markdown",
      "metadata": {},
      "source": [
        "Bueno, cortamos por acá... ya estamos listos para unos ejercicios 🤪"
      ]
    },
    {
      "cell_type": "markdown",
      "metadata": {
        "id": "l5gt8v5bKxOx"
      },
      "source": [
        "***\n",
        "***\n",
        "## *Challenge 1*\n",
        "\n",
        "> Hacé una petición `GET` con Python usando la biblioteca `requests` al siguiente endpoint:\n",
        ">  \n",
        "> http://jsonplaceholder.typicode.com/posts/1\n",
        "> \n",
        "> Mostrar en pantalla el status code y luego imprimirlo con formato JSON.\n",
        "\n",
        "Salida esperada\n",
        "\n",
        "<div style=\"padding-left: 30px;\">\n",
        "\n",
        "```\n",
        "> Status Code: 200\n",
        "> {\n",
        "    \"userId\": 1,\n",
        "    \"id\": 1,\n",
        "    \"title\": \"sunt aut facere repellat provident occaecati excepturi optio reprehenderit\",\n",
        "    \"body\": \"quia et suscipit\\nsuscipit... etc etc etc\"\n",
        "}\n",
        "```\n",
        "</div>"
      ]
    },
    {
      "cell_type": "code",
      "execution_count": null,
      "metadata": {
        "id": "djeoTrCMKxOx"
      },
      "outputs": [],
      "source": [
        "# Challenge 1\n",
        "# Escribe tu código aquí o en un archivo .py a parte.\n"
      ]
    },
    {
      "cell_type": "markdown",
      "metadata": {},
      "source": [
        "***\n",
        "***\n",
        "## *Challenge 2*\n",
        "\n",
        "> Usando el servicio de esta API pública:\n",
        ">  \n",
        "> http://api.ipify.org?format=json\n",
        "> \n",
        "> Mediante un script en Python, realizar una petición `GET` a este endpoint y mostrar en pantalla la dirección IP pública que estás usando. Tratar a esta información como JSON, guardando en una variable el campo `ip`.\n",
        "> \n",
        "> Además diferenciar entre la IP pública y la IP privada (local).\n",
        "> Para ver tu IP Privada, podés usar esto:\n",
        "> \n",
        "> ```python\n",
        ">   import socket\n",
        ">   ip_privada = socket.gethostbyname(socket.gethostname())\n",
        "> ```\n",
        "> Imprimir ambas IP's."
      ]
    },
    {
      "cell_type": "code",
      "execution_count": null,
      "metadata": {},
      "outputs": [],
      "source": [
        "# Challenge 2\n",
        "# Escribe tu código aquí o en un archivo .py a parte."
      ]
    },
    {
      "cell_type": "markdown",
      "metadata": {
        "id": "Lwi_R6tRJQ3B"
      },
      "source": [
        "Bueno. Ya vimos todos los temas de hoy. Estamos listos para unos ejercicios jeje."
      ]
    },
    {
      "cell_type": "markdown",
      "metadata": {
        "id": "BmJMDrRxKxO-"
      },
      "source": [
        "<img src=\"https://i.makeagif.com/media/11-29-2023/Upvaq_.gif\" width=\"300\">"
      ]
    },
    {
      "cell_type": "markdown",
      "metadata": {
        "id": "64qMnk2CJQ3C"
      },
      "source": [
        "***\n",
        "***"
      ]
    },
    {
      "cell_type": "markdown",
      "metadata": {
        "id": "TScHqtd8KxO-"
      },
      "source": [
        "## *Challenge Integrador 1*\n",
        "\n",
        "### Mini-Catálogo de productos - (Dificultad: Media)\n",
        "\n",
        "<style>\n",
        ".alert-atom-info {\n",
        "  background-color: #2c313c;  /* fondo oscuro suave */\n",
        "  color: #c7cfd6ff;             /* custom */\n",
        "  border: 1px solid #3e4451;  /* gris oscuro */\n",
        "  padding: 15px;\n",
        "  border-radius: 5px;\n",
        "  font-family: 'Fira Code', Consolas, monospace;\n",
        "}\n",
        "</style>\n",
        "<div class=\"alert alert-atom-info\">\n",
        "\n",
        "Usá `GET` en el siguiente endpoint para obtener una lista de productos:\n",
        "https://fakestoreapi.com/products\n",
        "\n",
        "Se pide:\n",
        "- Obtener y mostrar una la lista de los **primeros `n` productos. El número `n`** debe ser ingresado por el usuario.\n",
        "- El **precio promedio** de esos `n` productos.\n",
        "\n",
        "**TIP:** Tratar al response como un JSON puede facilitar más el uso de los datos.\n",
        "</div>\n",
        "\n",
        "Salida esperada:\n",
        "\n",
        "<div style=\"padding-left: 30px;\">\n",
        "\n",
        "```\n",
        "Nombre: datos, datos, datos... etc.\n",
        "Nombre: datos, datos, datos... etc.\n",
        "...\n",
        "Nombre N: datos N, datos N, datos N... etc.\n",
        "Precio promedio: [Precio Promero de las N personas]\n",
        "```\n",
        "</div>"
      ]
    },
    {
      "cell_type": "code",
      "execution_count": null,
      "metadata": {},
      "outputs": [],
      "source": [
        "# Challenge Integrador 1\n",
        "# Escribe tu código aquí.\n",
        "# Dado que es un ejercicio largo, te recomiendo que lo hagas en un archivo nuevo .py"
      ]
    },
    {
      "cell_type": "markdown",
      "metadata": {},
      "source": [
        "## *Challenge Integrador 2 (Ejercicio Opcional)*\n",
        "\n",
        "### Práctica de API - (Dificultad: Avanzado)\n",
        "\n",
        "#### Implementación\n",
        "<style>\n",
        ".alert-atom-info {\n",
        "  background-color: #2c313c;  /* fondo oscuro suave */\n",
        "  color: #c7cfd6ff;             /* custom */\n",
        "  border: 1px solid #3e4451;  /* gris oscuro */\n",
        "  padding: 15px;\n",
        "  border-radius: 5px;\n",
        "  font-family: 'Fira Code', Consolas, monospace;\n",
        "}\n",
        "</style>\n",
        "<div class=\"alert alert-atom-info\">\n",
        "\n",
        "Mediante un `POST`, se debe enviar un JSON con lo siguiente:\n",
        "\n",
        "* `title`: Título del post (string)\n",
        "* `body`: Contenido del post (string)\n",
        "* `userId`: ID del usuario (número entero)\n",
        "\n",
        "API elegida: https://jsonplaceholder.typicode.com/posts\n",
        "\n",
        "Se pide:\n",
        "\n",
        "1. Implementar la lógica para enviar un `POST` a la API con los datos requeridos.\n",
        "2. Mostrar el `status_code` y la respuesta del servidor.\n",
        "3. Luego, hacer un `GET` a la API para obtener el post recién creado.\n",
        "\n",
        "</div>\n",
        "\n",
        "Salida esperada:\n",
        "\n",
        "<div style=\"padding-left: 30px;\">\n",
        "\n",
        "```\n",
        "Status Code: [el status_code de la respuesta]\n",
        "Response JSON: [la respuesta JSON]\n",
        "```\n",
        "</div>"
      ]
    },
    {
      "cell_type": "code",
      "execution_count": null,
      "metadata": {
        "id": "vDvm8ZOdKxO-"
      },
      "outputs": [],
      "source": [
        "# Challenge Integrador 2\n",
        "# Escribe tu código aquí.\n",
        "# Dado que es un ejercicio largo, te recomiendo que lo hagas en un archivo nuevo .py"
      ]
    },
    {
      "cell_type": "markdown",
      "metadata": {
        "id": "YEobEgMPJQ3D"
      },
      "source": [
        "***\n",
        "***"
      ]
    }
  ],
  "metadata": {
    "colab": {
      "include_colab_link": true,
      "provenance": []
    },
    "kernelspec": {
      "display_name": "Python 3",
      "language": "python",
      "name": "python3"
    },
    "language_info": {
      "codemirror_mode": {
        "name": "ipython",
        "version": 3
      },
      "file_extension": ".py",
      "mimetype": "text/x-python",
      "name": "python",
      "nbconvert_exporter": "python",
      "pygments_lexer": "ipython3",
      "version": "3.11.4"
    }
  },
  "nbformat": 4,
  "nbformat_minor": 0
}

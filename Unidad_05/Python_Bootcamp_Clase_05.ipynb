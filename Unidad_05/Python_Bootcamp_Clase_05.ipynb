{
  "cells": [
    {
      "cell_type": "markdown",
      "metadata": {
        "colab_type": "text",
        "id": "view-in-github"
      },
      "source": [
        "<a href=\"https://colab.research.google.com/github/GonzaloMartin/Python-Bootcamp/blob/main/Unidad_05/Python_Bootcamp_Clase_05.ipynb\" target=\"_parent\"><img src=\"https://colab.research.google.com/assets/colab-badge.svg\" alt=\"Open In Colab\"/></a>"
      ]
    },
    {
      "cell_type": "markdown",
      "metadata": {
        "id": "-TUcZs7nWywn"
      },
      "source": [
        "<img src=\"https://raw.githubusercontent.com/GonzaloMartin/Python-Bootcamp/refs/heads/main/Assets/python_bootcamp_banner1.png\" width=\"400\">\n",
        "\n",
        "# **Python Bootcamp orientado a la Automatización**\n",
        "\n",
        "La idea es entender los fundamentos de cómo viajan los datos en Internet, cómo funcionan los protocolos que usamos todos los días, y cómo llevar todo eso al entorno de Python.  \n",
        "No te preocupes si algún concepto parece técnico al principio: lo vamos a explicar de manera sencilla, con ejemplos prácticos que puedas probar por tu cuenta."
      ]
    },
    {
      "cell_type": "markdown",
      "metadata": {
        "id": "o9M3M7L0X1nL"
      },
      "source": [
        "# Unidad 5\n",
        "\n",
        "El objetivo de la clase es obtener la primera experiencia de trabajo con programación aprendiendo los siguientes temas.\n",
        "\n",
        "* Redes e Internet\n",
        "* Protocolos HTTP\n",
        "* Requests\n",
        "\n",
        "La clase incluye teoría y práctica sobre cada tema."
      ]
    },
    {
      "cell_type": "markdown",
      "metadata": {
        "id": "hMRV7LXqgTsC"
      },
      "source": [
        "***\n",
        "## Redes e Internet 🌍\n",
        "\n",
        "En primer lugar, para comenzar a usar Python con cualquier web es fundamental comprender primero las nociones básicas del funcionamiento de las redes e internet. El [siguiente artículo](https://developer.mozilla.org/es/docs/Learn_web_development/Howto/Web_mechanics/How_does_the_Internet_work) es una excelente introducción a las redes y su funcionamiento (Su lectura es opcional).\n",
        "\n",
        "En pocas palabras y hablando muy a alto nivel, las redes permiten la comunicación entre dispositivos, y para que esto funcione, se utilizan protocolos que definen cómo se envían y reciben los datos. Python, a través de sus bibliotecas de código, facilita la interacción con estas redes y protocolos, permitiendo a los desarrolladores crear aplicaciones que pueden comunicarse a través de internet de manera eficiente.\n",
        "\n",
        "Algo más que se pueda decir, es que Python cuenta con varias bibliotecas y módulos que simplifican el trabajo con redes, como `socket`, `requests` y `http.server`, entre otros. Estas herramientas permiten realizar tareas como enviar y recibir datos a través de sockets, hacer peticiones HTTP y crear servidores web de manera sencilla."
      ]
    },
    {
      "cell_type": "markdown",
      "metadata": {
        "id": "_SbuATGMJQ2S"
      },
      "source": [
        "### Transferencia de Datos\n",
        "\n",
        "Imaginá a Internet como una red enorme de autopistas. Bueno, en este caso, los autos serán los datos que viajan de un lugar a otro.\n",
        "\n",
        "Cada vez que enviás un mensaje por WhatsApp, mirás un video en YouTube o abrís una página web, lo que ocurre es que varios datos viajan en pequeños paquetes.  \n",
        "Estos paquetes son como cartas dentro de sobres 📩: tienen una dirección de origen, una de destino y el contenido (mensaje).\n",
        "\n",
        "Ejemplo simple:\n",
        "```python\n",
        "- Vos pedís abrir *www.google.com*  \n",
        "- Tu computadora arma un \"paquete\" que viaja hasta los servidores de Google.  \n",
        "- Google responde con otro paquete que contiene el HTML, imágenes, etc.  \n",
        "```\n",
        "\n",
        "En esa maniobra hubo un intercambio de mensajes y datos, en donde se le envió una petición a google, y google respondió con el contenido que le pediste.\n",
        "\n",
        "Por lo tanto: La transferencia de datos es el proceso de mover información de un lugar a otro a través de una red. En el contexto de Python y la programación en general, esto puede implicar el envío de datos entre un cliente y un servidor, la lectura y escritura de archivos, o la comunicación entre diferentes partes de una aplicación."
      ]
    },
    {
      "cell_type": "markdown",
      "metadata": {},
      "source": [
        "### Internet Protocol (IP)\n",
        "\n",
        "El Protocolo de Internet (IP) vendría a ser el \"gps\" en la red. Cada dispositivo conectado (PC, celular, servidor) tuene una dirección IP que lo identifica. No tener una IP, es como enviar una carta sin dirección, es imposible que llegue a destino.\n",
        "\n",
        "Su función principal es dirigir los paquetes de datos desde su origen hasta su destino a través de múltiples redes. Cada dispositivo en Internet tiene una dirección IP única, que actúa como su identificador en la red.\n",
        "\n",
        "Ejemplo:\n",
        "```python\n",
        "- IP típica: \"192.168.0.5\"  \n",
        "- Piensa en ella como la dirección de tu casa, pero en el mundo digital.\n",
        "```\n",
        "\n",
        "Si miramos los números en detalle, podemos ver que la dirección IP se compone de cuatro grupos de números, cada uno de los cuales puede variar de 0 a 255. Estos grupos están separados por puntos y se conocen como \"octetos\", ya que cada grupo equivale a 8 bits. En el ejemplo \"192.168.0.5\", los octetos son 192, 168, 0 y 5. Cada uno de estos octetos tiene un significado específico en la red y ayuda a identificar la ubicación del dispositivo dentro de la misma.\n",
        "\n",
        "### IP Pública e IP Privada\n",
        "\n",
        "Las IP's públicas son las que se asignan a los dispositivos que se conectan directamente a Internet. Son únicas en todo el mundo y permiten que los dispositivos se identifiquen y se comuniquen entre sí a través de la red global. Es la dirección con la que salís al mundo.  Es como tu dirección oficial en Internet.\n",
        "\n",
        "<img src=\"https://raw.githubusercontent.com/GonzaloMartin/Python-Bootcamp/refs/heads/unidad_5/Assets/u5_ips.jpg\" width=\"500\">\n",
        "\n",
        "Las IP's privadas son las que se usan dentro de una red local. No son únicas en todo el mundo y no pueden ser alcanzadas directamente desde Internet. Estas direcciones son útiles para la comunicación interna dentro de una red, como la red de tu casa o la de una oficina.\n",
        "\n",
        "En resumen, las direcciones IP son fundamentales para la comunicación en la red. Las IP's públicas permiten la conexión a Internet, mientras que las IP's privadas facilitan la comunicación interna en redes locales."
      ]
    },
    {
      "cell_type": "markdown",
      "metadata": {},
      "source": [
        "### Sockets 🔌\n",
        "\n",
        "Un **socket** es un \"enchufe digital\" que permite a dos computadoras conectarse y hablar entre sí.\n",
        "Es muy facil: Si el IP es la dirección de la casa, el socket es el número de puerta (puerto) al que vas a tocar el timbre.\n",
        "\n",
        "Ejemplo de puertos comunes:  \n",
        "- Puerto 80 → HTTP (navegación web)  \n",
        "- Puerto 443 → HTTPS (navegación segura)\n",
        "\n",
        "Un socket se puede imaginar como un punto final en una conexión de red. Cada socket está asociado a una dirección IP y un número de puerto, lo que permite identificar de manera única el proceso que está escuchando en ese socket.\n",
        "\n",
        "#### Tipos de Sockets\n",
        "\n",
        "1. **Sockets de flujo (TCP)**: Proporcionan una conexión confiable y orientada a la conexión. Aseguran que los datos se entreguen en el orden correcto y sin pérdidas.\n",
        "2. **Sockets de datagramas (UDP)**: Proporcionan un servicio no confiable y sin conexión. No garantizan la entrega de paquetes ni el orden de los mismos, pero son más rápidos y tienen menos sobrecarga.\n",
        "\n",
        "Los sockets son fundamentales para la comunicación en red y se utilizan en una amplia variedad de aplicaciones, desde navegadores web hasta juegos en línea."
      ]
    },
    {
      "cell_type": "markdown",
      "metadata": {},
      "source": [
        "### Modelo Cliente-Servidor 🖧\n",
        "\n",
        "Hablar sobre el modelo Cliente-Servidor puede llevarnos semanas. Hay mucha teoría detrás, y diversos tipos de modelos basados en esta arquitectura.  Sin embargo vamos a acotarlo en lo esencial, como para poner un punto de partida a la aplicación que le podemos dar en este bootcamp.\n",
        "\n",
        "El modelo cliente-servidor es una arquitectura de red en la que un dispositivo (cliente) solicita servicios o recursos a otro dispositivo (servidor) que los proporciona.\n",
        "\n",
        "Es algo muy simple si seguimos la siguiente analogía. Supongamos, imaginá un restaurante:\n",
        "- **Cliente** = vos, que pedís comida.\n",
        "- **Servidor** = la cocina, que recibe tu pedido y te trae la comida.\n",
        "\n",
        "En Internet pasa lo mismo: tu navegador es el cliente y el servidor es el que responde con la información que solicitaste.\n",
        "\n",
        "<img src=\"https://raw.githubusercontent.com/GonzaloMartin/Python-Bootcamp/refs/heads/unidad_5/Assets/u5_cliente_servidor.jpg\" width=\"500\">\n",
        "\n",
        "Según el profesor [Gregory R. Andrews](https://appliedmath.arizona.edu/person/gregory-r-andrews), el cliente es un proceso desencadenante mientras que el servidor es un proceso reactivo. Lo que significa que el servidor no puede envíar datos o empezar procesos que un cliente no solicitó.\n",
        "\n",
        "Las ventajas que puede traer este modelo son:\n",
        "\n",
        "1. **Escalabilidad**: Los servidores pueden manejar múltiples solicitudes de diferentes clientes simultáneamente.\n",
        "2. **Mantenimiento**: Es más fácil actualizar o modificar el servidor sin afectar a los clientes.\n",
        "3. **Seguridad**: Los datos sensibles pueden ser almacenados y gestionados en el servidor, reduciendo el riesgo en los clientes.\n",
        "\n",
        "En resumen, el modelo cliente-servidor es fundamental para la arquitectura de Internet y permite una interacción eficiente y segura entre los usuarios y los servicios que utilizan."
      ]
    },
    {
      "cell_type": "markdown",
      "metadata": {
        "id": "AFFOtQB7JQ2u"
      },
      "source": [
        "***\n",
        "## Protocolo HTTP 🔗\n",
        "\n",
        "HTTP (HyperText Transfer Protocol) es el idioma que usan navegadores y servidores para comunicarse. Es como un \"contrato\" que define cómo debe pedirse y entregarse la información.\n",
        "Cuando escribís una URL en tu navegador, estás haciendo una solicitud HTTP al servidor que aloja esa página web. El servidor responde con los datos que tu navegador necesita para mostrar la página.\n",
        "\n",
        "Existen los mensajes HTTP que básicamente llevan información sobre la solicitud o la respuesta. Estos mensajes se dividen en dos partes: la cabecera (header) y el cuerpo (body).\n",
        "\n",
        "En palabras simples, el protocolo HTTP define cómo se envían y reciben los mensajes entre el cliente y el servidor. Esto incluye la estructura de los mensajes, los métodos de solicitud, los códigos de estado y otros aspectos importantes de la comunicación web."
      ]
    },
    {
      "cell_type": "markdown",
      "metadata": {},
      "source": [
        "### Requests HTTP\n",
        "\n",
        "Las solicitudes HTTP (o \"requests\") son mensajes enviados por el cliente (por ejemplo, tu navegador) al servidor para solicitar recursos. Una solicitud HTTP típica incluye:\n",
        "\n",
        "1. **Método**: Indica la acción que se desea realizar (GET, POST, PUT, DELETE, etc.). Es el verbo de la solicitud.\n",
        "2. **URL**: La dirección del recurso que se quiere acceder. Es el endpoint del servicio.\n",
        "3. **Cabecera (header)**: Información adicional sobre la solicitud (tipo de contenido, autenticación, etc.).\n",
        "4. **Cuerpo (body)**: Datos que se envían al servidor (en solicitudes POST o PUT). Las solicitudes GET generalmente no incluyen un cuerpo.\n",
        "\n",
        "Pero qué son los métodos? Para qué sirven? De dónde salen? Y las rutas de los endpoints? Cómo se compone un header? Qué información lleva el body?"
      ]
    },
    {
      "cell_type": "markdown",
      "metadata": {},
      "source": [
        "#### Métodos HTTP\n",
        "\n",
        "Los métodos HTTP son un conjunto de verbos que indican la acción que se desea realizar sobre un recurso. Cada método tiene un propósito específico y se utiliza en diferentes situaciones. Los más comunes son:\n",
        "\n",
        "- **GET**: Solicita un recurso. Es el método más utilizado y se usa para obtener datos del servidor.\n",
        "- **POST**: Envía datos al servidor para crear un nuevo recurso. Se utiliza comúnmente en formularios.\n",
        "- **PUT**: Actualiza un recurso existente en el servidor.\n",
        "- **DELETE**: Elimina un recurso del servidor.\n",
        "\n",
        "Estos son parte del protocolo HTTP y están definidos en la especificación del mismo. Los desarrolladores los utilizan para interactuar con APIs y servicios web de manera estandarizada.\n",
        "\n",
        "#### Manejo de Rutas\n",
        "\n",
        "Las rutas de los requests indican la ubicación del recurso en el servidor. Se definen en la URL y pueden incluir parámetros para filtrar o modificar la respuesta.\n",
        "\n",
        "Por ejemplo, en la URL `www.tienda.com/productos/123`, la ruta `/productos/123` indica que se está solicitando el producto con ID 123.\n",
        "\n",
        "Las rutas son fundamentales para que el servidor sepa qué recurso se está solicitando y cómo debe manejar la solicitud. En las APIs REST, las rutas suelen estar estructuradas de manera jerárquica y semántica, lo que facilita la comprensión y el uso de la API.\n",
        "\n",
        "Entonces, desglosando:\n",
        "\n",
        "```code\n",
        "> www.tienda.com/productos/123\n",
        "```\n",
        "\n",
        ">  `https://` → protocolo\n",
        ">\n",
        ">  `www.tienda.com` → servidor\n",
        ">\n",
        ">  `/productos/123` → ruta al recurso\n",
        "\n",
        "\n",
        "#### Cabeceras (Headers)\n",
        "\n",
        "Las cabeceras HTTP son campos de información que se envían junto con la solicitud o la respuesta. Proporcionan información adicional sobre la solicitud, como el tipo de contenido, la longitud del contenido, la autenticación, entre otros. Algunas cabeceras comunes son:\n",
        "\n",
        "- **Content-Type**: Indica el tipo de contenido que se está enviando (por ejemplo, `application/json` para JSON).\n",
        "- **Authorization**: Contiene credenciales para autenticar al usuario (por ejemplo, un token de acceso) Esto es según la implementación del servicio. Como buena práctica, debería existir.\n",
        "- **User-Agent**: Información sobre el cliente que realiza la solicitud (por ejemplo, el navegador y su versión).\n",
        "\n",
        "Las cabeceras son importantes para que el servidor pueda procesar correctamente la solicitud y devolver la respuesta adecuada.\n",
        "\n",
        "#### Cuerpo (Body)\n",
        "\n",
        "El body de una solicitud HTTP es la parte que contiene los datos que se envían al servidor. Esto es especialmente relevante en las solicitudes POST y PUT, donde se envían datos para crear o actualizar un recurso.\n",
        "\n",
        "Puede contener diferentes tipos de datos, como:\n",
        "\n",
        "- **JSON**: Formato de intercambio de datos ligero y fácil de leer. Se utiliza comúnmente en APIs REST.\n",
        "- **Form Data**: Datos de formularios HTML, que se envían como pares clave-valor.\n",
        "- **XML**: Un formato de marcado que se utiliza para estructurar datos.\n",
        "\n",
        "Es importante establecer el tipo de contenido adecuado en la cabecera `Content-Type` para que el servidor pueda interpretar correctamente los datos del body.\n"
      ]
    },
    {
      "cell_type": "markdown",
      "metadata": {
        "id": "l5gt8v5bKxOx"
      },
      "source": [
        "## *Challenge 1*\n",
        "\n",
        "> Utilizando list comprehension, multiplicar cada item de la lista por un número ingresado por el usuario.\n",
        ">\n",
        "> ```python\n",
        "> lista = [1, 3, 5, 7, 13, 17]\n",
        "> ```\n",
        "\n",
        "Ejemplo de Salida:\n",
        "\n",
        "<div style=\"padding-left: 30px;\">\n",
        "\n",
        "```\n",
        ">>> Ingrese un número: 0\n",
        ">>> La lista multiplicada quedó así: [0, 0, 0, 0, 0, 0]\n",
        "```\n",
        "</div>"
      ]
    },
    {
      "cell_type": "code",
      "execution_count": null,
      "metadata": {
        "id": "djeoTrCMKxOx"
      },
      "outputs": [],
      "source": [
        "# Challenge 1\n",
        "# Escribe tu código aquí o en un archivo .py a parte."
      ]
    },
    {
      "cell_type": "markdown",
      "metadata": {
        "id": "wGYhOKgHJQ2w"
      },
      "source": [
        "***\n",
        "***"
      ]
    },
    {
      "cell_type": "markdown",
      "metadata": {
        "id": "Lwi_R6tRJQ3B"
      },
      "source": [
        "Bueno. Ya vimos todos los temas de hoy. Estamos listos para unos ejercicios jeje."
      ]
    },
    {
      "cell_type": "markdown",
      "metadata": {
        "id": "BmJMDrRxKxO-"
      },
      "source": [
        "<img src=\"https://raw.githubusercontent.com/GonzaloMartin/Python-Bootcamp/refs/heads/main/Assets/listos_ejercicios_conspiracy.jpg\" width=\"500\">"
      ]
    },
    {
      "cell_type": "markdown",
      "metadata": {
        "id": "64qMnk2CJQ3C"
      },
      "source": [
        "***\n",
        "***"
      ]
    },
    {
      "cell_type": "markdown",
      "metadata": {
        "id": "TScHqtd8KxO-"
      },
      "source": [
        "## *Challenge Integrador 1*\n",
        "\n",
        "### Calculadora 4.0 - (Dificultad: Media)\n",
        "\n",
        "<style>\n",
        ".alert-atom-info {\n",
        "  background-color: #2c313c;  /* fondo oscuro suave */\n",
        "  color: #c7cfd6ff;             /* custom */\n",
        "  border: 1px solid #3e4451;  /* gris oscuro */\n",
        "  padding: 15px;\n",
        "  border-radius: 5px;\n",
        "  font-family: 'Fira Code', Consolas, monospace;\n",
        "}\n",
        "</style>\n",
        "<div class=\"alert alert-atom-info\">\n",
        "\n",
        "Reescribir la calculadora pero utilizando el diccionario para almacenar las funciones de cada cuenta.\n",
        "\n",
        "**TIP:** Se puede almacenar una función en una variable y utilizarla.\n",
        "\n",
        "Ejemplo:\n",
        "```python\n",
        "    def suma(a, b):\n",
        "        return a+b\n",
        "\n",
        "    calculadora = {\n",
        "        '+': suma,\n",
        "        '-': resta,\n",
        "        '*': multiplicacion,\n",
        "        '/': division\n",
        "    }\n",
        "    print(calculadora['+'](1,2))\n",
        "```\n",
        "</div>"
      ]
    },
    {
      "cell_type": "code",
      "execution_count": null,
      "metadata": {
        "id": "vDvm8ZOdKxO-"
      },
      "outputs": [],
      "source": [
        "# Challenge Integrador 1\n",
        "# Escribe tu código aquí.\n",
        "# Dado que es un ejercicio largo, te recomiendo que lo hagas en un archivo nuevo .py"
      ]
    },
    {
      "cell_type": "markdown",
      "metadata": {
        "id": "YEobEgMPJQ3D"
      },
      "source": [
        "***\n",
        "***"
      ]
    }
  ],
  "metadata": {
    "colab": {
      "include_colab_link": true,
      "provenance": []
    },
    "kernelspec": {
      "display_name": "Python 3",
      "language": "python",
      "name": "python3"
    },
    "language_info": {
      "codemirror_mode": {
        "name": "ipython",
        "version": 3
      },
      "file_extension": ".py",
      "mimetype": "text/x-python",
      "name": "python",
      "nbconvert_exporter": "python",
      "pygments_lexer": "ipython3",
      "version": "3.11.4"
    }
  },
  "nbformat": 4,
  "nbformat_minor": 0
}

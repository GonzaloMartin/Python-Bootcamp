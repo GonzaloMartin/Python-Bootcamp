{
  "cells": [
    {
      "cell_type": "markdown",
      "metadata": {
        "colab_type": "text",
        "id": "view-in-github"
      },
      "source": [
        "<a href=\"https://colab.research.google.com/github/GonzaloMartin/Python-Bootcamp/blob/main/Unidad_04/Python_Bootcamp_Clase_04.ipynb\" target=\"_parent\"><img src=\"https://colab.research.google.com/assets/colab-badge.svg\" alt=\"Open In Colab\"/></a>"
      ]
    },
    {
      "cell_type": "markdown",
      "metadata": {
        "id": "-TUcZs7nWywn"
      },
      "source": [
        "<img src=\"https://raw.githubusercontent.com/GonzaloMartin/Python-Bootcamp/refs/heads/main/Assets/python_bootcamp_banner1.png\" width=\"400\">\n",
        "\n",
        "# **Python Bootcamp orientado a la Automatización**\n",
        "\n",
        "El objetivo de la clase es brindar una introducción a la programación, presentando los fundamentos básicos de informática próximos pasos."
      ]
    },
    {
      "cell_type": "markdown",
      "metadata": {
        "id": "o9M3M7L0X1nL"
      },
      "source": [
        "# Unidad 4\n",
        "\n",
        "El objetivo de la clase es obtener la primera experiencia de trabajo con programación aprendiendo los siguientes temas.\n",
        "\n",
        "* Listas\n",
        "* Tuplas\n",
        "* Conjuntos\n",
        "* Diccionarios\n",
        "* Colecciones\n",
        "\n",
        "La clase incluye teoría y práctica sobre cada tema aprendido."
      ]
    },
    {
      "cell_type": "markdown",
      "metadata": {
        "id": "hMRV7LXqgTsC"
      },
      "source": [
        "## Estructuras de Datos Básicas\n",
        "\n",
        "Las estructuras de datos son una forma de organizar y almacenar datos en un programa para que puedan ser utilizados de manera eficiente. En Python, existen varias estructuras de datos básicas que son fundamentales para la programación. A continuación, se describen las más comunes:\n",
        "\n",
        "1. Listas (`list`).\n",
        "2. Tuplas (`tuple`).\n",
        "3. Conjuntos (`set`).\n",
        "4. Diccionarios (`dict`).\n",
        "5. Colecciones (`collections`)."
      ]
    },
    {
      "cell_type": "markdown",
      "metadata": {},
      "source": [
        "## Listas 📋\n",
        "\n",
        "Una **lista** es una estructura de datos que permite almacenar una **colección ordenada y mutable** de elementos. Las listas son uno de los tipos más usados en Python, y pueden contener elementos de distintos tipos (aunque normalmente se usan con elementos homogéneos, es decir, del mismo tipo).\n",
        "\n",
        "### Características de las Listas\n",
        "\n",
        "Las listas pueden tener varias características importantes:\n",
        "\n",
        "- **Ordenadas**: los elementos tienen un orden definido que no cambia a menos que lo modifiques.\n",
        "\n",
        "```python\n",
        "    lista = [1, 2, 3, 4, 5]  # Los elementos están en un orden específico\n",
        "```\n",
        "\n",
        "- **Mutables**: podés cambiar los elementos luego de haber creado la lista.\n",
        "\n",
        "```python\n",
        "    lista = [1, 2, 3, 4, 5]\n",
        "    lista[0] = 10  # Cambia el primer elemento\n",
        "    print(lista)  # Salida: [10, 2, 3, 4, 5]\n",
        "```\n",
        "\n",
        "- **Permiten duplicados**: pueden contener valores repetidos.\n",
        "\n",
        "```python\n",
        "    lista = [1, 2, 2, 3, 4]  # Contiene el número 2 dos veces\n",
        "```\n",
        "\n",
        "- **Pueden contener cualquier tipo de dato**: incluso otras listas (listas anidadas), y otras estructuras que vamos a ver a lo largo de esta unidad.\n",
        "\n",
        "```python\n",
        "    lista = [1, \"dos\", 3.0, [4, 5]]\n",
        "    print(lista)  # Salida: [1, 'dos', 3.0, [4, 5]]\n",
        "```\n",
        "\n",
        "- **Listas anidadas**: se pueden crear listas dentro de listas, lo que permite estructuras más complejas.\n",
        "\n",
        "```python\n",
        "    lista_anidada = [[1, 2], [3, 4], [5, 6]]\n",
        "    print(lista_anidada)  # Salida: [[1, 2], [3, 4], [5, 6]]\n",
        "```\n",
        "\n",
        "- **Lista Vacía**: una lista puede estar vacía, lo que significa que no contiene elementos.\n",
        "\n",
        "```python\n",
        "    lista_vacia = []\n",
        "    print(lista_vacia)  # Salida: []\n",
        "```\n",
        "\n",
        "### Sintaxis básica\n",
        "\n",
        "Una lista se define utilizando corchetes `[]`, y los elementos se separan por comas. Aquí hay algunos ejemplos de listas:\n",
        "\n",
        "```python\n",
        "lista = [variable1, variable2, ... ]\n",
        "```\n",
        "Veamos un ejemplo:"
      ]
    },
    {
      "cell_type": "code",
      "execution_count": null,
      "metadata": {},
      "outputs": [],
      "source": [
        "# Creo una lista con 8 variables\n",
        "lista = [0, 1, 2, \"tres\", 'cuatro', True, False, 0.5, \"10\"]"
      ]
    },
    {
      "cell_type": "markdown",
      "metadata": {},
      "source": [
        "### Acceso a Variables en una Lista\n",
        "\n",
        "En una lista se puede acceder a los elementos utilizando índices. Los índices comienzan en 0, lo que significa que el primer elemento de la lista tiene un índice de 0, el segundo elemento tiene un índice de 1, y así sucesivamente.\n",
        "\n",
        "```python\n",
        "    numeros = [10, 20, 30, 40, 50]\n",
        "\n",
        "    print(numeros[0])  # Primer elemento -> 10\n",
        "    print(numeros[3])  # Cuarto elemento -> 40\n",
        "```\n",
        "Se pueden usar índices negativos para acceder a los elementos desde el final de la lista. Por ejemplo, `numeros[-1]` accede al último elemento de la lista.\n",
        "\n",
        "```python\n",
        "    print(numeros[-1])  # Último elemento -> 50\n",
        "    print(numeros[-2])  # Anteúltimo elemento -> 40\n",
        "```\n",
        "\n",
        "**Observación**: Si intentás acceder a un índice que no existe (por ejemplo, un índice mayor que la longitud de la lista o un índice negativo que exceda el tamaño de la lista), obtendrás un error `IndexError`."
      ]
    },
    {
      "cell_type": "code",
      "execution_count": null,
      "metadata": {},
      "outputs": [],
      "source": [
        "lista_de_numeros = [1, 2, 3, 4, 5]\n",
        "print(lista_de_numeros[20])\n",
        "# Esto generará un error de índice, ya que el índice 20 no existe."
      ]
    },
    {
      "cell_type": "markdown",
      "metadata": {},
      "source": [
        "## Slicing de Listas\n",
        "\n",
        "El **slicing** (o corte) de listas te permite obtener una sublista de una lista original. Esto se hace especificando un rango de índices [inicio:fin]. La sintaxis básica es:\n",
        "\n",
        "```python\n",
        "    sublista = lista[inicio:fin]\n",
        "```\n",
        "\n",
        "Por ejemplo, si tenés una lista de números y querés obtener los primeros tres elementos:\n",
        "\n",
        "```python\n",
        "    numeros = [10, 20, 30, 40, 50]\n",
        "    sublista = numeros[0:3]  # Obtiene los elementos en los índices 0, 1 y 2\n",
        "    print(sublista)  # Salida: [10, 20, 30]\n",
        "```\n",
        "\n",
        "Si omitís el índice de inicio, Python asume que querés empezar desde el principio de la lista. Si omitís el índice de fin, Python va a asumir que querés ir hasta el final de la lista.\n",
        "\n",
        "```python\n",
        "    sublista = numeros[:3]  # Equivalente a numeros[0:3]\n",
        "    print(sublista)  # Salida: [10, 20, 30]\n",
        "\n",
        "    sublista = numeros[2:]  # Obtiene desde el índice 2 hasta el final\n",
        "    print(sublista)  # Salida: [30, 40, 50]\n",
        "```\n",
        "\n",
        "Ejemplo:"
      ]
    },
    {
      "cell_type": "code",
      "execution_count": null,
      "metadata": {},
      "outputs": [],
      "source": [
        "letras = ['a', 'b', 'c', 'd', 'e']\n",
        "\n",
        "print(letras[1:4])   # Imprime ['b', 'c', 'd']\n",
        "print(letras[:3])    # Imprime ['a', 'b', 'c']\n",
        "print(letras[2:])    # Imprime ['c', 'd', 'e']\n",
        "print(letras[-3:])   # Imprime ['c', 'd', 'e']"
      ]
    },
    {
      "cell_type": "markdown",
      "metadata": {
        "id": "MxX2mZvGKxOt"
      },
      "source": [
        "### Operaciones con Listas\n",
        "\n",
        "Al igual que las cadenas de texto, las listas tienen varias operaciones que podés realizar. Algunas de las más comunes son:\n",
        "\n",
        "- **Concatenación**: Podés concatenar dos listas utilizando el operador `+`."
      ]
    },
    {
      "cell_type": "code",
      "execution_count": null,
      "metadata": {},
      "outputs": [],
      "source": [
        "lista1 = [1, 2, 3]\n",
        "lista2 = [4, 5, 6]\n",
        "lista_concatenada = lista1 + lista2\n",
        "print(lista_concatenada)  # Salida: [1, 2, 3, 4, 5, 6]"
      ]
    },
    {
      "cell_type": "markdown",
      "metadata": {},
      "source": [
        "- **Repetición**: Podés repetir una lista varias veces utilizando el operador `*`."
      ]
    },
    {
      "cell_type": "code",
      "execution_count": null,
      "metadata": {},
      "outputs": [],
      "source": [
        "lista1 = [1, 2, 3]\n",
        "\n",
        "lista_repetida = lista1 * 3\n",
        "print(lista_repetida)  # Salida: [1, 2, 3, 1, 2, 3, 1, 2, 3]"
      ]
    },
    {
      "cell_type": "markdown",
      "metadata": {},
      "source": [
        "- **Longitud**: Podés obtener la cantidad de elementos en una lista utilizando la función `len()`."
      ]
    },
    {
      "cell_type": "code",
      "execution_count": null,
      "metadata": {},
      "outputs": [],
      "source": [
        "numeros = [1, 2, 3, 4, 5]\n",
        "print(len(numeros))  # Salida: 5"
      ]
    },
    {
      "cell_type": "markdown",
      "metadata": {},
      "source": [
        "- **Verificación de pertenencia**: Podés verificar si un elemento está en una lista usando el operador `in`."
      ]
    },
    {
      "cell_type": "code",
      "execution_count": null,
      "metadata": {},
      "outputs": [],
      "source": [
        "numeros = [1, 2, 3, 4, 5]\n",
        "print(3 in numeros)  # Salida: True\n",
        "print(9 in numeros)  # Salida: False"
      ]
    },
    {
      "cell_type": "markdown",
      "metadata": {},
      "source": [
        "### Funciones y Métodos de Listas\n",
        "\n",
        "Al igual que los strings, las listas tienen varias funciones y métodos que podés utilizar para manipularlas. Su nomenclatura es similar a la de los strings, pero con algunas diferencias:\n",
        "\n",
        "```python\n",
        "    lista.nombre_funcion(argumentos)\n",
        "```\n",
        "\n",
        "Podemos encontrar una lista de estas funciones [acá](https://docs.python.org/3/tutorial/datastructures.html#more-on-lists).\n",
        "\n",
        "Veamos algunas:\n",
        "\n",
        "- **`append()`**: Agrega un elemento al final de la lista."
      ]
    },
    {
      "cell_type": "code",
      "execution_count": null,
      "metadata": {},
      "outputs": [],
      "source": [
        "numeros = [10, 20, 30]\n",
        "numeros.append(40)\n",
        "print(numeros)  # Salida: [10, 20, 30, 40]"
      ]
    },
    {
      "cell_type": "markdown",
      "metadata": {},
      "source": [
        "- **`insert()`**: Inserta un elemento en una posición específica de la lista."
      ]
    },
    {
      "cell_type": "code",
      "execution_count": null,
      "metadata": {},
      "outputs": [],
      "source": [
        "numeros = [10, 20, 30]\n",
        "numeros.insert(1, 15)  # Inserta 15 en el índice 1\n",
        "print(numeros)  # Salida: [10, 15, 20, 30]"
      ]
    },
    {
      "cell_type": "markdown",
      "metadata": {},
      "source": [
        "- **`remove()`**: Elimina el primer elemento de la lista que coincida con el valor especificado."
      ]
    },
    {
      "cell_type": "code",
      "execution_count": null,
      "metadata": {},
      "outputs": [],
      "source": [
        "numeros = [10, 20, 30, 20]\n",
        "numeros.remove(20)  # Elimina el primer 20\n",
        "print(numeros)  # Salida: [10, 30, 20]"
      ]
    },
    {
      "cell_type": "markdown",
      "metadata": {},
      "source": [
        "- **`pop()`**: Elimina y devuelve el último elemento de la lista (o el elemento en el índice especificado)."
      ]
    },
    {
      "cell_type": "code",
      "execution_count": null,
      "metadata": {},
      "outputs": [],
      "source": [
        "numeros = [10, 20, 30]\n",
        "ultimo = numeros.pop()  # Elimina y devuelve el último elemento\n",
        "print(f\"Elemento Borrado: {ultimo}\")  # Salida: 30\n",
        "print(f\"La lista quedó así: {numeros}\")  # Salida: [10, 20]"
      ]
    },
    {
      "cell_type": "markdown",
      "metadata": {},
      "source": [
        "- **`Delete`**: Podés eliminar un elemento de la lista utilizando la palabra clave `del` junto con el índice del elemento que querés eliminar.\n",
        "\n",
        "    _Diferencia entre `pop()` y `Delete`:_ Pop  elimina un elemento de la lista y lo devuelve, mientras que `del` simplemente elimina el elemento sin devolverlo."
      ]
    },
    {
      "cell_type": "code",
      "execution_count": null,
      "metadata": {},
      "outputs": [],
      "source": [
        "numeros = [10, 20, 30, 40]\n",
        "del numeros[1]  # Elimina el elemento en el índice 1 (20)\n",
        "print(numeros)  # Salida: [10, 30, 40]"
      ]
    },
    {
      "cell_type": "markdown",
      "metadata": {},
      "source": [
        "- **`sort()`**: Ordena los elementos de la lista en su lugar."
      ]
    },
    {
      "cell_type": "code",
      "execution_count": null,
      "metadata": {},
      "outputs": [],
      "source": [
        "numeros = [30, 10, 20]\n",
        "numeros.sort()\n",
        "print(numeros)  # Salida: [10, 20, 30]"
      ]
    },
    {
      "cell_type": "markdown",
      "metadata": {},
      "source": [
        "- **`reverse()`**: Invierte el orden de los elementos en la lista."
      ]
    },
    {
      "cell_type": "code",
      "execution_count": null,
      "metadata": {},
      "outputs": [],
      "source": [
        "numeros = [10, 20, 30]\n",
        "numeros.reverse()\n",
        "print(numeros)  # Salida: [30, 20, 10]"
      ]
    },
    {
      "cell_type": "markdown",
      "metadata": {},
      "source": [
        "- **`clear()`**: Elimina todos los elementos de la lista, dejándola vacía."
      ]
    },
    {
      "cell_type": "code",
      "execution_count": null,
      "metadata": {},
      "outputs": [],
      "source": [
        "numeros = [10, 20, 30]\n",
        "numeros.clear()\n",
        "print(numeros)  # Salida: []"
      ]
    },
    {
      "cell_type": "markdown",
      "metadata": {},
      "source": [
        "- **`count()`**: Devuelve la cantidad de veces que un elemento aparece en la lista."
      ]
    },
    {
      "cell_type": "code",
      "execution_count": null,
      "metadata": {},
      "outputs": [],
      "source": [
        "numeros = [10, 20, 30, 20]\n",
        "cantidad = numeros.count(20)\n",
        "print(cantidad)  # Salida: 2"
      ]
    },
    {
      "cell_type": "markdown",
      "metadata": {},
      "source": [
        "- **`index()`**: Devuelve el índice del primer elemento que coincide con el valor especificado."
      ]
    },
    {
      "cell_type": "code",
      "execution_count": null,
      "metadata": {},
      "outputs": [],
      "source": [
        "numeros = [10, 20, 30, 20]\n",
        "indice = numeros.index(20)\n",
        "print(indice)  # Salida: 1 (el primer 20 está en el índice 1)"
      ]
    },
    {
      "cell_type": "markdown",
      "metadata": {},
      "source": [
        "- **`extend()`**: Agrega los elementos de otra lista al final de la lista actual.\n",
        "\n",
        "    _Difencia entre `extend()` y concatenación de listas con el operador `+`:_ Por un lado, `extend()` modifica la lista original agregando los elementos de otra lista, mientras que la concatenación con `+` crea una nueva lista sin modificar las originales."
      ]
    },
    {
      "cell_type": "code",
      "execution_count": null,
      "metadata": {},
      "outputs": [],
      "source": [
        "numeros = [10, 20, 30]\n",
        "numeros.extend([40, 50])\n",
        "print(numeros)  # Salida: [10, 20, 30, 40, 50]"
      ]
    },
    {
      "cell_type": "markdown",
      "metadata": {},
      "source": [
        "### List Comprehensions\n",
        "\n",
        "Las **list comprehensions** o comprensiones de listas son una forma directa y eficiente de crear listas en Python usando una sintaxis clara y expresiva.\n",
        "\n",
        "_Y para qué sirve?_\n",
        "\n",
        "Permiten crear una nueva lista aplicando una expresión a cada elemento de una secuencia (como una lista o un rango) y, opcionalmente, filtrando elementos según una condición.  Su objetivo es simplificar la creación de listas y hacer el código más legible y conciso.\n",
        "\n",
        "#### Sintaxis\n",
        "\n",
        "```python\n",
        "    nueva_lista = [expresión for item in rango_iterable if condición]\n",
        "```\n",
        "\n",
        "Ejemplos:"
      ]
    },
    {
      "cell_type": "code",
      "execution_count": null,
      "metadata": {},
      "outputs": [],
      "source": [
        "# Creamos una lista con los valores 0, 1, 2, 3\n",
        "lista = [x for x in range(0,4)]\n",
        "print(f\"Lista: {lista}\")"
      ]
    },
    {
      "cell_type": "code",
      "execution_count": null,
      "metadata": {},
      "outputs": [],
      "source": [
        "# Creamos una lista con los valores 0, 2, 4, 6\n",
        "lista_pares = [2*x for x in range(0,4)]\n",
        "print(f\"Lista de números Pares: {lista}\")"
      ]
    },
    {
      "cell_type": "code",
      "execution_count": null,
      "metadata": {},
      "outputs": [],
      "source": [
        "# Convertir letras a mayúsculas\n",
        "letras = ['a', 'b', 'c']\n",
        "mayusculas = [letra.upper() for letra in letras]\n",
        "print(f\"Letras en mayúsculas: {mayusculas}\")"
      ]
    },
    {
      "cell_type": "code",
      "execution_count": null,
      "metadata": {},
      "outputs": [],
      "source": [
        "# Multiplicar elementos de una lista\n",
        "valores = [1, 2, 3]\n",
        "dobles = [v * 2 for v in valores]\n",
        "print(f\"Valores dobles: {dobles}\")"
      ]
    },
    {
      "cell_type": "markdown",
      "metadata": {
        "id": "l5gt8v5bKxOx"
      },
      "source": [
        "### Challenge 1\n",
        "\n",
        "Utilizando list comprehension, multiplicar cada item de la lista por un número ingresado por el usuario.\n",
        "\n",
        "```python\n",
        "lista = [1, 3, 5, 7, 13, 17]\n",
        "```\n",
        "\n",
        "Ejemplo de Salida:\n",
        "```\n",
        ">>> Ingrese un número: 0\n",
        ">>> La lista multiplicada quedó así: [0, 0, 0, 0, 0, 0]\n",
        "```"
      ]
    },
    {
      "cell_type": "code",
      "execution_count": null,
      "metadata": {
        "id": "djeoTrCMKxOx"
      },
      "outputs": [],
      "source": [
        "# Challenge 1\n",
        "# Escribe tu código aquí o en un archivo .py a parte."
      ]
    },
    {
      "cell_type": "markdown",
      "metadata": {},
      "source": [
        "### Challenge 2\n",
        "Dada la siguiente lista:\n",
        "\n",
        "```python\n",
        "lista = [14, 3, 6, 27]\n",
        "```\n",
        "Se pide crear listas nuevas con las siguientes características:\n",
        "1. La primera mitad de la lista.\n",
        "2. La lista ordenada de menor a mayor.\n",
        "3. La lista ordenada de mayor a menor.\n",
        "4. La segunda mitad de la lista ordenada de mayor a menor.\n",
        "\n",
        "Salida esperada:\n",
        "```\n",
        ">>> Punto 1: [14, 3]\n",
        ">>> Punto 2: [3, 6, 14, 27]\n",
        ">>> Punto 3: [27, 14, 6, 3]\n",
        ">>> Punto 4: [6, 3]\n",
        "```"
      ]
    },
    {
      "cell_type": "code",
      "execution_count": null,
      "metadata": {},
      "outputs": [],
      "source": [
        "# Challenge 2\n",
        "# Escribe tu código aquí o en un archivo .py a parte."
      ]
    },
    {
      "cell_type": "markdown",
      "metadata": {},
      "source": [
        "### Challenge 3\n",
        "\n",
        "Imprimir una lista en orden inverso sin utilizar la función `reverse()`.\n",
        "\n",
        "Ejemplo:\n",
        "\n",
        "```python\n",
        "    lista = [1, 2, \"tres\"]\n",
        "```\n",
        "\n",
        "Ejemplo de Salida:\n",
        "```\n",
        ">>> \"tres\"\n",
        ">>> 2\n",
        ">>> 1\n",
        "```"
      ]
    },
    {
      "cell_type": "code",
      "execution_count": null,
      "metadata": {},
      "outputs": [],
      "source": [
        "# Challenge 3\n",
        "# Escribe tu código aquí o en un archivo .py a parte."
      ]
    },
    {
      "cell_type": "markdown",
      "metadata": {
        "id": "kQ-i_Br1KxO-"
      },
      "source": [
        "Bueno. Ya vimos todos los temas de hoy. Estamos listos para unos ejercicios jeje."
      ]
    },
    {
      "cell_type": "markdown",
      "metadata": {
        "id": "BmJMDrRxKxO-"
      },
      "source": [
        "<img src=\"https://raw.githubusercontent.com/GonzaloMartin/Python-Bootcamp/refs/heads/main/Assets/listos_ejercicios.jpg\" width=\"500\">"
      ]
    },
    {
      "cell_type": "markdown",
      "metadata": {
        "id": "TScHqtd8KxO-"
      },
      "source": [
        "## Challenge Integrador 1\n",
        "\n",
        "### Calculadora 3.0 - (Dificultad: Media)\n",
        "\n",
        "Implementar una calculadora interactiva parecida a las anteriores (pueden reutilizar código de la calculadora que ya hicieron), pero que permita al usuario ingresar operaciones matemáticas básicas (suma, resta, multiplicación y división) hasta que decida salir del programa ingresando \"salir\". La calculadora debe permitir al usuario ingresar dos números y una operación, y luego mostrar el resultado. Si el usuario ingresa \"salir\", el programa debe terminar.\n",
        "\n",
        "\n",
        "#### Ejemplo de salida esperada:\n",
        "```\n",
        ">>> 4\n",
        ">>> *\n",
        ">>> 2\n",
        "8\n",
        ">>> +\n",
        ">>> 2\n",
        "10\n",
        ">>> -\n",
        ">>> 4\n",
        "6\n",
        ">>> /\n",
        ">>> 6\n",
        "1\n",
        ">>> salir\n",
        "Fin del programa.\n",
        "```"
      ]
    },
    {
      "cell_type": "code",
      "execution_count": null,
      "metadata": {
        "id": "vDvm8ZOdKxO-"
      },
      "outputs": [],
      "source": [
        "# Challenge Integrador 1\n",
        "# Escribe tu código aquí.\n",
        "# Dado que es un ejercicio largo, te recomiendo que lo hagas en un archivo nuevo .py"
      ]
    },
    {
      "cell_type": "markdown",
      "metadata": {
        "id": "R0aYFG_OKxO-"
      },
      "source": [
        "## Challenge Integrador 2\n",
        "\n",
        "### Conjetura de Collatz - (Dificultad: Baja)\n",
        "\n",
        "La conjetura de Collatz, también conocida como el problema 3n + 1, es un problema matemático no resuelto que plantea una secuencia de números enteros.\n",
        "\n",
        "Proviene del matemático **Lothar Collatz**, que conjeturó que la siguiente secuencia siempre converge a 1 en una cantidad finita de pasos para cualquier número entero positivo.\n",
        "\n",
        "*  Si el número es par, lo divido por 2.\n",
        "*  Si el número es impar, lo multiplico por 3 y le sumo 1.\n",
        "\n",
        "En términos matemáticos:\n",
        "\n",
        "Si $f(n)$ es par &nbsp;&nbsp;&nbsp;&nbsp; $f(n+1) = \\frac{f(n)}{2}$\n",
        "\n",
        "Si $f(n)$ es impar $f(n+1) = 3 \\cdot f(n) +1$\n",
        "\n",
        "\n",
        "### Implementación\n",
        "\n",
        "Escribir un programa que le pida al usuario un número entero positivo y aplique la conjetura de Collatz.\n",
        "Se pide imprimir la cantidad de pasos necesarios que le toma al programa para llegar al valor 1.\n",
        "\n",
        "Ejemplo:\n",
        "\n",
        "Ingreso por teclado el valor $`3`$:\n",
        "\n",
        "$3 → 10 → 5 → 16 → 8 → 4 → 2 → 1$\n",
        "\n",
        "```\n",
        ">>> 3\n",
        "7\n",
        "```\n",
        "\n",
        "Ingreso por teclado el valor $`4`$:\n",
        "\n",
        "$4 → 2 → 1$\n",
        "\n",
        "```\n",
        ">>> 4\n",
        "2\n",
        "```"
      ]
    },
    {
      "cell_type": "code",
      "execution_count": null,
      "metadata": {
        "id": "Ct1ov_NmKxO_"
      },
      "outputs": [],
      "source": [
        "# Challenge Integrador 2\n",
        "# Escribe tu código aquí.\n",
        "# Dado que es un ejercicio largo, te recomiendo que lo hagas en un archivo nuevo .py"
      ]
    },
    {
      "cell_type": "markdown",
      "metadata": {
        "id": "j6Al7uKBKxO_"
      },
      "source": [
        "## Challenge Integrador 3\n",
        "\n",
        "### Triángulo Rectángulo - (Dificultad: Media)\n",
        "\n",
        "Un triángulo rectángulo es un triángulo que tiene un ángulo recto (90 grados). En este caso, el triángulo se representará en la consola utilizando caracteres ASCII.\n",
        "\n",
        "### Implementación\n",
        "\n",
        "Escribir un programa que pida por teclado al usuario la altura de un triángulo y lo imprima en la consola. El triángulo debe estar alineado a la izquierda y ser de tipo rectángulo. La altura del triángulo debe ser un número entero positivo.\n",
        "\n",
        "#### Ejemplos de salida esperada:\n",
        "\n",
        "```Code\n",
        ">>> Ingrese la altura del triángulo: 3\n",
        "\n",
        "|\\\n",
        "| \\\n",
        "|__\\\n",
        "```\n",
        "\n",
        "```Code\n",
        ">>> Ingrese la altura del triángulo: 4\n",
        "\n",
        "|\\\n",
        "| \\\n",
        "|  \\\n",
        "|___\\\n",
        "```"
      ]
    },
    {
      "cell_type": "code",
      "execution_count": null,
      "metadata": {
        "id": "BOhIcfJpKxO_"
      },
      "outputs": [],
      "source": [
        "# Challenge Integrador 3\n",
        "# Escribe tu código aquí.\n",
        "# Dado que es un ejercicio largo, te recomiendo que lo hagas en un archivo nuevo .py"
      ]
    },
    {
      "cell_type": "markdown",
      "metadata": {
        "id": "9xraOxHgKxO_"
      },
      "source": [
        "## Challenge Integrador 4  (Ejercicio Opcional)\n",
        "\n",
        "### Gestor de Alumnos - (Dificultad: Avanzado)\n",
        "\n",
        "Construir una aplicación que permita:\n",
        "- Cargar datos de estudiantes por consola.\n",
        "- Guardarlos en un archivo de texto (`estudiantes.txt`).\n",
        "- Leer ese archivo para generar estadísticas y reportes sobre el desempeño de los alumnos.\n",
        "- Generar un segundo archivo (`reporte.txt`) con un resumen detallado.\n",
        "\n",
        "→ Usar funciones para dividir el código en partes: entrada, validación, análisis, reporte.\n",
        "\n",
        "→ Validar bien los datos antes de escribirlos en el archivo.\n",
        "\n",
        "→ Pensar en cómo estructurar el archivo para poder leerlo fácilmente después.\n",
        "\n",
        "### Implementación\n",
        "\n",
        "Parte 1: Registro de Estudiantes.\n",
        "\n",
        "1. Pedir al usuario cuántos estudiantes desea registrar.\n",
        "2. Por cada estudiante:\n",
        "   - Pedir **nombre**, **apellido** y **nota**.\n",
        "   - Validar:\n",
        "     - Que nombre y apellido no estén vacíos.\n",
        "     - Que la nota sea un número entre `1` y `10`.\n",
        "3. Guardar cada registro en el archivo `estudiantes.txt` con el siguiente formato:\n",
        "\n",
        "```\n",
        "Nombre Apellido;Nota\n",
        "```\n",
        "\n",
        "Parte 2: Análisis de Desempeño.\n",
        "\n",
        "1. Leer el archivo `estudiantes.txt`.\n",
        "2. Para cada estudiante, clasificarlo como:\n",
        "    - **Destacado**: nota > 7\n",
        "    - **Regular**: nota entre 4 y 7 (inclusive)\n",
        "    - **Desaprobado**: nota < 4\n",
        "3. Calcular y mostrar por consola:\n",
        "    - Total de alumnos.\n",
        "    - Promedio general de la clase.\n",
        "    - Cantidad de alumnos por categoría.\n",
        "    - Mejor nota de la clase y el nombre del estudiante.\n",
        "    - Peor nota de la clase y el nombre del estudiante.\n",
        "\n",
        "Parte 3: Generación de Reporte.\n",
        "\n",
        "Crear un archivo `reporte.txt` con este formato:\n",
        "\n",
        "```\n",
        "Alumnos registrados: 5\n",
        "Promedio general: 6.4\n",
        "Alumnos destacados: 2\n",
        "Alumnos regulares: 2\n",
        "Alumnos desaprobados: 1\n",
        "\n",
        "Mejor nota: 9 (Cindy Nero)\n",
        "Peor nota: 3 (Armando Esteban Quito)\n",
        "```\n",
        "\n"
      ]
    },
    {
      "cell_type": "code",
      "execution_count": null,
      "metadata": {
        "id": "3xbzgE81KxO_"
      },
      "outputs": [],
      "source": [
        "# Challenge Integrador 4\n",
        "# Escribe tu código aquí.\n",
        "# Dado que es un ejercicio largo, te recomiendo que lo hagas en un archivo nuevo .py"
      ]
    }
  ],
  "metadata": {
    "colab": {
      "include_colab_link": true,
      "provenance": []
    },
    "kernelspec": {
      "display_name": "Python 3",
      "language": "python",
      "name": "python3"
    },
    "language_info": {
      "codemirror_mode": {
        "name": "ipython",
        "version": 3
      },
      "file_extension": ".py",
      "mimetype": "text/x-python",
      "name": "python",
      "nbconvert_exporter": "python",
      "pygments_lexer": "ipython3",
      "version": "3.11.4"
    }
  },
  "nbformat": 4,
  "nbformat_minor": 0
}

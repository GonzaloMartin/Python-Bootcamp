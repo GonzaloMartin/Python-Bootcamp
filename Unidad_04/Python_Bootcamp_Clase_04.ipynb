{
  "cells": [
    {
      "cell_type": "markdown",
      "metadata": {
        "colab_type": "text",
        "id": "view-in-github"
      },
      "source": [
        "<a href=\"https://colab.research.google.com/github/GonzaloMartin/Python-Bootcamp/blob/main/Unidad_04/Python_Bootcamp_Clase_04.ipynb\" target=\"_parent\"><img src=\"https://colab.research.google.com/assets/colab-badge.svg\" alt=\"Open In Colab\"/></a>"
      ]
    },
    {
      "cell_type": "markdown",
      "metadata": {
        "id": "-TUcZs7nWywn"
      },
      "source": [
        "<img src=\"https://raw.githubusercontent.com/GonzaloMartin/Python-Bootcamp/refs/heads/main/Assets/python_bootcamp_banner1.png\" width=\"400\">\n",
        "\n",
        "# **Python Bootcamp orientado a la Automatización**\n",
        "\n",
        "El objetivo de la clase es brindar una introducción a la programación, presentando los fundamentos básicos de informática próximos pasos."
      ]
    },
    {
      "cell_type": "markdown",
      "metadata": {
        "id": "o9M3M7L0X1nL"
      },
      "source": [
        "# Unidad 4\n",
        "\n",
        "El objetivo de la clase es obtener la primera experiencia de trabajo con programación aprendiendo los siguientes temas.\n",
        "\n",
        "* Listas\n",
        "* Tuplas\n",
        "* Conjuntos\n",
        "* Diccionarios\n",
        "\n",
        "La clase incluye teoría y práctica sobre cada tema aprendido."
      ]
    },
    {
      "cell_type": "markdown",
      "metadata": {
        "id": "hMRV7LXqgTsC"
      },
      "source": [
        "## Estructuras de Datos Básicas\n",
        "\n",
        "Las estructuras de datos son una forma de organizar y almacenar datos en un programa para que puedan ser utilizados de manera eficiente. En Python, existen varias estructuras de datos básicas que son fundamentales para la programación. A continuación, se describen las más comunes:\n",
        "\n",
        "1. Listas (`list`).\n",
        "2. Tuplas (`tuple`).\n",
        "3. Conjuntos (`set`).\n",
        "4. Diccionarios (`dict`).\n",
        "5. Colecciones (`collections`)."
      ]
    },
    {
      "cell_type": "markdown",
      "metadata": {},
      "source": [
        "## Listas 📋\n",
        "\n",
        "Una **lista** es una estructura de datos que permite almacenar una **colección ordenada y mutable** de elementos. Las listas son uno de los tipos más usados en Python, y pueden contener elementos de distintos tipos (aunque normalmente se usan con elementos homogéneos, es decir, del mismo tipo).\n",
        "\n",
        "### Características de las Listas\n",
        "\n",
        "Las listas pueden tener varias características importantes:\n",
        "\n",
        "- **Ordenadas**: los elementos tienen un orden definido que no cambia a menos que lo modifiques.\n",
        "\n",
        "```python\n",
        "    lista = [1, 2, 3, 4, 5]  # Los elementos están en un orden específico\n",
        "```\n",
        "\n",
        "- **Mutables**: podés cambiar los elementos luego de haber creado la lista.\n",
        "\n",
        "```python\n",
        "    lista = [1, 2, 3, 4, 5]\n",
        "    lista[0] = 10  # Cambia el primer elemento\n",
        "    print(lista)  # Salida: [10, 2, 3, 4, 5]\n",
        "```\n",
        "\n",
        "- **Permiten duplicados**: pueden contener valores repetidos.\n",
        "\n",
        "```python\n",
        "    lista = [1, 2, 2, 3, 4]  # Contiene el número 2 dos veces\n",
        "```\n",
        "\n",
        "- **Pueden contener cualquier tipo de dato**: incluso otras listas (listas anidadas), y otras estructuras que vamos a ver a lo largo de esta unidad.\n",
        "\n",
        "```python\n",
        "    lista = [1, \"dos\", 3.0, [4, 5]]\n",
        "    print(lista)  # Salida: [1, 'dos', 3.0, [4, 5]]\n",
        "```\n",
        "\n",
        "- **Listas anidadas**: se pueden crear listas dentro de listas, lo que permite estructuras más complejas.\n",
        "\n",
        "```python\n",
        "    lista_anidada = [[1, 2], [3, 4], [5, 6]]\n",
        "    print(lista_anidada)  # Salida: [[1, 2], [3, 4], [5, 6]]\n",
        "```\n",
        "\n",
        "- **Lista Vacía**: una lista puede estar vacía, lo que significa que no contiene elementos.\n",
        "\n",
        "```python\n",
        "    lista_vacia = []\n",
        "    print(lista_vacia)  # Salida: []\n",
        "```\n",
        "\n",
        "### Sintaxis básica\n",
        "\n",
        "Una lista se define utilizando corchetes `[]`, y los elementos se separan por comas. Aquí hay algunos ejemplos de listas:\n",
        "\n",
        "```python\n",
        "lista = [variable1, variable2, ... ]\n",
        "```\n",
        "Veamos un ejemplo:"
      ]
    },
    {
      "cell_type": "code",
      "execution_count": null,
      "metadata": {},
      "outputs": [],
      "source": [
        "# Creo una lista con 8 variables\n",
        "lista = [0, 1, 2, \"tres\", 'cuatro', True, False, 0.5, \"10\"]"
      ]
    },
    {
      "cell_type": "markdown",
      "metadata": {},
      "source": [
        "### Acceso a Variables en una Lista\n",
        "\n",
        "En una lista se puede acceder a los elementos utilizando índices. Los índices comienzan en 0, lo que significa que el primer elemento de la lista tiene un índice de 0, el segundo elemento tiene un índice de 1, y así sucesivamente.\n",
        "\n",
        "```python\n",
        "    numeros = [10, 20, 30, 40, 50]\n",
        "\n",
        "    print(numeros[0])  # Primer elemento -> 10\n",
        "    print(numeros[3])  # Cuarto elemento -> 40\n",
        "```\n",
        "Se pueden usar índices negativos para acceder a los elementos desde el final de la lista. Por ejemplo, `numeros[-1]` accede al último elemento de la lista.\n",
        "\n",
        "```python\n",
        "    print(numeros[-1])  # Último elemento -> 50\n",
        "    print(numeros[-2])  # Anteúltimo elemento -> 40\n",
        "```\n",
        "\n",
        "**Observación**: Si intentás acceder a un índice que no existe (por ejemplo, un índice mayor que la longitud de la lista o un índice negativo que exceda el tamaño de la lista), obtendrás un error `IndexError`."
      ]
    },
    {
      "cell_type": "code",
      "execution_count": null,
      "metadata": {},
      "outputs": [],
      "source": [
        "lista_de_numeros = [1, 2, 3, 4, 5]\n",
        "print(lista_de_numeros[20])\n",
        "# Esto generará un error de índice, ya que el índice 20 no existe."
      ]
    },
    {
      "cell_type": "markdown",
      "metadata": {},
      "source": [
        "## Slicing de Listas\n",
        "\n",
        "El **slicing** (o corte) de listas te permite obtener una sublista de una lista original. Esto se hace especificando un rango de índices [inicio:fin]. La sintaxis básica es:\n",
        "\n",
        "```python\n",
        "    sublista = lista[inicio:fin]\n",
        "```\n",
        "\n",
        "Por ejemplo, si tenés una lista de números y querés obtener los primeros tres elementos:\n",
        "\n",
        "```python\n",
        "    numeros = [10, 20, 30, 40, 50]\n",
        "    sublista = numeros[0:3]  # Obtiene los elementos en los índices 0, 1 y 2\n",
        "    print(sublista)  # Salida: [10, 20, 30]\n",
        "```\n",
        "\n",
        "Si omitís el índice de inicio, Python asume que querés empezar desde el principio de la lista. Si omitís el índice de fin, Python va a asumir que querés ir hasta el final de la lista.\n",
        "\n",
        "```python\n",
        "    sublista = numeros[:3]  # Equivalente a numeros[0:3]\n",
        "    print(sublista)  # Salida: [10, 20, 30]\n",
        "\n",
        "    sublista = numeros[2:]  # Obtiene desde el índice 2 hasta el final\n",
        "    print(sublista)  # Salida: [30, 40, 50]\n",
        "```\n",
        "\n",
        "Ejemplo:"
      ]
    },
    {
      "cell_type": "code",
      "execution_count": null,
      "metadata": {},
      "outputs": [],
      "source": [
        "letras = ['a', 'b', 'c', 'd', 'e']\n",
        "\n",
        "print(letras[1:4])   # Imprime ['b', 'c', 'd']\n",
        "print(letras[:3])    # Imprime ['a', 'b', 'c']\n",
        "print(letras[2:])    # Imprime ['c', 'd', 'e']\n",
        "print(letras[-3:])   # Imprime ['c', 'd', 'e']"
      ]
    },
    {
      "cell_type": "markdown",
      "metadata": {
        "id": "MxX2mZvGKxOt"
      },
      "source": [
        "### Operaciones con Listas\n",
        "\n",
        "Al igual que las cadenas de texto, las listas tienen varias operaciones que podés realizar. Algunas de las más comunes son:\n",
        "\n",
        "- **Concatenación**: Podés concatenar dos listas utilizando el operador `+`."
      ]
    },
    {
      "cell_type": "code",
      "execution_count": null,
      "metadata": {},
      "outputs": [],
      "source": [
        "lista1 = [1, 2, 3]\n",
        "lista2 = [4, 5, 6]\n",
        "lista_concatenada = lista1 + lista2\n",
        "print(lista_concatenada)  # Salida: [1, 2, 3, 4, 5, 6]"
      ]
    },
    {
      "cell_type": "markdown",
      "metadata": {},
      "source": [
        "- **Repetición**: Podés repetir una lista varias veces utilizando el operador `*`."
      ]
    },
    {
      "cell_type": "code",
      "execution_count": null,
      "metadata": {},
      "outputs": [],
      "source": [
        "lista1 = [1, 2, 3]\n",
        "\n",
        "lista_repetida = lista1 * 3\n",
        "print(lista_repetida)  # Salida: [1, 2, 3, 1, 2, 3, 1, 2, 3]"
      ]
    },
    {
      "cell_type": "markdown",
      "metadata": {},
      "source": [
        "- **Longitud**: Podés obtener la cantidad de elementos en una lista utilizando la función `len()`."
      ]
    },
    {
      "cell_type": "code",
      "execution_count": null,
      "metadata": {},
      "outputs": [],
      "source": [
        "numeros = [1, 2, 3, 4, 5]\n",
        "print(len(numeros))  # Salida: 5"
      ]
    },
    {
      "cell_type": "markdown",
      "metadata": {},
      "source": [
        "- **Verificación de pertenencia**: Podés verificar si un elemento está en una lista usando el operador `in`."
      ]
    },
    {
      "cell_type": "code",
      "execution_count": null,
      "metadata": {},
      "outputs": [],
      "source": [
        "numeros = [1, 2, 3, 4, 5]\n",
        "print(3 in numeros)  # Salida: True\n",
        "print(9 in numeros)  # Salida: False"
      ]
    },
    {
      "cell_type": "markdown",
      "metadata": {},
      "source": [
        "### Funciones y Métodos de Listas\n",
        "\n",
        "Al igual que los strings, las listas tienen varias funciones y métodos que podés utilizar para manipularlas. Su nomenclatura es similar a la de los strings, pero con algunas diferencias:\n",
        "\n",
        "```python\n",
        "    lista.nombre_funcion(argumentos)\n",
        "```\n",
        "\n",
        "Podemos encontrar una lista de estas funciones [acá](https://docs.python.org/3/tutorial/datastructures.html#more-on-lists).\n",
        "\n",
        "Veamos algunas:\n",
        "\n",
        "- **`append()`**: Agrega un elemento al final de la lista."
      ]
    },
    {
      "cell_type": "code",
      "execution_count": null,
      "metadata": {},
      "outputs": [],
      "source": [
        "numeros = [10, 20, 30]\n",
        "numeros.append(40)\n",
        "print(numeros)  # Salida: [10, 20, 30, 40]"
      ]
    },
    {
      "cell_type": "markdown",
      "metadata": {},
      "source": [
        "- **`insert()`**: Inserta un elemento en una posición específica de la lista."
      ]
    },
    {
      "cell_type": "code",
      "execution_count": null,
      "metadata": {},
      "outputs": [],
      "source": [
        "numeros = [10, 20, 30]\n",
        "numeros.insert(1, 15)  # Inserta 15 en el índice 1\n",
        "print(numeros)  # Salida: [10, 15, 20, 30]"
      ]
    },
    {
      "cell_type": "markdown",
      "metadata": {},
      "source": [
        "- **`remove()`**: Elimina el primer elemento de la lista que coincida con el valor especificado."
      ]
    },
    {
      "cell_type": "code",
      "execution_count": null,
      "metadata": {},
      "outputs": [],
      "source": [
        "numeros = [10, 20, 30, 20]\n",
        "numeros.remove(20)  # Elimina el primer 20\n",
        "print(numeros)  # Salida: [10, 30, 20]"
      ]
    },
    {
      "cell_type": "markdown",
      "metadata": {},
      "source": [
        "- **`pop()`**: Elimina y devuelve el último elemento de la lista (o el elemento en el índice especificado)."
      ]
    },
    {
      "cell_type": "code",
      "execution_count": null,
      "metadata": {},
      "outputs": [],
      "source": [
        "numeros = [10, 20, 30]\n",
        "ultimo = numeros.pop()  # Elimina y devuelve el último elemento\n",
        "print(f\"Elemento Borrado: {ultimo}\")  # Salida: 30\n",
        "print(f\"La lista quedó así: {numeros}\")  # Salida: [10, 20]"
      ]
    },
    {
      "cell_type": "markdown",
      "metadata": {},
      "source": [
        "- **`Delete`**: Podés eliminar un elemento de la lista utilizando la palabra clave `del` junto con el índice del elemento que querés eliminar.\n",
        "\n",
        "    _Diferencia entre `pop()` y `Delete`:_ Pop  elimina un elemento de la lista y lo devuelve, mientras que `del` simplemente elimina el elemento sin devolverlo."
      ]
    },
    {
      "cell_type": "code",
      "execution_count": null,
      "metadata": {},
      "outputs": [],
      "source": [
        "numeros = [10, 20, 30, 40]\n",
        "del numeros[1]  # Elimina el elemento en el índice 1 (20)\n",
        "print(numeros)  # Salida: [10, 30, 40]"
      ]
    },
    {
      "cell_type": "markdown",
      "metadata": {},
      "source": [
        "- **`sort()`**: Ordena los elementos de la lista en su lugar."
      ]
    },
    {
      "cell_type": "code",
      "execution_count": null,
      "metadata": {},
      "outputs": [],
      "source": [
        "numeros = [30, 10, 20]\n",
        "numeros.sort()\n",
        "print(numeros)  # Salida: [10, 20, 30]"
      ]
    },
    {
      "cell_type": "markdown",
      "metadata": {},
      "source": [
        "- **`reverse()`**: Invierte el orden de los elementos en la lista."
      ]
    },
    {
      "cell_type": "code",
      "execution_count": null,
      "metadata": {},
      "outputs": [],
      "source": [
        "numeros = [10, 20, 30]\n",
        "numeros.reverse()\n",
        "print(numeros)  # Salida: [30, 20, 10]"
      ]
    },
    {
      "cell_type": "markdown",
      "metadata": {},
      "source": [
        "- **`clear()`**: Elimina todos los elementos de la lista, dejándola vacía."
      ]
    },
    {
      "cell_type": "code",
      "execution_count": null,
      "metadata": {},
      "outputs": [],
      "source": [
        "numeros = [10, 20, 30]\n",
        "numeros.clear()\n",
        "print(numeros)  # Salida: []"
      ]
    },
    {
      "cell_type": "markdown",
      "metadata": {},
      "source": [
        "- **`count()`**: Devuelve la cantidad de veces que un elemento aparece en la lista."
      ]
    },
    {
      "cell_type": "code",
      "execution_count": null,
      "metadata": {},
      "outputs": [],
      "source": [
        "numeros = [10, 20, 30, 20]\n",
        "cantidad = numeros.count(20)\n",
        "print(cantidad)  # Salida: 2"
      ]
    },
    {
      "cell_type": "markdown",
      "metadata": {},
      "source": [
        "- **`index()`**: Devuelve el índice del primer elemento que coincide con el valor especificado."
      ]
    },
    {
      "cell_type": "code",
      "execution_count": null,
      "metadata": {},
      "outputs": [],
      "source": [
        "numeros = [10, 20, 30, 20]\n",
        "indice = numeros.index(20)\n",
        "print(indice)  # Salida: 1 (el primer 20 está en el índice 1)"
      ]
    },
    {
      "cell_type": "markdown",
      "metadata": {},
      "source": [
        "- **`extend()`**: Agrega los elementos de otra lista al final de la lista actual.\n",
        "\n",
        "    _Difencia entre `extend()` y concatenación de listas con el operador `+`:_ Por un lado, `extend()` modifica la lista original agregando los elementos de otra lista, mientras que la concatenación con `+` crea una nueva lista sin modificar las originales."
      ]
    },
    {
      "cell_type": "code",
      "execution_count": null,
      "metadata": {},
      "outputs": [],
      "source": [
        "numeros = [10, 20, 30]\n",
        "numeros.extend([40, 50])\n",
        "print(numeros)  # Salida: [10, 20, 30, 40, 50]"
      ]
    },
    {
      "cell_type": "markdown",
      "metadata": {},
      "source": [
        "### List Comprehensions\n",
        "\n",
        "Las **list comprehensions** o comprensiones de listas son una forma directa y eficiente de crear listas en Python usando una sintaxis clara y expresiva.\n",
        "\n",
        "_Y para qué sirve?_\n",
        "\n",
        "Permiten crear una nueva lista aplicando una expresión a cada elemento de una secuencia (como una lista o un rango) y, opcionalmente, filtrando elementos según una condición.  Su objetivo es simplificar la creación de listas y hacer el código más legible y conciso.\n",
        "\n",
        "#### Sintaxis\n",
        "\n",
        "```python\n",
        "    nueva_lista = [expresión for item in rango_iterable if condición]\n",
        "```\n",
        "\n",
        "Ejemplos:"
      ]
    },
    {
      "cell_type": "code",
      "execution_count": null,
      "metadata": {},
      "outputs": [],
      "source": [
        "# Creamos una lista con los valores 0, 1, 2, 3\n",
        "lista = [x for x in range(0,4)]\n",
        "print(f\"Lista: {lista}\")"
      ]
    },
    {
      "cell_type": "code",
      "execution_count": null,
      "metadata": {},
      "outputs": [],
      "source": [
        "# Creamos una lista con los valores 0, 2, 4, 6\n",
        "lista_pares = [2*x for x in range(0,4)]\n",
        "print(f\"Lista de números Pares: {lista}\")"
      ]
    },
    {
      "cell_type": "code",
      "execution_count": null,
      "metadata": {},
      "outputs": [],
      "source": [
        "# Convertir letras a mayúsculas\n",
        "letras = ['a', 'b', 'c']\n",
        "mayusculas = [letra.upper() for letra in letras]\n",
        "print(f\"Letras en mayúsculas: {mayusculas}\")"
      ]
    },
    {
      "cell_type": "code",
      "execution_count": null,
      "metadata": {},
      "outputs": [],
      "source": [
        "# Multiplicar elementos de una lista\n",
        "valores = [1, 2, 3]\n",
        "dobles = [v * 2 for v in valores]\n",
        "print(f\"Valores dobles: {dobles}\")"
      ]
    },
    {
      "cell_type": "markdown",
      "metadata": {
        "id": "l5gt8v5bKxOx"
      },
      "source": [
        "### Challenge 1\n",
        "\n",
        "Utilizando list comprehension, multiplicar cada item de la lista por un número ingresado por el usuario.\n",
        "\n",
        "```python\n",
        "lista = [1, 3, 5, 7, 13, 17]\n",
        "```\n",
        "\n",
        "Ejemplo de Salida:\n",
        "```\n",
        ">>> Ingrese un número: 0\n",
        ">>> La lista multiplicada quedó así: [0, 0, 0, 0, 0, 0]\n",
        "```"
      ]
    },
    {
      "cell_type": "code",
      "execution_count": null,
      "metadata": {
        "id": "djeoTrCMKxOx"
      },
      "outputs": [],
      "source": [
        "# Challenge 1\n",
        "# Escribe tu código aquí o en un archivo .py a parte."
      ]
    },
    {
      "cell_type": "markdown",
      "metadata": {},
      "source": [
        "### Challenge 2\n",
        "Dada la siguiente lista:\n",
        "\n",
        "```python\n",
        "lista = [14, 3, 6, 27]\n",
        "```\n",
        "Se pide crear listas nuevas con las siguientes características:\n",
        "1. La primera mitad de la lista.\n",
        "2. La lista ordenada de menor a mayor.\n",
        "3. La lista ordenada de mayor a menor.\n",
        "4. La segunda mitad de la lista ordenada de mayor a menor.\n",
        "\n",
        "Salida esperada:\n",
        "```\n",
        ">>> Punto 1: [14, 3]\n",
        ">>> Punto 2: [3, 6, 14, 27]\n",
        ">>> Punto 3: [27, 14, 6, 3]\n",
        ">>> Punto 4: [6, 3]\n",
        "```"
      ]
    },
    {
      "cell_type": "code",
      "execution_count": null,
      "metadata": {},
      "outputs": [],
      "source": [
        "# Challenge 2\n",
        "# Escribe tu código aquí o en un archivo .py a parte."
      ]
    },
    {
      "cell_type": "markdown",
      "metadata": {},
      "source": [
        "### Challenge 3\n",
        "\n",
        "Imprimir una lista en orden inverso sin utilizar la función `reverse()`.\n",
        "\n",
        "Ejemplo:\n",
        "\n",
        "```python\n",
        "    lista = [1, 2, \"tres\"]\n",
        "```\n",
        "\n",
        "Ejemplo de Salida:\n",
        "```\n",
        ">>> \"tres\"\n",
        ">>> 2\n",
        ">>> 1\n",
        "```"
      ]
    },
    {
      "cell_type": "code",
      "execution_count": null,
      "metadata": {},
      "outputs": [],
      "source": [
        "# Challenge 3\n",
        "# Escribe tu código aquí o en un archivo .py a parte."
      ]
    },
    {
      "cell_type": "markdown",
      "metadata": {},
      "source": [
        "## Tuplas 🧩\n",
        "\n",
        "Una **tupla** es una estructura de datos que permite almacenar una colección ordenada e inmutable de elementos. Al igual que las listas, las tuplas pueden contener elementos de diferentes tipos, pero a diferencia de las listas, una vez que se crea una tupla, no se puede modificar.\n",
        "\n",
        "Las tuplas son más ligeras en términos de memoria en comparación con las listas, lo que las hace más eficientes para almacenar datos que no necesitan ser modificados.\n",
        "También son útiles para representar datos que deben permanecer constantes a lo largo del tiempo, como coordenadas, fechas, o cualquier otro conjunto de valores que no deban cambiar."
      ]
    },
    {
      "cell_type": "markdown",
      "metadata": {},
      "source": [
        "### Sintaxis Básica de Tuplas\n",
        "\n",
        "Una tupla se define utilizando paréntesis `()`, y los elementos se separan por comas. Aquí hay algunos ejemplos de tuplas:\n",
        "\n",
        "```python\n",
        "tupla = (variable1, variable2, ...)\n",
        "```\n",
        "\n",
        "Ejemplos:\n",
        "\n",
        "```python\n",
        "    tupla_numeros = (1, 2, 3)  # Tupla de números\n",
        "    tupla_letras = (\"a\", \"b\", \"c\")  # Tupla de cadenas de texto\n",
        "    dias = (\"lunes\", \"martes\", \"miércoles\")  # Tupla de días de la semana\n",
        "    tupla_unica = (42,)  # Tupla con un solo elemento (lleva la coma!)\n",
        "    tupla_vacia = ()  # Tupla vacía\n",
        "```"
      ]
    },
    {
      "cell_type": "markdown",
      "metadata": {},
      "source": [
        "### Características de las Tuplas\n",
        "\n",
        "Las tuplas tienen varias características importantes:\n",
        "\n",
        "- **Ordenadas**: los elementos tienen un orden definido que no cambia a menos que se cree una nueva tupla.\n",
        "\n",
        "```python\n",
        "    tupla = (1, 2, 3, 4, 5)  # Los elementos están en un orden específico\n",
        "```\n",
        "\n",
        "- **Inmutables**: una vez creada, no se pueden cambiar los elementos de la tupla. Esto significa que no podés agregar, eliminar o modificar elementos.\n",
        "\n",
        "```python\n",
        "    tupla = (1, 2, 3, 4, 5)\n",
        "    # tupla[0] = 10  # Esto generaría un error TypeError\n",
        "```\n",
        "\n",
        "- **Permiten duplicados**: pueden contener valores repetidos.\n",
        "\n",
        "```python\n",
        "    tupla = (1, 2, 2, 3, 4)  # Contiene el número 2 dos veces\n",
        "```\n",
        "\n",
        "- **Pueden contener cualquier tipo de dato**: incluso otras tuplas (tuplas anidadas), y otras estructuras que vamos a ver a lo largo de esta unidad.\n",
        "\n",
        "```python\n",
        "    tupla = (1, \"dos\", 3.0, (4, 5))\n",
        "    print(tupla)  # Salida: (1, 'dos', 3.0, (4, 5))\n",
        "```\n",
        "\n",
        "- **Tuplas anidadas**: se pueden crear tuplas dentro de tuplas, lo que permite estructuras más complejas.\n",
        "\n",
        "```python\n",
        "    tupla_anidada = ((1, 2), (3, 4), (5, 6))\n",
        "    print(tupla_anidada)  # Salida: ((1, 2), (3, 4), (5, 6))\n",
        "```\n",
        "\n",
        "- **Tupla Vacía**: una tupla puede estar vacía, lo que significa que no contiene elementos.\n",
        "\n",
        "```python\n",
        "    tupla_vacia = ()\n",
        "    print(tupla_vacia)  # Salida: ()\n",
        "```"
      ]
    },
    {
      "cell_type": "markdown",
      "metadata": {},
      "source": [
        "### Acceso a Elementos en una Tupla\n",
        "\n",
        "Al igual que las listas, podés acceder a los elementos de una tupla utilizando índices. Los índices comienzan en 0, lo que significa que el primer elemento de la tupla tiene un índice de 0, el segundo elemento tiene un índice de 1, y así sucesivamente.\n",
        "\n",
        "```python\n",
        "    tupla = (10, 20, 30, 40, 50)\n",
        "\n",
        "    print(tupla[0])  # Primer elemento -> 10\n",
        "    print(tupla[3])  # Cuarto elemento -> 40\n",
        "```\n",
        "\n",
        "Podés usar índices negativos para acceder a los elementos desde el final de la tupla. Por ejemplo, `tupla[-1]` accede al último elemento de la tupla.\n",
        "\n",
        "```python\n",
        "    print(tupla[-1])  # Último elemento -> 50\n",
        "    print(tupla[-2])  # Anteúltimo elemento -> 40\n",
        "```"
      ]
    },
    {
      "cell_type": "markdown",
      "metadata": {},
      "source": [
        "### Slicing de Tuplas\n",
        "\n",
        "Al igual que las listas, el **slicing** (o corte) de tuplas te permite obtener una subtupla de una tupla original. Esto se hace especificando un rango de índices [inicio:fin]. La sintaxis básica es:\n",
        "\n",
        "```python\n",
        "    subtupla = tupla[inicio:fin]\n",
        "```\n",
        "\n",
        "Ejemplo:"
      ]
    },
    {
      "cell_type": "code",
      "execution_count": null,
      "metadata": {},
      "outputs": [],
      "source": [
        "numeros = (10, 20, 30, 40, 50)\n",
        "\n",
        "print(numeros[1:4])   # (20, 30, 40)\n",
        "print(numeros[:3])    # (10, 20, 30)\n",
        "print(numeros[-2:])   # (40, 50)"
      ]
    },
    {
      "cell_type": "markdown",
      "metadata": {},
      "source": [
        "### Inmutabilidad de las Tuplas\n",
        "\n",
        "A diferencia de las listas, las tuplas son inmutables, lo que significa que no podés cambiar sus elementos una vez que se han creado. Esto tiene implicaciones importantes:\n",
        "\n",
        "- No podés agregar, eliminar o modificar elementos de una tupla.\n",
        "- Si intentás hacerlo, obtendrás un error `TypeError`.\n",
        "- Sin embargo, podés crear una nueva tupla a partir de una existente, combinando elementos de varias tuplas o modificando los elementos de una tupla.\n",
        "- También podés convertir una tupla en una lista, modificar la lista y luego volver a convertirla en una tupla.\n",
        "\n",
        "La inmutabilidad...\n",
        "\n",
        "- ...hace útiles para almacenar datos que no deben cambiar, como coordenadas geográficas, fechas, etc.\n",
        "- ...permite que las tuplas se utilicen como claves en diccionarios, mientras que las listas no pueden ser utilizadas como claves debido a su mutabilidad.\n",
        "- ...puede mejorar el rendimiento en ciertas situaciones, ya que Python puede optimizar el almacenamiento y la manipulación de tuplas debido a su naturaleza inmutable."
      ]
    },
    {
      "cell_type": "code",
      "execution_count": null,
      "metadata": {},
      "outputs": [],
      "source": [
        "mi_tupla = (1, 2, 3)\n",
        "\n",
        "# Esto genera un error:\n",
        "mi_tupla[0] = 100  # ❌ TypeError"
      ]
    },
    {
      "cell_type": "markdown",
      "metadata": {},
      "source": [
        "### Desempaquetado de Tuplas\n",
        "\n",
        "El **desempaquetado de tuplas** es una técnica que te permite asignar los elementos de una tupla a variables individuales de manera sencilla. Esto es especialmente útil cuando tenés una tupla con varios elementos y querés trabajar con ellos por separado.\n",
        "\n",
        "#### Sintaxis\n",
        "\n",
        "```python\n",
        "    variable1, variable2, ... = tupla\n",
        "```\n",
        "\n",
        "Ejemplo\n",
        "\n",
        "```python\n",
        "    fin_de_semana = (\"sabado\", \"domingo\")\n",
        "\n",
        "    # Desempaqueta los elementos de la tupla en variables individuales\n",
        "    finde_1, finde_2 = fin_de_semana\n",
        "    print(finde_1)  # Salida: sabado\n",
        "    print(finde_2)  # Salida: domingo\n",
        "```\n",
        "\n",
        "Si quiero desempaquetar en variables pero sólamente me interesa uno de ellos, puedo usar el guion bajo `_` como variable para ignorar el valor:\n",
        "\n",
        "```python\n",
        "    tupla = (1, 2, 3)\n",
        "\n",
        "    a, _, c = tupla  # Ignora el segundo elemento\n",
        "    print(a)  # Salida: 1\n",
        "    print(c)  # Salida: 3\n",
        "```"
      ]
    },
    {
      "cell_type": "markdown",
      "metadata": {},
      "source": [
        "### Pocos Métodos disponibles\n",
        "\n",
        "A diferencia de las listas, las tuplas tienen menos métodos disponibles debido a su inmutabilidad. Algunos de los métodos más comunes son:\n",
        "\n",
        "- **`count()`**: Devuelve la cantidad de veces que un elemento aparece en la tupla."
      ]
    },
    {
      "cell_type": "code",
      "execution_count": null,
      "metadata": {},
      "outputs": [],
      "source": [
        "tupla = (1, 2, 2, 3, 4)\n",
        "print(tupla.count(2))  # Salida: 2"
      ]
    },
    {
      "cell_type": "markdown",
      "metadata": {},
      "source": [
        "- **`index()`**: Devuelve el índice del primer elemento que coincide con el valor especificado."
      ]
    },
    {
      "cell_type": "code",
      "execution_count": null,
      "metadata": {},
      "outputs": [],
      "source": [
        "tupla = (1, 2, 3, 4, 5)\n",
        "print(tupla.index(3))  # Salida: 2"
      ]
    },
    {
      "cell_type": "markdown",
      "metadata": {},
      "source": [
        "### Conversión entre Listas y Tuplas\n",
        "\n",
        "Podés convertir una lista en una tupla y viceversa utilizando las funciones `tuple()` y `list()`. Esto es útil cuando necesitás cambiar la estructura de datos según tus necesidades.\n",
        "\n",
        "```python\n",
        "    lista = [1, 2, 3]\n",
        "    tupla = tuple(lista)  # Convierte la lista en una tupla\n",
        "    print(tupla)  # Salida: (1, 2, 3)\n",
        "\n",
        "    nueva_lista = list(tupla)  # Convierte la tupla en una lista\n",
        "    print(nueva_lista)  # Salida: [1, 2, 3]\n",
        "```"
      ]
    },
    {
      "cell_type": "markdown",
      "metadata": {},
      "source": [
        "### ¿Tuple Comprehension? La verdad sobre los generadores con paréntesis 🔄\n",
        "\n",
        "En Python, no existe una sintaxis específica para crear tuplas de manera similar a las list comprehensions. Sin embargo, podés utilizar generadores con paréntesis para lograr un efecto similar.\n",
        "\n",
        "No vamos a ahondar sobre generadores en esta unidad, pero es importante mencionar que los generadores son una forma de crear iteradores que generan valores bajo demanda, lo que puede ser útil para ahorrar memoria y mejorar el rendimiento en ciertos casos.\n",
        "\n",
        "Entonces, retomando, similar a las listas, podemos generarlas tuplas utilizando la estructura for, pero debemos indicarle con la palabra `tuple` para que Python entienda que queremos una tupla y no un generador.\n",
        "\n",
        "```python\n",
        "    tupla_generada = tuple(x for x in range(5))  # Crea una tupla ordenada\n",
        "    print(tupla_generada)  # Salida: (0, 1, 2, 3, 4)\n",
        "```\n",
        "\n",
        "Otro ejemplo:"
      ]
    },
    {
      "cell_type": "code",
      "execution_count": null,
      "metadata": {},
      "outputs": [],
      "source": [
        "# Creamos una tupla con el cuadrado de los números pares de 0 a 10\n",
        "tupla = tuple(x ** 2 for x in range(0, 10, 2))\n",
        "\n",
        "print(tupla)"
      ]
    },
    {
      "cell_type": "markdown",
      "metadata": {},
      "source": [
        "### Challenge 4\n",
        "\n",
        "A partir de una tupla que contenga los valores de 0 al 20, generar otra tupla que contenga unicamente los valores pares.\n",
        "\n",
        "**TIP**: `for x in tupla` itera sobre cada valor de la tupla.\n",
        "\n",
        "Ejemplo de salida:\n",
        "\n",
        "```\n",
        "tupla = (0, 1, 2, 3, 4, 5, 6, 7, 8, 9, 10, 11, 12, 13, 14, 15, 16, 17, 18, 19, 20)\n",
        "tupla_pares = (0, 2, 4, 6, 8, 10, 12, 14, 16, 18, 20)\n",
        "```"
      ]
    },
    {
      "cell_type": "code",
      "execution_count": null,
      "metadata": {},
      "outputs": [],
      "source": [
        "# Challenge 4\n",
        "# Escribe tu código aquí o en un archivo .py a parte."
      ]
    },
    {
      "cell_type": "markdown",
      "metadata": {},
      "source": [
        "## Conjuntos 🔗\n",
        "\n",
        "Un **conjunto** (o set) es una estructura de datos que permite almacenar **una colección no ordenada y mutable** de elementos únicos. Los conjuntos son útiles cuando necesitás almacenar elementos sin duplicados y no te importa el orden en que se almacenan. \n",
        "\n",
        "Se basan en la teoría de conjuntos y permiten realizar operaciones matemáticas como **unión, intersección, diferencia** y **diferencia simétrica** de forma muy eficiente.\n",
        "\n",
        "\n",
        "### Características principales\n",
        "\n",
        "| Propiedad             | Valor |\n",
        "|-----------------------|-------|\n",
        "| **Orden**             | No mantienen orden fijo |\n",
        "| **Mutabilidad**       | Mutables (podés agregar o quitar elementos) |\n",
        "| **Elementos únicos**  | No se permiten duplicados |\n",
        "| **Tipos permitidos**  | Los de uso común, salvo listas y sets |"
      ]
    },
    {
      "cell_type": "markdown",
      "metadata": {},
      "source": [
        "### Sintaxis básica de Sets\n",
        "\n",
        "Un conjunto se define utilizando llaves `{}` o la función `set()`. Aquí hay algunos ejemplos de conjuntos:\n",
        "\n",
        "```python\n",
        "    conjunto = {variable1, variable2, ...}\n",
        "```\n",
        "\n",
        "\n",
        "Ejemplos básicos:\n",
        "\n",
        "```python\n",
        "    # Conjunto vacío\n",
        "    vacio = set()   # No poner llaves!\n",
        "```\n",
        "\n",
        "```python\n",
        "    # Conjunto con elementos\n",
        "    vocales = {'a', 'e', 'i', 'o', 'u'}\n",
        "```\n"
      ]
    },
    {
      "cell_type": "markdown",
      "metadata": {},
      "source": [
        "### Acceso a Elementos en un Conjunto\n",
        "\n",
        "A diferencia de las listas y tuplas, los conjuntos no permiten acceder a sus elementos mediante índices, ya que no tienen un orden definido. Sin embargo, podés verificar si un elemento está presente en un conjunto utilizando el operador `in`.  Esto es parecido a  cómo se verifica la pertenencia en una lista, pero con la diferencia de que acá es aplicado en un conjunto.\n",
        "\n",
        "```python\n",
        "    conjunto = {1, 2, 3, 4, 5}\n",
        "\n",
        "    print(3 in conjunto)  # Salida: True\n",
        "    print(6 in conjunto)  # Salida: False\n",
        "```"
      ]
    },
    {
      "cell_type": "markdown",
      "metadata": {},
      "source": [
        "### Operaciones y Funciones con Conjuntos\n",
        "\n",
        "Los conjuntos tienen varias operaciones que podés realizar. Algunas de las más comunes son:\n",
        "\n",
        "- **Unión**: Combina dos conjuntos y devuelve un nuevo conjunto con todos los elementos únicos de ambos conjuntos."
      ]
    },
    {
      "cell_type": "code",
      "execution_count": null,
      "metadata": {},
      "outputs": [],
      "source": [
        "conjunto1 = {1, 2, 3}\n",
        "conjunto2 = {3, 4, 5}\n",
        "union = conjunto1 | conjunto2  # O también: conjunto1.union(conjunto2)\n",
        "print(union)  # Salida: {1, 2, 3, 4, 5}"
      ]
    },
    {
      "cell_type": "markdown",
      "metadata": {},
      "source": [
        "- **Intersección**: Devuelve un nuevo conjunto con los elementos que están presentes en ambos conjuntos."
      ]
    },
    {
      "cell_type": "code",
      "execution_count": null,
      "metadata": {},
      "outputs": [],
      "source": [
        "conjunto1 = {1, 2, 3}\n",
        "conjunto2 = {3, 4, 5}\n",
        "interseccion = conjunto1 & conjunto2  # O también: conjunto1.intersection(conjunto2)\n",
        "print(interseccion)  # Salida: {3}"
      ]
    },
    {
      "cell_type": "markdown",
      "metadata": {},
      "source": [
        "- **Diferencia**: Devuelve un nuevo conjunto con los elementos que están en el primer conjunto pero no en el segundo."
      ]
    },
    {
      "cell_type": "code",
      "execution_count": null,
      "metadata": {},
      "outputs": [],
      "source": [
        "conjunto1 = {1, 2, 3}\n",
        "conjunto2 = {3, 4, 5}\n",
        "diferencia = conjunto1 - conjunto2  # O también: conjunto1.difference(conjunto2)\n",
        "print(diferencia)  # Salida: {1, 2}"
      ]
    },
    {
      "cell_type": "markdown",
      "metadata": {},
      "source": [
        "- **Diferencia simétrica**: Devuelve un nuevo conjunto con los elementos que están en uno de los conjuntos pero no en ambos."
      ]
    },
    {
      "cell_type": "code",
      "execution_count": null,
      "metadata": {},
      "outputs": [],
      "source": [
        "conjunto1 = {1, 2, 3}\n",
        "conjunto2 = {3, 4, 5}\n",
        "diferencia_simetrica = conjunto1 ^ conjunto2  # O también: conjunto1.symmetric_difference(conjunto2)\n",
        "print(diferencia_simetrica)  # Salida: {1, 2, 4, 5}"
      ]
    },
    {
      "cell_type": "markdown",
      "metadata": {},
      "source": [
        "- **Subconjunto**: Verifica si un conjunto es un subconjunto de otro."
      ]
    },
    {
      "cell_type": "code",
      "execution_count": null,
      "metadata": {},
      "outputs": [],
      "source": [
        "conjunto1 = {1, 2, 3}\n",
        "conjunto2 = {3, 4, 5}\n",
        "conjunto3 = {1, 2}\n",
        "print(conjunto3.issubset(conjunto1))  # Salida: True"
      ]
    },
    {
      "cell_type": "markdown",
      "metadata": {},
      "source": [
        "- **Superconjunto**: Verifica si un conjunto es un superconjunto de otro."
      ]
    },
    {
      "cell_type": "code",
      "execution_count": null,
      "metadata": {},
      "outputs": [],
      "source": [
        "conjunto1 = {1, 2, 3}\n",
        "conjunto3 = {1, 2}\n",
        "print(conjunto1.issuperset(conjunto3))  # Salida: True"
      ]
    },
    {
      "cell_type": "markdown",
      "metadata": {},
      "source": [
        "### Funciones de Conjuntos\n",
        "\n",
        "Al igual que las listas, los conjuntos tienen varias funciones y métodos que podés utilizar para manipularlos. Su nomenclatura es similar a la de los strings, pero con algunas diferencias:\n",
        "\n",
        "```python\n",
        "    conjunto.nombre_funcion(argumentos)\n",
        "```\n",
        "\n",
        "Podemos encontrar una lista de estas funciones [acá](https://docs.python.org/3/tutorial/datastructures.html#sets).\n",
        "\n",
        "Algunos de los métodos más comunes son:\n",
        "\n",
        "- **`add()`**: Agrega un elemento al conjunto.\n",
        "- **`remove()`**: Elimina un elemento del conjunto. Si el elemento no está presente, genera un error `KeyError`.\n",
        "- **`discard()`**: Elimina un elemento del conjunto sin generar un error si el elemento no está presente.\n",
        "- **`pop()`**: Elimina y devuelve un elemento aleatorio del conjunto. Si el conjunto está vacío, genera un error `KeyError`.\n",
        "- **`clear()`**: Elimina todos los elementos del conjunto, dejándolo vacío.\n",
        "- **`union()`**: Devuelve un nuevo conjunto que es la unión de dos conjuntos.\n",
        "- **`intersection()`**: Devuelve un nuevo conjunto que es la intersección de dos conjuntos.\n",
        "- **`difference()`**: Devuelve un nuevo conjunto que es la diferencia entre dos conjuntos.\n",
        "- **`symmetric_difference()`**: Devuelve un nuevo conjunto que es la diferencia simétrica entre dos conjuntos.\n",
        "- **`issubset()`**: Verifica si un conjunto es un subconjunto de otro.\n",
        "- **`issuperset()`**: Verifica si un conjunto es un superconjunto de otro."
      ]
    },
    {
      "cell_type": "markdown",
      "metadata": {},
      "source": [
        "### Set Comprehension\n",
        "\n",
        "Al igual que las list comprehensions, Python permite crear conjuntos de manera concisa utilizando set comprehensions. La sintaxis es similar a la de las list comprehensions, pero se utilizan llaves `{}` en lugar de corchetes `[]`.\n",
        "\n",
        "#### Sintaxis\n",
        "\n",
        "```python\n",
        "    nuevo_conjunto = {expresión for item in rango_iterable if condición}\n",
        "```\n",
        "\n",
        "Ejemplo:"
      ]
    },
    {
      "cell_type": "code",
      "execution_count": null,
      "metadata": {},
      "outputs": [],
      "source": [
        "conjunto = {x for x in range(10) if x % 2 == 0}  # Crea un conjunto con números pares del 0 al 9\n",
        "print(conjunto)  # Salida: {0, 2, 4, 6, 8}"
      ]
    },
    {
      "cell_type": "markdown",
      "metadata": {},
      "source": [
        "Ejemplo con letras únicas en MAYÚSCULAS:"
      ]
    },
    {
      "cell_type": "code",
      "execution_count": null,
      "metadata": {},
      "outputs": [],
      "source": [
        "palabra = \"automAtizAciÓn\"\n",
        "letras = {letra.upper() for letra in palabra}\n",
        "print(letras)  # {'U', 'C', 'A', 'N', 'M', 'Ó', 'Z', 'T', 'O', 'I'} (El orden puede variar)"
      ]
    },
    {
      "cell_type": "markdown",
      "metadata": {},
      "source": [
        "### Importante: el uso de `{}` no siempre implica un conjunto\n",
        "\n",
        "Es importante destacar que el uso de llaves `{}` en Python no siempre implica un conjunto. Si se utiliza una expresión con comas dentro de las llaves, Python interpretará que se trata de un diccionario, no de un conjunto.\n",
        "\n",
        "```python\n",
        "    vacio = {}         # Esto crea un diccionario (dict)\n",
        "    vacio_set = set()  # Esto crea un set vacío (correcto)\n",
        "```\n",
        "\n",
        "Diccionarios. ¿Y qué es un Diccionario?"
      ]
    },
    {
      "cell_type": "markdown",
      "metadata": {},
      "source": [
        "## Diccionarios 📖\n",
        "\n",
        "Así como lo es un diccionario real de enciclopedia, un **diccionario** es una estructura de datos que permite almacenar pares **clave-valor**. Cada clave es única y se asocia a un valor. Son mutables, dinámicos y extremadamente útiles para representar datos estructurados.\n",
        "Al día de hoy, los diccionarios son una de las estructuras de datos más usadas en Python, y son ideales para almacenar datos que necesitan ser accedidos rápidamente por clave.\n",
        "\n",
        "Su sintaxis es similar a la de los objetos de notación en JavaScript (JSON), y se utilizan ampliamente en aplicaciones web, procesamiento de datos y muchas otras áreas.\n",
        "\n",
        "```python\n",
        "    diccionario = {\n",
        "        \"clave1\": \"valor1\",\n",
        "        \"clave2\": \"valor2\",\n",
        "        \"clave3\": \"valor3\"\n",
        "    }\n",
        "```\n",
        "\n",
        "Ejemplo práctico:"
      ]
    },
    {
      "cell_type": "code",
      "execution_count": null,
      "metadata": {},
      "outputs": [],
      "source": [
        "# Generamos un diccionario donde la llave es un país y el valor la cantidad de habitantes.\n",
        "# El diccionario se define con llaves {} y cada par llave-valor se separa por comas.\n",
        "\n",
        "diccionario = {\n",
        "    \"Argentina\": 45300000,\n",
        "    \"Inglaterra\": 55600000,\n",
        "    \"Italia\": 59550000,\n",
        "    \"Chile\": 19200000\n",
        "}\n",
        "\n",
        "# Obtenemos el valor en la llave argentina\n",
        "poblacion = diccionario['Argentina']\n",
        "\n",
        "print(\"La población de Argentina es\", poblacion)"
      ]
    },
    {
      "cell_type": "markdown",
      "metadata": {},
      "source": [
        "### Características de los diccionarios\n",
        "\n",
        "- **Clave-valor**: cada elemento tiene una clave asociada a un valor.\n",
        "- **Claves únicas**: no pueden repetirse.\n",
        "- **Mutables**: podés modificar, agregar o eliminar pares clave-valor.\n",
        "\n",
        "\n",
        "### Sintaxis básica\n",
        "\n",
        "```python\n",
        "# Diccionario vacío\n",
        "    dicc_vacio = {}\n",
        "\n",
        "# Diccionario con valores\n",
        "    persona = {\n",
        "        \"nombre\": \"Juan\",\n",
        "        \"edad\": 33,\n",
        "        \"profesion\": \"Astronauta\"\n",
        "    }\n",
        "```"
      ]
    },
    {
      "cell_type": "markdown",
      "metadata": {},
      "source": [
        "### Acceso a valores de un Diccionario\n",
        "\n",
        "Para acceder a un valor en un diccionario, utilizás la clave entre corchetes `[]`. Si la clave existe, devuelve el valor asociado. Si no, lanza un error `KeyError`.\n",
        "\n",
        "```python\n",
        "    print(persona[\"nombre\"])      # Juan\n",
        "```\n",
        "\n",
        "⚠️ Si la clave no existe, lanza `KeyError`. Para evitarlo:\n",
        "Para acceder a un valor sin riesgo de error, podés usar el método `get()`, que devuelve `None` si la clave no existe, o un valor por defecto si lo especificás.\n",
        "\n",
        "```python\n",
        "    print(persona.get(\"pais\"))            # None\n",
        "    print(persona.get(\"pais\", \"Desconocido\"))  # Desconocido\n",
        "```"
      ]
    },
    {
      "cell_type": "markdown",
      "metadata": {},
      "source": [
        "Al igual que las listas, los valores de un diccionario pueden ser de cualquier tipo, incluyendo listas, tuplas, conjuntos, otros diccionarios, etc.\n",
        "\n",
        "```python\n",
        "    persona = {\n",
        "        \"nombre\": \"Juan\",\n",
        "        \"edad\": 33,\n",
        "        \"hobbies\": [\"leer\", \"viajar\", \"programar\"]\n",
        "    }\n",
        "```\n",
        "\n",
        "También podemos notar que los diccionarios pueden contener otros diccionarios, lo que permite crear estructuras de datos más complejas.\n",
        "\n",
        "```python\n",
        "    persona = {\n",
        "        \"nombre\": \"Juan\",\n",
        "        \"edad\": 33,\n",
        "        \"direccion\": {\n",
        "            \"calle\": \"Avenida Siempre Viva\",\n",
        "            \"numero\": 123\n",
        "        }\n",
        "    }\n",
        "```\n",
        "\n",
        "Por último, los valores de los diccionarios pueden ser modificables. Si querés cambiar el valor asociado a una clave, simplemente asignás un nuevo valor a esa clave.\n",
        "\n",
        "```python\n",
        "    persona[\"edad\"] = 34  # Cambia la edad de Juan a 34\n",
        "    print(persona[\"edad\"])  # Salida: 34\n",
        "```\n",
        "\n",
        "Otro Ejemplo:"
      ]
    },
    {
      "cell_type": "code",
      "execution_count": null,
      "metadata": {},
      "outputs": [],
      "source": [
        "diccionario = {\n",
        "    1: 2,\n",
        "    2: 3,\n",
        "    3: 4,\n",
        "}\n",
        "\n",
        "# Vemos que tiene la llave 3\n",
        "print(diccionario[3])\n",
        "\n",
        "# Sumamos uno a la llave 3\n",
        "diccionario[3] += 1\n",
        "\n",
        "print(diccionario[3])"
      ]
    },
    {
      "cell_type": "markdown",
      "metadata": {},
      "source": [
        "También podemos agregar llaves nuevas (es decir elementos nuevos) a un diccionario de la siguiente manera:"
      ]
    },
    {
      "cell_type": "code",
      "execution_count": null,
      "metadata": {},
      "outputs": [],
      "source": [
        "diccionario = {\n",
        "    1: 2,\n",
        "    2: 3,\n",
        "    3: 4,\n",
        "}\n",
        "\n",
        "print(diccionario)\n",
        "\n",
        "# Agregamos la llave hola con el siguiente valor\n",
        "diccionario['hola'] = 'Soy la nueva llave'\n",
        "\n",
        "print(diccionario)"
      ]
    },
    {
      "cell_type": "markdown",
      "metadata": {},
      "source": [
        "### Funciones más comunes\n",
        "\n",
        "- **`get(clave[, valor_default])`**  \n",
        "  Devuelve el valor si la clave existe, si no, devuelve el valor por defecto (o `None`)."
      ]
    },
    {
      "cell_type": "code",
      "execution_count": null,
      "metadata": {},
      "outputs": [],
      "source": [
        "persona = {\"nombre\": \"Juan\", \"edad\": 33}\n",
        "print(persona.get(\"nombre\"))  # Juan\n",
        "print(persona.get(\"pais\", \"Desconocido\"))  # Desconocido"
      ]
    },
    {
      "cell_type": "markdown",
      "metadata": {},
      "source": [
        "- **`keys()`**  \n",
        "  Devuelve una vista de todas las claves."
      ]
    },
    {
      "cell_type": "code",
      "execution_count": null,
      "metadata": {},
      "outputs": [],
      "source": [
        "persona = {\"nombre\": \"Juan\", \"edad\": 33}\n",
        "persona.keys()"
      ]
    },
    {
      "cell_type": "markdown",
      "metadata": {},
      "source": [
        "- **`values()`**  \n",
        "  Devuelve una vista de todos los valores."
      ]
    },
    {
      "cell_type": "code",
      "execution_count": null,
      "metadata": {},
      "outputs": [],
      "source": [
        "persona = {\"nombre\": \"Juan\", \"edad\": 33}\n",
        "print(persona.values())"
      ]
    },
    {
      "cell_type": "markdown",
      "metadata": {},
      "source": [
        "- **`items()`**  \n",
        "  Devuelve una vista de tuplas `(clave, valor)`."
      ]
    },
    {
      "cell_type": "code",
      "execution_count": null,
      "metadata": {},
      "outputs": [],
      "source": [
        "persona = {\"nombre\": \"Juan\", \"edad\": 33}\n",
        "persona.items()  # Devuelve una vista de los pares clave-valor"
      ]
    },
    {
      "cell_type": "markdown",
      "metadata": {},
      "source": [
        "- **`update(otro_dicc)`**  \n",
        "  Agrega o actualiza múltiples claves a la vez."
      ]
    },
    {
      "cell_type": "code",
      "execution_count": null,
      "metadata": {},
      "outputs": [],
      "source": [
        "persona = {\"nombre\": \"Juan\", \"edad\": 33}\n",
        "persona.update({\"pais\": \"Argentina\", \"profesion\": \"Ingeniero\"})\n",
        "print(persona)"
      ]
    },
    {
      "cell_type": "markdown",
      "metadata": {},
      "source": [
        "- **`pop(clave[, valor_default])`**  \n",
        "  Elimina una clave y devuelve su valor. Si no existe, lanza error (o devuelve el valor por defecto si se proporciona)."
      ]
    },
    {
      "cell_type": "code",
      "execution_count": null,
      "metadata": {},
      "outputs": [],
      "source": [
        "persona = {\"nombre\": \"Juan\", \"edad\": 33}\n",
        "edad = persona.pop(\"edad\")\n",
        "print(edad)\n",
        "print(persona)"
      ]
    },
    {
      "cell_type": "markdown",
      "metadata": {},
      "source": [
        "- **`popitem()`**  \n",
        "  Elimina y devuelve el **último** par insertado."
      ]
    },
    {
      "cell_type": "code",
      "execution_count": null,
      "metadata": {},
      "outputs": [],
      "source": [
        "persona = {\"nombre\": \"Juan\", \"edad\": 33}\n",
        "ultimo_elemento = persona.popitem()  # Elimina y devuelve el último par clave-valor\n",
        "print(ultimo_elemento)  # Salida: ('edad', 33)\n",
        "print(persona)  # Salida: {'nombre': 'Juan'}"
      ]
    },
    {
      "cell_type": "markdown",
      "metadata": {},
      "source": [
        "- **`clear()`**  \n",
        "  Elimina todos los elementos"
      ]
    },
    {
      "cell_type": "code",
      "execution_count": null,
      "metadata": {},
      "outputs": [],
      "source": [
        "persona = {\"nombre\": \"Juan\", \"edad\": 33}\n",
        "# clear example\n",
        "persona.clear()  # Elimina todos los elementos del diccionario\n",
        "print(persona)  # Salida: {}"
      ]
    },
    {
      "cell_type": "markdown",
      "metadata": {},
      "source": [
        "- **`copy()`**  \n",
        "  Devuelve un nuevo diccionario con los mismos pares clave-valor que el original, pero que es una instancia de memoria distinta."
      ]
    },
    {
      "cell_type": "code",
      "execution_count": null,
      "metadata": {},
      "outputs": [],
      "source": [
        "persona = {\"nombre\": \"Juan\", \"edad\": 33}\n",
        "copia_persona = persona.copy()  # Crea una copia del diccionario\n",
        "copia_persona[\"edad\"] = 34  # Cambia la edad en la copia\n",
        "print(persona[\"edad\"])  # Salida: 33 (el original no se ve afectado)"
      ]
    },
    {
      "cell_type": "markdown",
      "metadata": {},
      "source": [
        "### Recorrer diccionarios 🔁\n",
        "\n",
        "Para recorrer un diccionario, podés usar un bucle `for`. Existen varias formas de hacerlo. Lo importante es tener en cuenta que al recorrer un diccionario, por defecto se recorren las claves."
      ]
    },
    {
      "cell_type": "code",
      "execution_count": null,
      "metadata": {},
      "outputs": [],
      "source": [
        "persona = {\n",
        "    \"nombre\": \"Juan\",\n",
        "    \"edad\": 33,\n",
        "    \"profesion\": \"Astronauta\"\n",
        "}\n",
        "\n",
        "for clave in persona:\n",
        "    print(clave, \":\", persona[clave])"
      ]
    },
    {
      "cell_type": "markdown",
      "metadata": {},
      "source": [
        "También puedo recorrer el par clave-valor directamente. Para hacerlo, utilizo el método `items()` que devuelve un iterable de tuplas `(clave, valor)` y un ciclo for donde voy a leer en 2 variables distintas cada uno de los valores de la tupla que representa .items()"
      ]
    },
    {
      "cell_type": "code",
      "execution_count": null,
      "metadata": {},
      "outputs": [],
      "source": [
        "# recorrer el diccionario con items()\n",
        "for clave, valor in persona.items():\n",
        "    print(clave, \":\", valor)"
      ]
    },
    {
      "cell_type": "markdown",
      "metadata": {},
      "source": [
        "### Diccionarios Anidados\n",
        "\n",
        "Los diccionarios pueden contener otros diccionarios, lo que permite crear estructuras de datos más complejas. Esto es útil para representar datos jerárquicos o estructurados. Para acceder a un valor en un diccionario anidado, se utiliza la clave del diccionario \"padre\" seguida de la clave del diccionario \"hijo\"."
      ]
    },
    {
      "cell_type": "code",
      "execution_count": null,
      "metadata": {},
      "outputs": [],
      "source": [
        "alumno = {\n",
        "    \"nombre\": \"Gonzalo\",\n",
        "    \"materias\": {\n",
        "        \"matematica\": 9,\n",
        "        \"historia\": 7\n",
        "    }\n",
        "}\n",
        "\n",
        "print(alumno[\"materias\"][\"matematica\"])  # 7"
      ]
    },
    {
      "cell_type": "markdown",
      "metadata": {},
      "source": [
        "### Challenge 5\n",
        "\n",
        "Escribir una función llamada `unir_diccionarios()` que una dos diccionarios. Si la key (llave) de alguno de los diccionarios está repetida, tomar el valor del primer diccionario.\n",
        "\n",
        "Esta operación no debe modificar ninguno de los diccionarios.\n",
        "\n",
        "Ejemplo:\n",
        "```python\n",
        "a = {\n",
        "   'a': 1,\n",
        "   'b': 2,\n",
        "   'c': 3,\n",
        "   'd': 4,\n",
        "}\n",
        "b = {\n",
        "   'c': 5,\n",
        "   'd': 6,\n",
        "   'e': 7,\n",
        "}\n",
        "\n",
        "c = unir_diccionarios(a,b)  # Desarrollar!\n",
        "print(c)\n",
        "```\n",
        "\n",
        "Salida Esperada:\n",
        "```\n",
        "{'a':1,'b':2,'c':3,'d':4,'e':7}\n",
        "```"
      ]
    },
    {
      "cell_type": "code",
      "execution_count": null,
      "metadata": {},
      "outputs": [],
      "source": [
        "# Challenge 5\n",
        "# Escribe tu código aquí o en un archivo .py a parte."
      ]
    },
    {
      "cell_type": "markdown",
      "metadata": {},
      "source": [
        "### Challenge 6\n",
        "\n",
        "Dado un string, crear un diccionario que cuente cuántas veces aparece cada letra.\n",
        "\n",
        "```python\n",
        "texto = \"dificilísimo\"\n",
        "```\n",
        "\n",
        "Salida esperada:\n",
        "```\n",
        "# {'i': 5, 'o': 1}\n",
        "```\n",
        "\n",
        "> 💡 Pista: usá un bucle `for` con `in` y un diccionario."
      ]
    },
    {
      "cell_type": "code",
      "execution_count": null,
      "metadata": {},
      "outputs": [],
      "source": [
        "# Challenge 6\n",
        "# Escribe tu código aquí o en un archivo .py a parte."
      ]
    },
    {
      "cell_type": "markdown",
      "metadata": {},
      "source": [
        "Bueno. Ya vimos todos los temas de hoy. Estamos listos para unos ejercicios jeje."
      ]
    },
    {
      "cell_type": "markdown",
      "metadata": {
        "id": "BmJMDrRxKxO-"
      },
      "source": [
        "<img src=\"https://raw.githubusercontent.com/GonzaloMartin/Python-Bootcamp/refs/heads/main/Assets/listos_ejercicios_conspiracy.jpg\" width=\"500\">"
      ]
    },
    {
      "cell_type": "markdown",
      "metadata": {
        "id": "TScHqtd8KxO-"
      },
      "source": [
        "## Challenge Integrador 1\n",
        "\n",
        "### Calculadora 4.0 - (Dificultad: Media)\n",
        "\n",
        "Reescribir la calculadora pero utilizando el diccionario para almacenar las funciones de cada cuenta.\n",
        "\n",
        "**TIP:** Se puede almacenar una función en una variable y utilizarla.\n",
        "\n",
        "Ejemplo:\n",
        "```python\n",
        "    def suma(a, b):\n",
        "        return a+b\n",
        "\n",
        "    calculadora = {\n",
        "        '+': suma,\n",
        "        '-': resta,\n",
        "        '*': multiplicacion,\n",
        "        '/': division\n",
        "    }\n",
        "    print(calculadora['+'](1,2))\n",
        "```"
      ]
    },
    {
      "cell_type": "code",
      "execution_count": null,
      "metadata": {
        "id": "vDvm8ZOdKxO-"
      },
      "outputs": [],
      "source": [
        "# Challenge Integrador 1\n",
        "# Escribe tu código aquí.\n",
        "# Dado que es un ejercicio largo, te recomiendo que lo hagas en un archivo nuevo .py"
      ]
    },
    {
      "cell_type": "markdown",
      "metadata": {
        "id": "R0aYFG_OKxO-"
      },
      "source": [
        "## Challenge Integrador 2\n",
        "\n",
        "### Cantidad de llaves de un diccionario - (Dificultad: Media Baja)\n",
        "\n",
        "Devolver la cantidad total de llaves de un diccionario, incluyendo si tiene otros diccionarios dentro de él.\n",
        "\n",
        "Ejemplo:\n",
        "```python\n",
        "    diccionario = {\n",
        "        'a': {'b':1, 'c':2},\n",
        "        'b': 3,\n",
        "        'c': 4,\n",
        "    }\n",
        "    print(contar_llaves(diccionario))\n",
        "```\n",
        "\n",
        "Salida Esperada:\n",
        "```\n",
        ">>> 5\n",
        "```\n",
        "\n",
        "**TIP:** Con la función `isinstance` se puede verificar si un valor es un diccionario o un int."
      ]
    },
    {
      "cell_type": "code",
      "execution_count": null,
      "metadata": {
        "id": "Ct1ov_NmKxO_"
      },
      "outputs": [],
      "source": [
        "# Challenge Integrador 2\n",
        "# Escribe tu código aquí.\n",
        "# Dado que es un ejercicio largo, te recomiendo que lo hagas en un archivo nuevo .py"
      ]
    },
    {
      "cell_type": "markdown",
      "metadata": {
        "id": "j6Al7uKBKxO_"
      },
      "source": [
        "## Challenge Integrador 3\n",
        "\n",
        "### Gestor de Alumnos 2.0 - (Dificultad: Media)\n",
        "\n",
        "Aplicar conocimientos de **listas, tuplas y diccionarios** para estructurar y procesar datos académicos.\n",
        "Se tiene una lista de tuplas, donde cada tupla representa a un estudiante y contiene su **nombre** y una **lista de notas**. \n",
        "\n",
        "```python\n",
        "    estudiantes = [\n",
        "        (\"Ana\", [7, 8, 9]),\n",
        "        (\"Luis\", [4, 5, 6]),\n",
        "        (\"Mica\", [10, 10, 9]),\n",
        "        (\"Leo\", [3, 2, 4])\n",
        "    ]\n",
        "```\n",
        "\n",
        "Se pide construir un diccionario donde:\n",
        "\n",
        "- Cada **clave** sea el nombre del estudiante.\n",
        "- Cada **valor** sea un diccionario con:\n",
        "  - `\"promedio\"`: el promedio de sus notas.\n",
        "  - `\"estado\"`: `\"aprobado\"` si su promedio es mayor o igual a 6, o `\"desaprobado\"` en caso contrario.\n",
        "\n",
        "Salida Esperada:\n",
        "\n",
        "```python\n",
        "{\n",
        "    \"Ana\": {\"promedio\": 8.0, \"estado\": \"aprobado\"},\n",
        "    \"Luis\": {\"promedio\": 5.0, \"estado\": \"desaprobado\"},\n",
        "    \"Mica\": {\"promedio\": 9.67, \"estado\": \"aprobado\"},\n",
        "    \"Leo\": {\"promedio\": 3.0, \"estado\": \"desaprobado\"}\n",
        "}\n",
        "```"
      ]
    },
    {
      "cell_type": "code",
      "execution_count": null,
      "metadata": {
        "id": "BOhIcfJpKxO_"
      },
      "outputs": [],
      "source": [
        "# Challenge Integrador 3\n",
        "# Escribe tu código aquí.\n",
        "# Dado que es un ejercicio largo, te recomiendo que lo hagas en un archivo nuevo .py"
      ]
    },
    {
      "cell_type": "markdown",
      "metadata": {
        "id": "9xraOxHgKxO_"
      },
      "source": [
        "## Challenge Integrador 4  (Ejercicio Opcional)\n",
        "\n",
        "### Input de Estructuras por teclado - (Dificultad: Avanzado)\n",
        "\n",
        "#### Implementación\n",
        "Escribir un programa que tome una **cadena de texto ingresada por el usuario** y la convierta en un **objeto Python** del tipo `list` o `tuple`, dependiendo de cómo se haya ingresado el texto.\n",
        "\n",
        "Ejemplo de Ingreso:\n",
        "\n",
        "```\n",
        ">>> Ingrese una lista o tupla de números: [1, 2, 3, 4, 5]\n",
        "```\n",
        "\n",
        "o bien puede ingresar una tupla:\n",
        "```\n",
        ">>> Ingrese una lista o tupla de números: (1, 2, 3, 4, 5)\n",
        "```\n",
        "\n",
        "\n",
        "Tu programa debe:\n",
        "\n",
        "1. Leer ese texto como **string**.\n",
        "2. Identificar si es una lista o una tupla según los **corchetes `[]` o paréntesis `()`**.\n",
        "3. Convertirlo en el objeto Python correspondiente (`list` o `tuple`), con sus valores numéricos como enteros.\n",
        "4. Mostrar el objeto ya convertido e imprimir también su tipo (type). (No vale que sea de tipo string).\n",
        "\n",
        "Salida esperada:\n",
        "```python\n",
        ">>> Ingrese una lista o tupla de números: [1, 2, 3, 4, 5]\n",
        ">>> [1, 2, 3, 4, 5]\n",
        ">>> Tipo: list\n",
        "\n",
        ">>> Ingrese una lista o tupla de números: (1, 2, 3, 4, 5)\n",
        ">>> (1, 2, 3, 4, 5)\n",
        ">>> Tipo: tuple\n",
        "```"
      ]
    },
    {
      "cell_type": "code",
      "execution_count": null,
      "metadata": {
        "id": "3xbzgE81KxO_"
      },
      "outputs": [],
      "source": [
        "# Challenge Integrador 4\n",
        "# Escribe tu código aquí.\n",
        "# Dado que es un ejercicio largo, te recomiendo que lo hagas en un archivo nuevo .py"
      ]
    }
  ],
  "metadata": {
    "colab": {
      "include_colab_link": true,
      "provenance": []
    },
    "kernelspec": {
      "display_name": "Python 3",
      "language": "python",
      "name": "python3"
    },
    "language_info": {
      "codemirror_mode": {
        "name": "ipython",
        "version": 3
      },
      "file_extension": ".py",
      "mimetype": "text/x-python",
      "name": "python",
      "nbconvert_exporter": "python",
      "pygments_lexer": "ipython3",
      "version": "3.11.4"
    }
  },
  "nbformat": 4,
  "nbformat_minor": 0
}

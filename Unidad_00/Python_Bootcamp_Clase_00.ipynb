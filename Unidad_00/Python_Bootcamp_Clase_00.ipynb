{
 "cells": [
  {
   "cell_type": "markdown",
   "id": "f2dee732",
   "metadata": {},
   "source": [
    "<a href=\"https://colab.research.google.com/github/GonzaloMartin/Python-Bootcamp/blob/main/Unidad_00/Python_Bootcamp_Clase_00.ipynb\" target=\"_parent\"><img src=\"https://colab.research.google.com/assets/colab-badge.svg\" alt=\"Open In Colab\"/></a>"
   ]
  },
  {
   "cell_type": "markdown",
   "id": "8cdec476",
   "metadata": {},
   "source": [
    "<img src=\"https://raw.githubusercontent.com/GonzaloMartin/Python-Bootcamp/refs/heads/main/Assets/python_bootcamp_banner1.png\" width=\"400\">\n",
    "\n",
    "# **Python Bootcamp orientado a la Automatización**\n",
    "\n",
    "El objetivo de la clase es brindar una introducción a la programación, presentando los fundamentos básicos de informática próximos pasos."
   ]
  },
  {
   "cell_type": "markdown",
   "id": "dd5102d2",
   "metadata": {},
   "source": [
    "***\n",
    "# Lógica Proposicional en Python 🧠\n",
    "\n",
    "En esta sección aprenderás cómo funciona la lógica proposicional en Python usando operadores como `and`, `or` y `not`.\n",
    "\n",
    "Python utiliza palabras clave para representar operaciones lógicas booleanas, como:\n",
    "\n",
    "- `and`: verdadero si **ambos** operandos son verdaderos.\n",
    "- `or`: verdadero si **al menos uno** de los operandos es verdadero.\n",
    "- `not`: invierte el valor de verdad de un operando.\n"
   ]
  },
  {
   "cell_type": "markdown",
   "id": "484eeaf9",
   "metadata": {},
   "source": [
    "***\n",
    "## Tabla de verdad de operadores\n",
    "\n",
    "| Expresión               | Resultado |\n",
    "|-------------------------|-----------|\n",
    "| `True and True`         | `True`    |\n",
    "| `True and False`        | `False`   |\n",
    "| `False or True`         | `True`    |\n",
    "| `False or False`        | `False`   |\n",
    "| `not True`              | `False`   |\n",
    "| `not False`             | `True`    |\n"
   ]
  },
  {
   "cell_type": "markdown",
   "id": "79c64e3a",
   "metadata": {},
   "source": [
    "***\n",
    "## Precedencia de operadores\n",
    "\n",
    "Los operadores lógicos tienen el siguiente orden de evaluación (de mayor a menor prioridad):\n",
    "\n",
    "1. `not`\n",
    "2. `and`\n",
    "3. `or`\n",
    "\n",
    "Por eso, la expresión:\n",
    "\n",
    "```python\n",
    "True or (False and True)\n",
    "```\n",
    "\n",
    "Primero evalúa `False and True` → `False`, y luego: `True or False` → `True`.\n"
   ]
  },
  {
   "cell_type": "markdown",
   "id": "09c2bdb6",
   "metadata": {},
   "source": [
    "***\n",
    "## 🧩 Ejercicios de lógica simples\n",
    "\n",
    "Intentá resolver los siguientes ejercicios seleccionando la opción correcta.\n"
   ]
  },
  {
   "cell_type": "markdown",
   "id": "c695cf1f",
   "metadata": {},
   "source": [
    "***\n",
    "### Ejercicio 1: ¿Cuál es el resultado de `not False`?"
   ]
  },
  {
   "cell_type": "code",
   "execution_count": 27,
   "id": "2f9302b1",
   "metadata": {},
   "outputs": [
    {
     "data": {
      "text/markdown": [
       "```python\n",
       "not False\n",
       "```"
      ],
      "text/plain": [
       "<IPython.core.display.Markdown object>"
      ]
     },
     "metadata": {},
     "output_type": "display_data"
    },
    {
     "data": {
      "application/vnd.jupyter.widget-view+json": {
       "model_id": "d5507e501dc848c68c09891d0842bb1e",
       "version_major": 2,
       "version_minor": 0
      },
      "text/plain": [
       "RadioButtons(description='¿Resultado?', options=('true', 'false'), value=None)"
      ]
     },
     "metadata": {},
     "output_type": "display_data"
    },
    {
     "data": {
      "application/vnd.jupyter.widget-view+json": {
       "model_id": "649bf1bc8c8b48169d1be36bbb725ccd",
       "version_major": 2,
       "version_minor": 0
      },
      "text/plain": [
       "HTML(value='')"
      ]
     },
     "metadata": {},
     "output_type": "display_data"
    }
   ],
   "source": [
    "from IPython.display import display, Markdown\n",
    "import ipywidgets as widgets\n",
    "\n",
    "def verificar_ej1(change):\n",
    "    if change['new'] == 'true':\n",
    "        resultado_ej1.value = \"<span style='color:green'>✅ ¡Correcto!</span> `not False` devuelve `True`.\"\n",
    "    else:\n",
    "        resultado_ej1.value = \"<span style='color:red'>❌ Incorrecto.</span> `not False` invierte el valor a `True`.\"\n",
    "\n",
    "opciones_ej1 = widgets.RadioButtons(\n",
    "    options=['true', 'false'],\n",
    "    value=None,\n",
    "    description='¿Resultado?'\n",
    ")\n",
    "opciones_ej1.observe(verificar_ej1, names='value')\n",
    "resultado_ej1 = widgets.HTML(value=\"\")\n",
    "display(Markdown(\"```python\\nnot False\\n```\"))\n",
    "display(opciones_ej1, resultado_ej1)"
   ]
  },
  {
   "cell_type": "markdown",
   "id": "c2ae2a47",
   "metadata": {},
   "source": [
    "***\n",
    "### Ejercicio 2: ¿Cuál es el resultado de `False and True`?"
   ]
  },
  {
   "cell_type": "code",
   "execution_count": 20,
   "id": "33b788ba",
   "metadata": {},
   "outputs": [
    {
     "data": {
      "text/markdown": [
       "```python\n",
       "False and True\n",
       "```"
      ],
      "text/plain": [
       "<IPython.core.display.Markdown object>"
      ]
     },
     "metadata": {},
     "output_type": "display_data"
    },
    {
     "data": {
      "application/vnd.jupyter.widget-view+json": {
       "model_id": "76d9c53539e848f8ab669efe8150e2b5",
       "version_major": 2,
       "version_minor": 0
      },
      "text/plain": [
       "RadioButtons(description='¿Resultado?', options=('true', 'false'), value=None)"
      ]
     },
     "metadata": {},
     "output_type": "display_data"
    },
    {
     "data": {
      "application/vnd.jupyter.widget-view+json": {
       "model_id": "96be12dd0c014f6ab3082f2120abf88d",
       "version_major": 2,
       "version_minor": 0
      },
      "text/plain": [
       "HTML(value='')"
      ]
     },
     "metadata": {},
     "output_type": "display_data"
    }
   ],
   "source": [
    "def verificar_ej2(change):\n",
    "    if change['new'] == 'false':\n",
    "        resultado_ej2.value = \"<span style='color:green'>✅ ¡Correcto!</span> `False and True` devuelve `False`.\"\n",
    "    else:\n",
    "        resultado_ej2.value = \"<span style='color:red'>❌ Incorrecto.</span> `and` solo devuelve `True` si ambos son `True`.\"\n",
    "\n",
    "opciones_ej2 = widgets.RadioButtons(\n",
    "    options=['true', 'false'],\n",
    "    value=None,\n",
    "    description='¿Resultado?'\n",
    ")\n",
    "opciones_ej2.observe(verificar_ej2, names='value')\n",
    "resultado_ej2 = widgets.HTML(value=\"\")\n",
    "display(Markdown(\"```python\\nFalse and True\\n```\"))\n",
    "display(opciones_ej2, resultado_ej2)"
   ]
  },
  {
   "cell_type": "markdown",
   "id": "2a5218fe",
   "metadata": {},
   "source": [
    "***\n",
    "### Ejercicio 3: ¿Cuál es el resultado de `not (True or False)`?"
   ]
  },
  {
   "cell_type": "code",
   "execution_count": 21,
   "id": "4f9ff0d5",
   "metadata": {},
   "outputs": [
    {
     "data": {
      "text/markdown": [
       "```python\n",
       "not (True or False)\n",
       "```"
      ],
      "text/plain": [
       "<IPython.core.display.Markdown object>"
      ]
     },
     "metadata": {},
     "output_type": "display_data"
    },
    {
     "data": {
      "application/vnd.jupyter.widget-view+json": {
       "model_id": "f9526b4137214089bd68fb66521af970",
       "version_major": 2,
       "version_minor": 0
      },
      "text/plain": [
       "RadioButtons(description='¿Resultado?', options=('true', 'false'), value=None)"
      ]
     },
     "metadata": {},
     "output_type": "display_data"
    },
    {
     "data": {
      "application/vnd.jupyter.widget-view+json": {
       "model_id": "adcb8defbf6d485899339bbd10bda1a4",
       "version_major": 2,
       "version_minor": 0
      },
      "text/plain": [
       "HTML(value='')"
      ]
     },
     "metadata": {},
     "output_type": "display_data"
    }
   ],
   "source": [
    "def verificar_ej3(change):\n",
    "    if change['new'] == 'false':\n",
    "        resultado_ej3.value = \"<span style='color:green'>✅ ¡Correcto!</span> `True or False` es `True`, y `not True` es `False`.\"\n",
    "    else:\n",
    "        resultado_ej3.value = \"<span style='color:red'>❌ Incorrecto.</span> `True or False` es `True`, y `not True` es `False`.\"\n",
    "\n",
    "opciones_ej3 = widgets.RadioButtons(\n",
    "    options=['true', 'false'],\n",
    "    value=None,\n",
    "    description='¿Resultado?'\n",
    ")\n",
    "opciones_ej3.observe(verificar_ej3, names='value')\n",
    "resultado_ej3 = widgets.HTML(value=\"\")\n",
    "display(Markdown(\"```python\\nnot (True or False)\\n```\"))\n",
    "display(opciones_ej3, resultado_ej3)"
   ]
  },
  {
   "cell_type": "markdown",
   "id": "2a5218fe",
   "metadata": {},
   "source": [
    "***\n",
    "### Ejercicio 4: La expresión `True or (False and True)` evalúa a `False`"
   ]
  },
  {
   "cell_type": "code",
   "execution_count": 22,
   "id": "4f9ff0d5",
   "metadata": {},
   "outputs": [
    {
     "data": {
      "text/markdown": [
       "```python\n",
       "True or (False and True) = False\n",
       "```"
      ],
      "text/plain": [
       "<IPython.core.display.Markdown object>"
      ]
     },
     "metadata": {},
     "output_type": "display_data"
    },
    {
     "data": {
      "application/vnd.jupyter.widget-view+json": {
       "model_id": "5f308f61001f4c87850c583a031b8c1e",
       "version_major": 2,
       "version_minor": 0
      },
      "text/plain": [
       "RadioButtons(description='¿Resultado?', options=('true', 'false'), value=None)"
      ]
     },
     "metadata": {},
     "output_type": "display_data"
    },
    {
     "data": {
      "application/vnd.jupyter.widget-view+json": {
       "model_id": "24c0205a04ef4d4087e75dc011ff7155",
       "version_major": 2,
       "version_minor": 0
      },
      "text/plain": [
       "HTML(value='')"
      ]
     },
     "metadata": {},
     "output_type": "display_data"
    }
   ],
   "source": [
    "def verificar_ej4(change):\n",
    "    if change['new'] == 'false':\n",
    "        resultado_ej4.value = \"<span style='color:green'>✅ ¡Correcto!</span> La expresión completa `True or (False and True)` evalúa a `False` es `False`.\"\n",
    "    else:\n",
    "        resultado_ej4.value = \"<span style='color:red'>❌ Incorrecto.</span> `True or (False and True)` evalúa a `False` implica que toda la sentencia es `False`, lo cuál no es así.\"\n",
    "\n",
    "opciones_ej4 = widgets.RadioButtons(\n",
    "    options=['true', 'false'],\n",
    "    value=None,\n",
    "    description='¿Resultado?'\n",
    ")\n",
    "opciones_ej4.observe(verificar_ej4, names='value')\n",
    "resultado_ej4 = widgets.HTML(value=\"\")\n",
    "display(Markdown(\"```python\\nTrue or (False and True) = False\\n```\"))\n",
    "display(opciones_ej4, resultado_ej4)"
   ]
  },
  {
   "cell_type": "markdown",
   "id": "cb468a02",
   "metadata": {},
   "source": [
    "***\n",
    "### Ejercicio 5: La expresión `True and (True or False)` evalúa a `True`"
   ]
  },
  {
   "cell_type": "code",
   "execution_count": 23,
   "id": "a28ef9f0",
   "metadata": {},
   "outputs": [
    {
     "data": {
      "text/markdown": [
       "```python\n",
       "True and (True or False) = True\n",
       "```"
      ],
      "text/plain": [
       "<IPython.core.display.Markdown object>"
      ]
     },
     "metadata": {},
     "output_type": "display_data"
    },
    {
     "data": {
      "application/vnd.jupyter.widget-view+json": {
       "model_id": "ea3b3436d18f43c4a7b5d276eb16aeb7",
       "version_major": 2,
       "version_minor": 0
      },
      "text/plain": [
       "RadioButtons(description='¿Resultado?', options=('true', 'false'), value=None)"
      ]
     },
     "metadata": {},
     "output_type": "display_data"
    },
    {
     "data": {
      "application/vnd.jupyter.widget-view+json": {
       "model_id": "56f0bae8b66f4404a2d803ae19553831",
       "version_major": 2,
       "version_minor": 0
      },
      "text/plain": [
       "HTML(value='')"
      ]
     },
     "metadata": {},
     "output_type": "display_data"
    }
   ],
   "source": [
    "def verificar_ej5(change):\n",
    "    if change['new'] == 'false':\n",
    "        resultado_ej5.value = \"<span style='color:red'>❌ Incorrecto.</span><br>(True or False) es True, por lo que True and True da como resultado True.\"\n",
    "    elif change['new'] == 'true':\n",
    "        resultado_ej5.value = \"<span style='color:green'>✅ ¡Correcto!</span>\"\n",
    "\n",
    "opciones_ej5 = widgets.RadioButtons(\n",
    "    options=['true', 'false'],\n",
    "    value=None,\n",
    "    description='¿Resultado?'\n",
    ")\n",
    "opciones_ej5.observe(verificar_ej5, names='value')\n",
    "\n",
    "resultado_ej5 = widgets.HTML(value=\"\")\n",
    "\n",
    "display(Markdown(\"```python\\nTrue and (True or False) = True\\n```\"))\n",
    "display(opciones_ej5, resultado_ej5)"
   ]
  },
  {
   "cell_type": "markdown",
   "id": "51f6d951",
   "metadata": {},
   "source": [
    "***\n",
    "### Ejercicio 6: La expresión `(True and !False) or (!True and False)` evalúa a `True`"
   ]
  },
  {
   "cell_type": "code",
   "execution_count": 24,
   "id": "646bbfb3",
   "metadata": {},
   "outputs": [
    {
     "data": {
      "text/markdown": [
       "```python\n",
       "(True and !False) or (!True and False) = True\n",
       "```"
      ],
      "text/plain": [
       "<IPython.core.display.Markdown object>"
      ]
     },
     "metadata": {},
     "output_type": "display_data"
    },
    {
     "data": {
      "application/vnd.jupyter.widget-view+json": {
       "model_id": "6bceff3a34d443a7a96c983a210b1ebb",
       "version_major": 2,
       "version_minor": 0
      },
      "text/plain": [
       "RadioButtons(description='¿Resultado?', options=('true', 'false'), value=None)"
      ]
     },
     "metadata": {},
     "output_type": "display_data"
    },
    {
     "data": {
      "application/vnd.jupyter.widget-view+json": {
       "model_id": "890500ea8500416486f03b005caf9da5",
       "version_major": 2,
       "version_minor": 0
      },
      "text/plain": [
       "HTML(value='')"
      ]
     },
     "metadata": {},
     "output_type": "display_data"
    }
   ],
   "source": [
    "def verificar_ej6(change):\n",
    "    if change['new'] == 'false':\n",
    "        resultado_ej6.value = \"<span style='color:red'>❌ Incorrecto.</span> `!False` es `True`, por lo que `True and !False` es `True`, haciendo que el `or` entre los dos grupos encerrados por paréntesis sea `True`.\"\n",
    "    else:\n",
    "        resultado_ej6.value = \"<span style='color:green'>✅ ¡Correcto!</span>\"\n",
    "\n",
    "opciones_ej6 = widgets.RadioButtons(\n",
    "    options=['true', 'false'],\n",
    "    value=None,\n",
    "    description='¿Resultado?'\n",
    ")\n",
    "opciones_ej6.observe(verificar_ej6, names='value')\n",
    "resultado_ej6 = widgets.HTML(value=\"\")\n",
    "display(Markdown(\"```python\\n(True and !False) or (!True and False) = True\\n```\"))\n",
    "display(opciones_ej6, resultado_ej6)"
   ]
  }
 ],
 "metadata": {
  "kernelspec": {
   "display_name": ".venv",
   "language": "python",
   "name": "python3"
  },
  "language_info": {
   "codemirror_mode": {
    "name": "ipython",
    "version": 3
   },
   "file_extension": ".py",
   "mimetype": "text/x-python",
   "name": "python",
   "nbconvert_exporter": "python",
   "pygments_lexer": "ipython3",
   "version": "3.11.9"
  }
 },
 "nbformat": 4,
 "nbformat_minor": 5
}

{
 "cells": [
  {
   "cell_type": "markdown",
   "id": "dd5102d2",
   "metadata": {},
   "source": [
    "\n",
    "# Lógica Proposicional en Python 🧠\n",
    "\n",
    "En esta sección aprenderás cómo funciona la lógica proposicional en Python usando operadores como `and`, `or` y `not`.\n",
    "\n",
    "Python utiliza palabras clave para representar operaciones lógicas booleanas, como:\n",
    "\n",
    "- `and`: verdadero si **ambos** operandos son verdaderos.\n",
    "- `or`: verdadero si **al menos uno** de los operandos es verdadero.\n",
    "- `not`: invierte el valor de verdad de un operando.\n"
   ]
  },
  {
   "cell_type": "markdown",
   "id": "484eeaf9",
   "metadata": {},
   "source": [
    "\n",
    "## Tabla de verdad de operadores\n",
    "\n",
    "| Expresión               | Resultado |\n",
    "|-------------------------|-----------|\n",
    "| `True and True`         | `True`    |\n",
    "| `True and False`        | `False`   |\n",
    "| `False or True`         | `True`    |\n",
    "| `False or False`        | `False`   |\n",
    "| `not True`              | `False`   |\n",
    "| `not False`             | `True`    |\n"
   ]
  },
  {
   "cell_type": "markdown",
   "id": "79c64e3a",
   "metadata": {},
   "source": [
    "\n",
    "## Precedencia de operadores\n",
    "\n",
    "Los operadores lógicos tienen el siguiente orden de evaluación (de mayor a menor prioridad):\n",
    "\n",
    "1. `not`\n",
    "2. `and`\n",
    "3. `or`\n",
    "\n",
    "Por eso, la expresión:\n",
    "\n",
    "```python\n",
    "True or (False and True)\n",
    "```\n",
    "\n",
    "Primero evalúa `False and True` → `False`, y luego: `True or False` → `True`.\n"
   ]
  },
  {
   "cell_type": "markdown",
   "id": "97c1701b",
   "metadata": {},
   "source": [
    "\n",
    "## 🧪 Ejercicio interactivo\n",
    "\n",
    "¿Qué valor devuelve la siguiente expresión en Python?\n"
   ]
  },
  {
   "cell_type": "code",
   "execution_count": 6,
   "id": "3451b0f2",
   "metadata": {},
   "outputs": [
    {
     "data": {
      "text/markdown": [
       "```python\n",
       "True or (False and True)\n",
       "```"
      ],
      "text/plain": [
       "<IPython.core.display.Markdown object>"
      ]
     },
     "metadata": {},
     "output_type": "display_data"
    },
    {
     "data": {
      "application/vnd.jupyter.widget-view+json": {
       "model_id": "38b26b8a11fc443b84faf9ea076e4dbe",
       "version_major": 2,
       "version_minor": 0
      },
      "text/plain": [
       "RadioButtons(description='¿Resultado?', options=('true', 'false'), value='true')"
      ]
     },
     "metadata": {},
     "output_type": "display_data"
    },
    {
     "data": {
      "application/vnd.jupyter.widget-view+json": {
       "model_id": "acbdde24a23c49f4bebb9e57e9b479b7",
       "version_major": 2,
       "version_minor": 0
      },
      "text/plain": [
       "HTML(value='')"
      ]
     },
     "metadata": {},
     "output_type": "display_data"
    }
   ],
   "source": [
    "\n",
    "from IPython.display import display, Markdown\n",
    "import ipywidgets as widgets\n",
    "\n",
    "def verificar_respuesta(change):\n",
    "    if change['new'] == 'false':\n",
    "        resultado.value = \"<span style='color:red'>❌ Incorrecto.</span><br>Recordá que el `and` se evalúa antes porque los paréntesis le dan prioridad, así que:<br>`True or (False and True)` → `True or (False)` → `True`.\"\n",
    "    elif change['new'] == 'true':\n",
    "        resultado.value = \"<span style='color:green'>✅ ¡Correcto!</span><br>`True or (False and True)` se evalúa como `True or (Fals)`, que da `True`.\"\n",
    "\n",
    "opciones = widgets.RadioButtons(\n",
    "    options=['true', 'false'],\n",
    "    description='¿Resultado?',\n",
    "    disabled=False\n",
    ")\n",
    "opciones.observe(verificar_respuesta, names='value')\n",
    "\n",
    "resultado = widgets.HTML(value=\"\")\n",
    "\n",
    "display(Markdown(\"```python\\nTrue or (False and True)\\n```\"))\n",
    "display(opciones, resultado)\n"
   ]
  },
  {
   "cell_type": "markdown",
   "id": "09c2bdb6",
   "metadata": {},
   "source": [
    "\n",
    "## 🧩 Ejercicios de lógica simples\n",
    "\n",
    "Intentá resolver los siguientes ejercicios seleccionando la opción correcta.\n"
   ]
  },
  {
   "cell_type": "markdown",
   "id": "c695cf1f",
   "metadata": {},
   "source": [
    "### Ejercicio 1: ¿Cuál es el resultado de `not False`?"
   ]
  },
  {
   "cell_type": "code",
   "execution_count": 7,
   "id": "2f9302b1",
   "metadata": {},
   "outputs": [
    {
     "data": {
      "text/markdown": [
       "```python\n",
       "not False\n",
       "```"
      ],
      "text/plain": [
       "<IPython.core.display.Markdown object>"
      ]
     },
     "metadata": {},
     "output_type": "display_data"
    },
    {
     "data": {
      "application/vnd.jupyter.widget-view+json": {
       "model_id": "5f2b0077301946b388b927e51762483f",
       "version_major": 2,
       "version_minor": 0
      },
      "text/plain": [
       "RadioButtons(description='¿Resultado?', options=('true', 'false'), value='true')"
      ]
     },
     "metadata": {},
     "output_type": "display_data"
    },
    {
     "data": {
      "application/vnd.jupyter.widget-view+json": {
       "model_id": "55f52a26fa6e417b8898bde2bced530f",
       "version_major": 2,
       "version_minor": 0
      },
      "text/plain": [
       "HTML(value='')"
      ]
     },
     "metadata": {},
     "output_type": "display_data"
    }
   ],
   "source": [
    "\n",
    "from IPython.display import display, Markdown\n",
    "import ipywidgets as widgets\n",
    "\n",
    "def verificar_ej1(change):\n",
    "    if change['new'] == 'true':\n",
    "        resultado_ej1.value = \"<span style='color:green'>✅ ¡Correcto!</span> `not False` devuelve `True`.\"\n",
    "    else:\n",
    "        resultado_ej1.value = \"<span style='color:red'>❌ Incorrecto.</span> `not False` invierte el valor a `True`.\"\n",
    "\n",
    "opciones_ej1 = widgets.RadioButtons(\n",
    "    options=['true', 'false'],\n",
    "    description='¿Resultado?'\n",
    ")\n",
    "opciones_ej1.observe(verificar_ej1, names='value')\n",
    "resultado_ej1 = widgets.HTML(value=\"\")\n",
    "display(Markdown(\"```python\\nnot False\\n```\"))\n",
    "display(opciones_ej1, resultado_ej1)\n"
   ]
  },
  {
   "cell_type": "markdown",
   "id": "c2ae2a47",
   "metadata": {},
   "source": [
    "### Ejercicio 2: ¿Cuál es el resultado de `False and True`?"
   ]
  },
  {
   "cell_type": "code",
   "execution_count": 8,
   "id": "33b788ba",
   "metadata": {},
   "outputs": [
    {
     "data": {
      "text/markdown": [
       "```python\n",
       "False and True\n",
       "```"
      ],
      "text/plain": [
       "<IPython.core.display.Markdown object>"
      ]
     },
     "metadata": {},
     "output_type": "display_data"
    },
    {
     "data": {
      "application/vnd.jupyter.widget-view+json": {
       "model_id": "1425dd75d26a44c28a2cd81c75986b41",
       "version_major": 2,
       "version_minor": 0
      },
      "text/plain": [
       "RadioButtons(description='¿Resultado?', options=('true', 'false'), value='true')"
      ]
     },
     "metadata": {},
     "output_type": "display_data"
    },
    {
     "data": {
      "application/vnd.jupyter.widget-view+json": {
       "model_id": "1762dfccae3344bbb394d5ebe4e582ab",
       "version_major": 2,
       "version_minor": 0
      },
      "text/plain": [
       "HTML(value='')"
      ]
     },
     "metadata": {},
     "output_type": "display_data"
    }
   ],
   "source": [
    "\n",
    "from IPython.display import display, Markdown\n",
    "import ipywidgets as widgets\n",
    "\n",
    "def verificar_ej2(change):\n",
    "    if change['new'] == 'false':\n",
    "        resultado_ej2.value = \"<span style='color:green'>✅ ¡Correcto!</span> `False and True` devuelve `False`.\"\n",
    "    else:\n",
    "        resultado_ej2.value = \"<span style='color:red'>❌ Incorrecto.</span> `and` solo devuelve `True` si ambos son `True`.\"\n",
    "\n",
    "opciones_ej2 = widgets.RadioButtons(\n",
    "    options=['true', 'false'],\n",
    "    description='¿Resultado?'\n",
    ")\n",
    "opciones_ej2.observe(verificar_ej2, names='value')\n",
    "resultado_ej2 = widgets.HTML(value=\"\")\n",
    "display(Markdown(\"```python\\nFalse and True\\n```\"))\n",
    "display(opciones_ej2, resultado_ej2)\n"
   ]
  },
  {
   "cell_type": "markdown",
   "id": "2a5218fe",
   "metadata": {},
   "source": [
    "### Ejercicio 3: ¿Cuál es el resultado de `not (True or False)`?"
   ]
  },
  {
   "cell_type": "code",
   "execution_count": 9,
   "id": "4f9ff0d5",
   "metadata": {},
   "outputs": [
    {
     "data": {
      "text/markdown": [
       "```python\n",
       "not (True or False)\n",
       "```"
      ],
      "text/plain": [
       "<IPython.core.display.Markdown object>"
      ]
     },
     "metadata": {},
     "output_type": "display_data"
    },
    {
     "data": {
      "application/vnd.jupyter.widget-view+json": {
       "model_id": "b9104108702c482e9899aede9a3d0799",
       "version_major": 2,
       "version_minor": 0
      },
      "text/plain": [
       "RadioButtons(description='¿Resultado?', options=('true', 'false'), value='true')"
      ]
     },
     "metadata": {},
     "output_type": "display_data"
    },
    {
     "data": {
      "application/vnd.jupyter.widget-view+json": {
       "model_id": "699de78d761646349a97c9dfa6b5b67c",
       "version_major": 2,
       "version_minor": 0
      },
      "text/plain": [
       "HTML(value='')"
      ]
     },
     "metadata": {},
     "output_type": "display_data"
    }
   ],
   "source": [
    "\n",
    "from IPython.display import display, Markdown\n",
    "import ipywidgets as widgets\n",
    "\n",
    "def verificar_ej3(change):\n",
    "    if change['new'] == 'false':\n",
    "        resultado_ej3.value = \"<span style='color:green'>✅ ¡Correcto!</span> `True or False` es `True`, y `not True` es `False`.\"\n",
    "    else:\n",
    "        resultado_ej3.value = \"<span style='color:red'>❌ Incorrecto.</span> `True or False` es `True`, y `not True` es `False`.\"\n",
    "\n",
    "opciones_ej3 = widgets.RadioButtons(\n",
    "    options=['true', 'false'],\n",
    "    description='¿Resultado?'\n",
    ")\n",
    "opciones_ej3.observe(verificar_ej3, names='value')\n",
    "resultado_ej3 = widgets.HTML(value=\"\")\n",
    "display(Markdown(\"```python\\nnot (True or False)\\n```\"))\n",
    "display(opciones_ej3, resultado_ej3)\n"
   ]
  },
  {
   "cell_type": "markdown",
   "id": "2a5218fe",
   "metadata": {},
   "source": [
    "### Ejercicio 4: La expresión `True or (False and True)` evalúa a `False`"
   ]
  },
  {
   "cell_type": "code",
   "execution_count": 10,
   "id": "4f9ff0d5",
   "metadata": {},
   "outputs": [
    {
     "data": {
      "text/markdown": [
       "```python\n",
       "True or (False and True) = False\n",
       "```"
      ],
      "text/plain": [
       "<IPython.core.display.Markdown object>"
      ]
     },
     "metadata": {},
     "output_type": "display_data"
    },
    {
     "data": {
      "application/vnd.jupyter.widget-view+json": {
       "model_id": "b9cb0f195d44467f82d9720024ad2ec5",
       "version_major": 2,
       "version_minor": 0
      },
      "text/plain": [
       "RadioButtons(description='¿Resultado?', options=('true', 'false'), value='true')"
      ]
     },
     "metadata": {},
     "output_type": "display_data"
    },
    {
     "data": {
      "application/vnd.jupyter.widget-view+json": {
       "model_id": "92590ca8a7dc457887eb53e8ffb58983",
       "version_major": 2,
       "version_minor": 0
      },
      "text/plain": [
       "HTML(value='')"
      ]
     },
     "metadata": {},
     "output_type": "display_data"
    }
   ],
   "source": [
    "\n",
    "from IPython.display import display, Markdown\n",
    "import ipywidgets as widgets\n",
    "\n",
    "def verificar_ej4(change):\n",
    "    if change['new'] == 'false':\n",
    "        resultado_ej4.value = \"<span style='color:green'>✅ ¡Correcto!</span> La expresión completa `True or (False and True)` evalúa a `False` es `False`.\"\n",
    "    else:\n",
    "        resultado_ej4.value = \"<span style='color:red'>❌ Incorrecto.</span> `True or (False and True)` evalúa a `False` implica que toda la sentencia es `False`, lo cuál no es así.\"\n",
    "\n",
    "opciones_ej4 = widgets.RadioButtons(\n",
    "    options=['true', 'false'],\n",
    "    description='¿Resultado?'\n",
    ")\n",
    "opciones_ej4.observe(verificar_ej4, names='value')\n",
    "resultado_ej4 = widgets.HTML(value=\"\")\n",
    "display(Markdown(\"```python\\nTrue or (False and True) = False\\n```\"))\n",
    "display(opciones_ej4, resultado_ej4)\n"
   ]
  }
 ],
 "metadata": {
  "kernelspec": {
   "display_name": "venv",
   "language": "python",
   "name": "python3"
  },
  "language_info": {
   "codemirror_mode": {
    "name": "ipython",
    "version": 3
   },
   "file_extension": ".py",
   "mimetype": "text/x-python",
   "name": "python",
   "nbconvert_exporter": "python",
   "pygments_lexer": "ipython3",
   "version": "3.12.0"
  }
 },
 "nbformat": 4,
 "nbformat_minor": 5
}

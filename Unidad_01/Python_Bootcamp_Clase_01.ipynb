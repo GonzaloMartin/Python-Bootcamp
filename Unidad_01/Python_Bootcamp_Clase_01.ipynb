{
  "cells": [
    {
      "cell_type": "markdown",
      "metadata": {
        "colab_type": "text",
        "id": "view-in-github"
      },
      "source": [
        "<a href=\"https://colab.research.google.com/github/GonzaloMartin/Python-Bootcamp/blob/main/Unidad_01/Python_Bootcamp_Clase_01.ipynb\" target=\"_parent\"><img src=\"https://colab.research.google.com/assets/colab-badge.svg\" alt=\"Open In Colab\"/></a>"
      ]
    },
    {
      "cell_type": "markdown",
      "metadata": {
        "id": "-TUcZs7nWywn"
      },
      "source": [
        "<img src=\"https://raw.githubusercontent.com/GonzaloMartin/Python-Bootcamp/refs/heads/main/Assets/python_bootcamp_banner1.png\" width=\"400\">\n",
        "\n",
        "# **Python Bootcamp orientado a la Automatización**"
      ]
    },
    {
      "cell_type": "markdown",
      "metadata": {},
      "source": [
        "***\n",
        "# Unidad 1\n",
        "\n",
        "Explicación de conceptos básicos para establecer un vocabulario común."
      ]
    },
    {
      "cell_type": "markdown",
      "metadata": {
        "id": "o9M3M7L0X1nL"
      },
      "source": [
        "***\n",
        "# Entorno de Trabajo\n",
        "\n",
        "Para trabajar durante el bootcamp vamos a usar [Google Colab](https://colab.research.google.com/?hl=es) una herramienta gratis de google que nos permite fácilmente trabajar con Python desde cualquier computadora utilizando un navegador.\n",
        "\n",
        "Este entorno nos permite mezclar código, teoría, gráficos, ecuaciones matemáticas y multimedia en un mismo archivo en principio sin que haga falta el uso de un IDE.\n",
        "\n",
        "**NOTA:** Si no tienen una cuenta de Google es necesario que se creen una para poder usarlo."
      ]
    },
    {
      "cell_type": "markdown",
      "metadata": {
        "id": "hMRV7LXqgTsC"
      },
      "source": [
        "***\n",
        "# Introducción a la programación\n",
        "\n",
        "La programación es el proceso de diseñar y escribir instrucciones que puede ejecutar un sistema computacional para realizar tareas específicas. Es una forma de comunicarse con una máquina, ya sea una computadora, un teléfono, un microcontrolador, un robot, o cualquier dispositivo que tenga capacidad de procesamiento.\n",
        "\n",
        "Estas instrucciones, conocidas como algoritmos, se redactan utilizando lenguajes de programación, que permiten estructurar órdenes de manera lógica, secuencial y precisa. La programación no es solo escribir código, sino pensar en soluciones, organizarlas, y traducirlas en pasos que una máquina pueda seguir sin ambigüedades."
      ]
    },
    {
      "cell_type": "markdown",
      "metadata": {},
      "source": [
        "***\n",
        "## Fundamentos\n",
        "\n",
        "1. **Lógica:** La base de la programación es el pensamiento lógico. Se trata de analizar un problema y descomponerlo en pasos simples, comprensibles y ordenados.\n",
        "\n",
        "2. **Precisión:** Las instrucciones deben ser claras y exactas. Una máquina no \"interpreta\" ni \"adivina\": hace exactamente lo que se le indica.\n",
        "\n",
        "3. **Estructura y Control:** En programación se define qué hacer, cuándo hacerlo y bajo qué condiciones. Esto permite controlar el flujo de ejecución, repetir acciones o tomar decisiones automáticas.\n",
        "\n",
        "4. **Abstracción:** Programar implica aprender a pensar en términos generales, para crear soluciones reutilizables y adaptables, no solo respuestas específicas a un único caso.\n",
        "\n",
        "5. **Automatización:** Todo programa busca automatizar una tarea, sea pequeña o compleja. Desde encender una luz a cierta hora, hasta procesar millones de datos en un servidor."
      ]
    },
    {
      "cell_type": "markdown",
      "metadata": {
        "id": "swXqD6kSn5VD"
      },
      "source": [
        "*** \n",
        "# Lenguajes de programación\n",
        "\n",
        "Los lenguajes de programación son [lenguajes formales](https://es.wikipedia.org/wiki/Lenguaje_formal) que brindan una serie de palabras reservadas o instrucciones, las cuales permiten a un programador comunicarle a la computadora una secuencia de órdenes. Dichas instrucciones son interpretadas y ejecutadas por el CPU de la computadora, con el objetivo de realizar la tarea que se programó.\n",
        "\n",
        "<img src=\"https://raw.githubusercontent.com/GonzaloMartin/Python-Bootcamp/refs/heads/main/Assets/u1_language_levels.png\" width=\"300\">\n",
        "\n",
        "Los lenguajes de programación de alto nivel son más fáciles de usar ya que sus instrucciones se semejan al lenguaje natural, abstrayendo las instrucciones del procesador. El lenguaje assembler (ensamblador) es un lenguaje específico de cada procesador que es traducido a los famosos unos y ceros denominados (bytecode). Estos lenguajes denominados de bajo nivel son más difíciles de utilizar por los programadores ya que sus instrucciones son difíciles de memorizar y realizan únicamente acciones simples. En la base de la pirámide se encuentra el \"Hardware\" o la electrónica que efectivamente ejecuta estas instrucciones.\n",
        "\n",
        "<img src=\"https://raw.githubusercontent.com/GonzaloMartin/Python-Bootcamp/refs/heads/main/Assets/u1_top_languages.png\" width=\"400\">\n",
        "\n",
        "Python viene siendo desde el año 2021 uno de los lenguajes de programación más usados."
      ]
    },
    {
      "cell_type": "markdown",
      "metadata": {
        "id": "4BLvfQTTXuDm"
      },
      "source": [
        "***\n",
        "# Conceptos Básicos de Programación\n",
        "En esta sección abordaremos los conceptos básicos de programación que son horizontales a cualquier lenguaje, sin entrar en detalles de las implementaciones de cada variante."
      ]
    },
    {
      "cell_type": "markdown",
      "metadata": {},
      "source": [
        "## ► **Notación**\n",
        "\n",
        "Así como en un idioma hay una formade escribir, en los lenguajes de programación también.  Depende sea el lenguaje, se adopta una estructura para nomenclaturar variables.\n",
        "\n",
        "Ejemplo:\n",
        "> Para Python está la notación _Snake Case_.\n",
        "```python\n",
        "def calcular_precio_total():\n",
        "    ...\n",
        "    ...\n",
        "```\n",
        "\n",
        "> Otros lenguajes de programación adoptan el estilo _Camel Case_. Por ejemplo el lenguaje C o Java:\n",
        "\n",
        "```java\n",
        "void calcularPrecioTotal(){\n",
        "    // Código cualquiera\n",
        "    ...\n",
        "}\n",
        "```"
      ]
    },
    {
      "cell_type": "markdown",
      "metadata": {},
      "source": [
        "## ► **Indentación**\n",
        "\n",
        "La indentación en Python es el uso de espacios en blanco o tabulaciones para definir bloques de código. \n",
        "\n",
        "Si una serie de líneas tienen la misma identación y no son interrumpidas por otra instrucciones, pertenecen al mismo bloque. Se mencionará más al respecto en el apartado [Sintaxis de Programación](#sintaxis-de-programacion)\n",
        "\n",
        "La mayoría de los editores de texto modernos pueden agregar la indentación automáticamente.\n",
        "\n",
        "Por convención, se recomienda usar cuatro espacios para indentar el código.\n",
        "\n",
        "Es importante ser coherente y elegir indentar usando tabulaciones o espacios y seguir la convención elegida en todo el programa. Mezclar tabuladores y espacios puede causar un TabError y hacer que el programa no funcione.\n",
        "\n",
        "Ejemplo:\n",
        "> La indentación pasa por los cuatro espacios a izquierda, para mantener un orden.\n",
        "```python\n",
        "def saludar():\n",
        "    print(\"Hola que tal\")\n",
        "    print(\"chau\")\n",
        "```"
      ]
    },
    {
      "cell_type": "markdown",
      "metadata": {},
      "source": [
        "## ► **Variables**\n",
        "\n",
        "Es un espacio con nombre que se usa para guardar información en un programa. Esta información puede cambiar durante la ejecución del programa.\n",
        "\n",
        "Ejemplo:\n",
        "> En este caso, altura y peso son números, mientras que nombre es un texto (cadena de caracteres).\n",
        "```python\n",
        "altura = 178\n",
        "peso = 85\n",
        "nombre = \"Martin\"\n",
        "```"
      ]
    },
    {
      "cell_type": "markdown",
      "metadata": {},
      "source": [
        "## ► **Tipos de Datos**\n",
        "\n",
        "Indica qué clase de valor almacena una variable. Algunos de los tipos más comunes en programación son:\n",
        "\n",
        "- **`int`**: números enteros (sin decimales), como `10` o `-3`.\n",
        "- **`float`**: números con decimales, como `2.5` o `-0.75`, pero no recomendado para el uso de datos monetarios.\n",
        "- **`decimal`**: Según la [documentación oficial](https://docs.python.org/3/library/decimal.html) es el tipo de datos a utilizar con valores monetarios, ya que no realiza redondeos.\n",
        "- **`str`**: cadenas de texto, como `\"Hola\"` o `\"Python\"`.\n",
        "- **`bool`**: valores booleanos (`True` o `False`), que representan verdadero o falso.\n",
        "\n",
        "> Por ejemplo, el número `2.5` es un `float` porque usa el punto decimal.\n",
        "> Si lo guardamos como `int`, se transforma en `2`, perdiendo la parte decimal.\n",
        "\n",
        "Ejemplo:\n",
        "```python\n",
        "altura = 1.78     # tipo float\n",
        "peso = 85.50      # tipo float\n",
        "edad = 29         # tipo int\n",
        "```"
      ]
    },
    {
      "cell_type": "markdown",
      "metadata": {},
      "source": [
        "## ► **Estructuras de datos**\n",
        "\n",
        "Son un tipo especial de clase que se utiliza como un conjunto de variables (en POO se denominan \"atributos\"), cada una de ellas con su tipo de dato, agrupadas dentro de una misma variable.\n",
        "\n",
        "Ejemplo:\n",
        "```python\n",
        "class Auto:\n",
        "    motor = '2.0'\n",
        "    ruedas = 4\n",
        "    puertas = 5\n",
        "```"
      ]
    },
    {
      "cell_type": "markdown",
      "metadata": {},
      "source": [
        "## ► **Funciones y métodos**\n",
        "\n",
        "Las funciones son un conjunto de instrucciones de programación que reciben un conjunto de entradas (o no), realiza una serie de operaciones y devuelve un conjunto de salidas.\n",
        "\n",
        "Ejemplo:\n",
        "> Acá podemos ver que, dada una suma donde le paso un valor A y un valor B, devuelve un resultado.\n",
        "```python\n",
        "def suma(a, b):\n",
        "    return a + b   # Acá devuelve algo\n",
        "```\n",
        "\n",
        "> Un método es lo mismo que una función, pero que no retorna un valor. A nivel práctico, son indistingibles, sólo difieren a nivel teórico.\n",
        "\n",
        "Acá vemos que, si bien le mando a una función un ticket para que lo imprima, no necesariamente tengo un valor de retorno, porque no hice ningún cálculo, sino dar una orden.\n",
        "```python\n",
        "def imprimir_facturas(ticket):\n",
        "    enviar_mensaje()\n",
        "```"
      ]
    },
    {
      "cell_type": "markdown",
      "metadata": {},
      "source": [
        "## ► **Condicional If**\n",
        "\n",
        "Todos los lenguajes de programación poseen instrucciones condicionales que permiten realizar o no una acción dependiendo de una condición. Es como si tomaras una acción según la condición de un resultado.\n",
        "\n",
        "Ejemplo:\n",
        "\n",
        "> En una suma, si el número resultado es menor a 0, entonces avisar que ese número es inválido:\n",
        "```python\n",
        "def sumar_numeros(a,b):\n",
        "    c = a + b\n",
        "    if c < 0:   # si c es menor o igual que 0...\n",
        "        print(\"El número es inválido\")\n",
        "        return none # que no devuelva nada.\n",
        "    else:\n",
        "        return c\n",
        "```"
      ]
    },
    {
      "cell_type": "markdown",
      "metadata": {},
      "source": [
        "## ► **Bucles Finitos o Infinitos**\n",
        "\n",
        "Existen estructuras que permiten ejecutar un conjunto de acciones hasta cumplir una condición. Por ejemplo, mientras a sea menor que 5 sumarle 1.\n",
        "\n",
        "Ejemplo:\n",
        "> Ejemplo de bucle infinito WHILE\n",
        "```python\n",
        "    while a < 5:\n",
        "        a = a + 1    # Mientras que a sea menor que 5, ejecutar esta acción.\n",
        "```\n",
        "\n",
        "> Ejemplo de bucle finito FOR\n",
        "```python\n",
        "    for i in range(5):   # Para el valor 'i', repetir 5 veces lo que haya en el bloque de código.\n",
        "        print(i)         # Bloque de código:  imprimir el valor que va tomando 'i'.\n",
        "```"
      ]
    },
    {
      "cell_type": "markdown",
      "metadata": {},
      "source": [
        "## ► **Estructura Match**\n",
        "\n",
        "Es una forma moderna de realizar múltiples comparaciones condicionales en Python. Funciona de manera similar a `switch` en otros lenguajes, pero con mucho más poder, gracias al llamado **pattern matching** (coincidencia de patrones).\n",
        "\n",
        "Es especialmente útil cuando queremos comparar el valor de una variable contra varios posibles casos.\n",
        "\n",
        "> **IMPORTANTE**: La sentencia **match** sólo está disponible a partir de la versión 3.10 de Python.\n",
        "\n",
        "Ejemplo:\n",
        "\n",
        "> Cada case compara un valor. El símbolo `|` significa `\"o\"`. El guion bajo `_` actúa como \"caso por defecto\", como el `else`.\n",
        "```python\n",
        "def saludar(dia):\n",
        "    match dia:\n",
        "        case \"lunes\":\n",
        "            print(\"Arranca la semana!\")\n",
        "        case \"viernes\":\n",
        "            print(\"¡Al fin viernes!\")\n",
        "        case \"sábado\" | \"domingo\":\n",
        "            print(\"¡Es fin de semana!\")\n",
        "        case _:\n",
        "            print(\"Es un día cualquiera.\")\n",
        "```"
      ]
    },
    {
      "cell_type": "markdown",
      "metadata": {},
      "source": [
        "<a id=\"sintaxis-de-programacion\"></a>\n",
        "## ► **Sintaxis de Programación**\n",
        "\n",
        "La sintaxis es el conjunto de reglas que definen cómo debe escribirse un programa en un lenguaje determinado.\n",
        "\n",
        "Por ejemplo, en Python:\n",
        "- Los bloques de código se definen con sangría (cuatro espacios o tabs).\n",
        "- No se usan llaves (`{` `}`) ni punto y coma (`;`).\n",
        "- Las funciones se definen con `def`.\n",
        "- Los comentarios se escriben con `#` o con bloques encerrados por `'''`.\n",
        "entre otras reglas de sintaxis, incluyendo sugerencias de estilo, tales como el formato para escribir nombres de variables, clases, métodos y demás, todos descriptos con la normativa opcional [PEP-8](https://peps.python.org/pep-0008/).\n",
        "\n",
        "Cada lenguaje tiene una sintaxis de programación que establece reglas sobre cómo deben declararse y utilizarse todos los conceptos vistos anteriormente."
      ]
    },
    {
      "cell_type": "markdown",
      "metadata": {},
      "source": [
        "# ► **Lenguajes Interpretados y Compilados**\n",
        "\n",
        "Los lenguajes interpretados son leídos casi tal cual como los escribe el programador para luego ser interpretado a instrucciones que la computadora puede entender, mientras que los lenguajes compilados, deben ser procesados antes de ser ejecutados en un proceso que se denomina \"compilación\". En este proceso el código escrito por los programadores es transformado en instrucciones que la computadora puede interpretar y luego es ejecutado a partir de ese archivo."
      ]
    }
  ],
  "metadata": {
    "colab": {
      "include_colab_link": true,
      "provenance": []
    },
    "kernelspec": {
      "display_name": "Python 3",
      "name": "python3"
    },
    "language_info": {
      "name": "python"
    }
  },
  "nbformat": 4,
  "nbformat_minor": 0
}

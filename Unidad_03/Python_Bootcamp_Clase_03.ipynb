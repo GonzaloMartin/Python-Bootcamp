{
  "cells": [
    {
      "cell_type": "markdown",
      "metadata": {
        "colab_type": "text",
        "id": "view-in-github"
      },
      "source": [
        "<a href=\"https://colab.research.google.com/github/GonzaloMartin/Python-Bootcamp/blob/main/Unidad_03/Python_Bootcamp_Clase_03.ipynb\" target=\"_parent\"><img src=\"https://colab.research.google.com/assets/colab-badge.svg\" alt=\"Open In Colab\"/></a>"
      ]
    },
    {
      "cell_type": "markdown",
      "metadata": {
        "id": "-TUcZs7nWywn"
      },
      "source": [
        "<img src=\"https://raw.githubusercontent.com/GonzaloMartin/Python-Bootcamp/refs/heads/main/Assets/python_bootcamp_banner1.png\" width=\"400\">\n",
        "\n",
        "# **Python Bootcamp orientado a la Automatización**\n",
        "\n",
        "El objetivo de la clase es brindar una introducción a la programación, presentando los fundamentos básicos de informática próximos pasos."
      ]
    },
    {
      "cell_type": "markdown",
      "metadata": {
        "id": "o9M3M7L0X1nL"
      },
      "source": [
        "# Unidad 3\n",
        "\n",
        "El objetivo de la clase es obtener la primera experiencia de trabajo con programación aprendiendo los siguientes temas.\n",
        "\n",
        "* Loops e iteraciones\n",
        "* Strings\n",
        "* Acceso a archivos\n",
        "\n",
        "La clase incluye teoría y práctica sobre cada tema aprendido."
      ]
    },
    {
      "cell_type": "markdown",
      "metadata": {
        "id": "hMRV7LXqgTsC"
      },
      "source": [
        "## Control de Flujo\n",
        "\n",
        "El control de flujo se refiere a la forma en que se ejecutan las instrucciones de un programa. Existen diferentes estructuras de control que permiten modificar el flujo de ejecución, como condicionales y bucles.\n",
        "Dependiendo de cómo se estructure ese flujo, el programa puede comportarse de formas distintas.\n",
        "\n",
        "Los tres tipos básicos de control de flujo son:\n",
        "1. Flujo Secuencial\n",
        "2. Flujo Condicional (o selectivo)\n",
        "3. Flujo Iterativo (o repetitivo)\n",
        "\n"
      ]
    },
    {
      "cell_type": "markdown",
      "metadata": {},
      "source": [
        "### Flujo Secuencial\n",
        "\n",
        "Para Python, la lectura del código es secuencial. Es decir, de arriba hacia abajo. Sin embargo, existen estructuras que permiten cambiar este flujo. Por ejemplo, si se desea ejecutar un bloque de código solo si se cumple una condición, se puede utilizar la estructura `if` (si). Si se desea ejecutar un bloque de código repetidamente, se puede utilizar la estructura `for` (para) o `while` (mientras).\n",
        "\n",
        "Ejemplo:"
      ]
    },
    {
      "cell_type": "code",
      "execution_count": null,
      "metadata": {},
      "outputs": [],
      "source": [
        "# Ejecución secuencial\n",
        "print(\"Inicio del programa\")\n",
        "\n",
        "# Definimos dos variables\n",
        "a = 10\n",
        "b = 20\n",
        "\n",
        "# Realizamos una operación\n",
        "suma = a + b\n",
        "\n",
        "# Mostramos el resultado\n",
        "print(\"La suma de a y b es:\", suma)\n",
        "\n",
        "print(\"Fin del programa\")"
      ]
    },
    {
      "cell_type": "markdown",
      "metadata": {},
      "source": [
        "### Flujo Condicional\n",
        "\n",
        "Consiste en ejecutar un bloque de código solo si se cumple una condición. En Python, se utiliza la instrucción `if` para implementar el flujo condicional. Según la Unidad Anterior, se puede utilizar la instrucción `if` para evaluar una condición y ejecutar un bloque de código si la condición es verdadera. También se pueden utilizar las instrucciones `elif` (sino si) y `else` (sino) para manejar múltiples condiciones.\n",
        "\n",
        "Con esta estructura, el código ya no es secuencial, sino que el flujo de ejecución depende de la evaluación de las condiciones. Si la condición es verdadera, se ejecuta el bloque de código correspondiente. Si no, se evalúa la siguiente condición y así sucesivamente. Si ninguna de las condiciones es verdadera, se ejecuta el bloque de código del `else` (sino)."
      ]
    },
    {
      "cell_type": "markdown",
      "metadata": {},
      "source": [
        "<img src=\"https://raw.githubusercontent.com/GonzaloMartin/Python-Bootcamp/refs/heads/main/Assets/u3_if_statement.png\" width=\"400\">\n"
      ]
    }
  ],
  "metadata": {
    "colab": {
      "include_colab_link": true,
      "provenance": []
    },
    "kernelspec": {
      "display_name": "venv",
      "language": "python",
      "name": "python3"
    },
    "language_info": {
      "codemirror_mode": {
        "name": "ipython",
        "version": 3
      },
      "file_extension": ".py",
      "mimetype": "text/x-python",
      "name": "python",
      "nbconvert_exporter": "python",
      "pygments_lexer": "ipython3",
      "version": "3.9.13"
    }
  },
  "nbformat": 4,
  "nbformat_minor": 0
}

{
  "cells": [
    {
      "cell_type": "markdown",
      "metadata": {
        "colab_type": "text",
        "id": "view-in-github"
      },
      "source": [
        "<a href=\"https://colab.research.google.com/github/GonzaloMartin/Python-Bootcamp/blob/main/Unidad_03/Python_Bootcamp_Clase_03.ipynb\" target=\"_parent\"><img src=\"https://colab.research.google.com/assets/colab-badge.svg\" alt=\"Open In Colab\"/></a>"
      ]
    },
    {
      "cell_type": "markdown",
      "metadata": {
        "id": "-TUcZs7nWywn"
      },
      "source": [
        "<img src=\"https://raw.githubusercontent.com/GonzaloMartin/Python-Bootcamp/refs/heads/main/Assets/python_bootcamp_banner1.png\" width=\"400\">\n",
        "\n",
        "# **Python Bootcamp orientado a la Automatización**\n",
        "\n",
        "El objetivo de la clase es brindar una introducción a la programación, presentando los fundamentos básicos de informática próximos pasos."
      ]
    },
    {
      "cell_type": "markdown",
      "metadata": {
        "id": "o9M3M7L0X1nL"
      },
      "source": [
        "# Unidad 3\n",
        "\n",
        "El objetivo de la clase es obtener la primera experiencia de trabajo con programación aprendiendo los siguientes temas.\n",
        "\n",
        "* Control de Flujos Secuenciales, Condicionales e Iterativos.\n",
        "* Strings\n",
        "* Manejo de Archivos\n",
        "* Manejo de Errores y Excepciones\n",
        "\n",
        "La clase incluye teoría y práctica sobre cada tema aprendido."
      ]
    },
    {
      "cell_type": "markdown",
      "metadata": {
        "id": "hMRV7LXqgTsC"
      },
      "source": [
        "## Control de Flujo\n",
        "\n",
        "El control de flujo se refiere a la forma en que se ejecutan las instrucciones de un programa. Existen diferentes estructuras de control que permiten modificar el flujo de ejecución, como condicionales y bucles.\n",
        "Dependiendo de cómo se estructure ese flujo, el programa puede comportarse de formas distintas.\n",
        "\n",
        "Los tres tipos básicos de control de flujo son:\n",
        "1. Flujo Secuencial\n",
        "2. Flujo Condicional (o selectivo)\n",
        "3. Flujo Iterativo (o repetitivo)\n",
        "\n"
      ]
    },
    {
      "cell_type": "markdown",
      "metadata": {},
      "source": [
        "### Flujo Secuencial\n",
        "\n",
        "Para Python, la lectura del código es secuencial. Es decir, de arriba hacia abajo. Sin embargo, existen estructuras que permiten cambiar este flujo. Por ejemplo, si se desea ejecutar un bloque de código solo si se cumple una condición, se puede utilizar la estructura `if` (si). Si se desea ejecutar un bloque de código repetidamente, se puede utilizar la estructura `for` (para) o `while` (mientras).\n",
        "\n",
        "Ejemplo:"
      ]
    },
    {
      "cell_type": "code",
      "execution_count": null,
      "metadata": {},
      "outputs": [],
      "source": [
        "# Ejecución secuencial\n",
        "print(\"Inicio del programa\")\n",
        "\n",
        "# Definimos dos variables\n",
        "a = 10\n",
        "b = 20\n",
        "\n",
        "# Realizamos una operación\n",
        "suma = a + b\n",
        "\n",
        "# Mostramos el resultado\n",
        "print(\"La suma de a y b es:\", suma)\n",
        "\n",
        "print(\"Fin del programa\")"
      ]
    },
    {
      "cell_type": "markdown",
      "metadata": {},
      "source": [
        "### Flujo Condicional\n",
        "\n",
        "Consiste en ejecutar un bloque de código solo si se cumple una condición. En Python, se utiliza la instrucción `if` para implementar el flujo condicional. Según la Unidad Anterior, se puede utilizar la instrucción `if` para evaluar una condición y ejecutar un bloque de código si la condición es verdadera. También se pueden utilizar las instrucciones `elif` (sino si) y `else` (sino) para manejar múltiples condiciones.\n",
        "\n",
        "Con esta estructura, el código ya no es secuencial, sino que el flujo de ejecución depende de la evaluación de las condiciones. Si la condición es verdadera, se ejecuta el bloque de código correspondiente. Si no, se evalúa la siguiente condición y así sucesivamente. Si ninguna de las condiciones es verdadera, se ejecuta el bloque de código del `else` (sino)."
      ]
    },
    {
      "cell_type": "markdown",
      "metadata": {},
      "source": [
        "<img src=\"https://raw.githubusercontent.com/GonzaloMartin/Python-Bootcamp/refs/heads/main/Assets/u3_if_structure.png\" width=\"300\">"
      ]
    },
    {
      "cell_type": "markdown",
      "metadata": {},
      "source": [
        "<img src=\"https://raw.githubusercontent.com/GonzaloMartin/Python-Bootcamp/refs/heads/main/Assets/u3_if_statement.png\" width=\"500\">"
      ]
    },
    {
      "cell_type": "markdown",
      "metadata": {},
      "source": [
        "### Estructura if - Repaso\n",
        "\n",
        "Primero veamos un repaso de la estructura if. Esta nos permite realizar una serie de instrucciones si se cumple una condición. Sigue la siguiente sintaxis:\n",
        "```python\n",
        "if condicion1:\n",
        "    # Si se cumple condicion 1\n",
        "    ...\n",
        "elif condicion2:\n",
        "    # Si se cumple condicion 2\n",
        "    ...\n",
        "else:\n",
        "    # Si no se cumple ninguna condición\n",
        "    ...\n",
        "```\n",
        "\n",
        "Ejemplo:"
      ]
    },
    {
      "cell_type": "code",
      "execution_count": null,
      "metadata": {},
      "outputs": [],
      "source": [
        "# Obtengo un valor que el usuario ingresa por teclado y lo guardo en la variable 'numero'\n",
        "numero = int(input(\"Ingerse un número: \"))\n",
        "\n",
        "# Si la variable número es mayor a 0\n",
        "if numero > 0:\n",
        "    print(\"El número es positivo\")  # Si la condición se cumple, se ejecuta esta línea\n",
        "elif numero < 0:                    # En cambio, si la condición no se cumple...\n",
        "    print(\"El número es negativo\")  # ...se evalúa esta otra condición.\n",
        "else:                               # Si ninguna de las condiciones anteriores se cumple...\n",
        "    print(\"El número es 0\")         # ...se ejecuta esta línea."
      ]
    },
    {
      "cell_type": "markdown",
      "metadata": {},
      "source": [
        "## Flujo Iterativo\n",
        "\n",
        "El flujo iterativo permite ejecutar un bloque de código repetidamente mientras se cumpla una condición.\n",
        "\n",
        "En Python, existen dos estructuras principales para implementar el flujo iterativo: `for` y `while`. La estructura `for` se utiliza para iterar sobre una secuencia (como una lista o un rango), mientras que la estructura `while` se utiliza para repetir un bloque de código mientras una condición sea verdadera."
      ]
    },
    {
      "cell_type": "markdown",
      "metadata": {},
      "source": [
        "### 🌀 Estructura de Ciclo Finito - `for` (para)\n",
        "\n",
        "La estructura `for` se utiliza para iterar sobre una secuencia de un conjunto (como una lista, una cadena de texto o un rango). La sintaxis básica es la siguiente:\n",
        "\n",
        "```python\n",
        "for variable in secuencia:\n",
        "    # Bloque de código a ejecutar en cada iteración\n",
        "    ...\n",
        "```\n",
        "\n",
        "En cada iteración, una variable toma el valor del elemento de la secuencia y el código se ejecuta 1 vez por cada iteración.\n",
        "Es útil cuando se conoce de antemano el número de iteraciones que se desea realizar o cuando se desea recorrer una secuencia de elementos.\n",
        "\n",
        "El primer conjunto que veremos es el rango o `range`. El rango es una función que genera una secuencia de números enteros. Funciona de la siguiente manera:\n",
        "\n",
        "```python\n",
        "    range(inicio, fin, paso)    # 'paso' es opcional y por defecto es 1. Sirve para indicar el incremento entre cada número.\n",
        "```\n",
        "Esto significa que internamente, se generará un conjunto de valores que vayan desde el inicio hasta fin.\n",
        "Inicio: El valor inicial del bucle. Siempre comienza desde 0, a menos que se especifique lo contrario.\n",
        "Fin: El valor final del bucle. Como el rango es exclusivo, el bucle se detendrá antes de alcanzar este valor.\n",
        "Paso: El incremento entre cada número. Por defecto es 1, pero se puede especificar un valor diferente.\n",
        "\n",
        "Ejemplo:\n",
        "```python\n",
        "    for i in range(5):   # Para 'i' dentro del rango de 0 a 5 (sin incluir 5), iterar...\n",
        "        print(i)         # Imprime en pantalla el valor que va tomando 'i' en cada iteración.\n",
        "```\n",
        "\n",
        "Otro ejemplo:\n",
        "\n",
        "PREGUNTA: Antes de correr el código, cual va a ser la salida del programa?"
      ]
    },
    {
      "cell_type": "code",
      "execution_count": null,
      "metadata": {},
      "outputs": [],
      "source": [
        "# Por cada x en el rango de 0 a 4..\n",
        "for x in range(0, 4):\n",
        "    print(x)    # Imprimo la variable x"
      ]
    },
    {
      "cell_type": "markdown",
      "metadata": {},
      "source": [
        "Cambiando el valor incremental del rango...\n",
        "Qué valores imprimirá el siguiente bloque de código?"
      ]
    },
    {
      "cell_type": "code",
      "execution_count": null,
      "metadata": {},
      "outputs": [],
      "source": [
        "for x in range(0, 10, 2):\n",
        "    print(x)"
      ]
    },
    {
      "cell_type": "markdown",
      "metadata": {},
      "source": [
        "Es posible también especificar una directiva de orden decreciente. Por ejemplo, si se desea contar de 10 a 1, se puede hacer de la siguiente manera:"
      ]
    },
    {
      "cell_type": "code",
      "execution_count": null,
      "metadata": {},
      "outputs": [],
      "source": [
        "for x in range(10, 0, -1):  # Se especifica el paso -1 que indica el decremento\n",
        "    print(x)"
      ]
    },
    {
      "cell_type": "markdown",
      "metadata": {},
      "source": [
        "También podemos iterar sobre cadenas de texto:"
      ]
    },
    {
      "cell_type": "code",
      "execution_count": null,
      "metadata": {},
      "outputs": [],
      "source": [
        "# Por cada letra en la cadena \"hola\"..\n",
        "for x in \"hola\":\n",
        "    print(x)    # Imprimo la letra que va conteniendo la variable 'x'."
      ]
    },
    {
      "cell_type": "markdown",
      "metadata": {},
      "source": [
        "### Challenge 1\n",
        "\n",
        "Escribir un programa que imprima por pantalla la suma de todos los números pares entre 0 y un número cualquiera ingresado por teclado.\n",
        "\n",
        "En términos matemáticos:\n",
        "\n",
        "$respuesta = \\sum_{x=0}^{n/2}2x$\n",
        " \n",
        "Utilizar un ciclo `for` para resolver el problema."
      ]
    },
    {
      "cell_type": "code",
      "execution_count": null,
      "metadata": {},
      "outputs": [],
      "source": [
        "# Challenge 1\n",
        "# Escribe tu código aquí."
      ]
    },
    {
      "cell_type": "markdown",
      "metadata": {},
      "source": [
        "### 🌀 Estructura de Ciclo Infinito - `while` (mientras)\n",
        "\n",
        "La estructura `while` se utiliza para repetir un bloque de código mientras una condición sea verdadera. \n",
        "Por lo general se utiliza cuando no se conoce de antemano el número de iteraciones que se desea realizar. \n",
        "Es importante asegurarse de que la condición pueda volverse falsa en algún momento, de lo contrario, se generará un bucle infinito.\n",
        "\n",
        "Por decir un ejemplo, un bucle infinito es un bucle que nunca termina. Esto puede suceder si la condición del bucle nunca se vuelve falsa. Por ejemplo, si se tiene un bucle `while` que siempre evalúa una condición verdadera, el bucle seguirá ejecutándose indefinidamente.\n",
        "\n",
        "_\"Mientras la condición sea verdadera, el bucle seguirá ejecutándose.\"_\n",
        "\n",
        "_\"Mientras la condición sea falsa, el bucle se detendrá.\"_\n",
        "\n",
        "_\"Mientras haya una fuente de energía, un artefacto electrónico seguirá funcionando.\"_\n",
        "\n",
        "Se emplea emplea de la siguiente manera:\n",
        "\n",
        "```python\n",
        "    while condición:\n",
        "        # Bloque de código que se repite mientras la condición sea True\n",
        "        # Se sale del bucle cuando la condición se vuelve False\n",
        "```\n",
        "\n",
        "Ejemplos:"
      ]
    },
    {
      "cell_type": "code",
      "execution_count": null,
      "metadata": {},
      "outputs": [],
      "source": [
        "contador = 0\n",
        "while contador < 5:   # Mientras el contador sea menor a 5...\n",
        "    print(contador)   # Imprime el valor del contador\n",
        "    contador = contador + 1     # Incrementa un valor al contador"
      ]
    },
    {
      "cell_type": "code",
      "execution_count": null,
      "metadata": {},
      "outputs": [],
      "source": [
        "numero = 0\n",
        "while numero < 10:\n",
        "    numero = numero + 1\n",
        "    if numero == 5:\n",
        "        print(\"Número 5 alcanzado\")\n",
        "    if numero == 8:\n",
        "        print(\"Número 8 alcanzado\")\n",
        "    print(numero)"
      ]
    },
    {
      "cell_type": "markdown",
      "metadata": {},
      "source": [
        "### 🚩 **Errores Comunes con `while`**\n",
        "\n",
        "**Olvidar actualizar la condición (bucle infinito):**  \n",
        "```python\n",
        "x = 0\n",
        "while x < 5:\n",
        "    print(x)  # x nunca se incrementa, esto provoca un bucle infinito\n",
        "```\n",
        "\n",
        "**Uso incorrecto de operadores lógicos:**  \n",
        "```python\n",
        "x = 10\n",
        "while x != 0 or x < 5:  # Esta condición siempre es True\n",
        "    print(x)\n",
        "    x -= 1\n",
        "```\n",
        "\n",
        "➡️ **Corrección:**  \n",
        "```python\n",
        "x = 10\n",
        "while x != 0 and x < 5:  # Se arregla la condición usando \"and\", según operadores lógicos.\n",
        "    print(x)\n",
        "    x -= 1\n",
        "```"
      ]
    },
    {
      "cell_type": "markdown",
      "metadata": {},
      "source": [
        "### Challenge 2\n",
        "\n",
        "Desarrollar un programa que permita ingresar un número y que devuelva la suma de todos los números de 0 hasta ese número. En términos matemáticos:\n",
        "\n",
        "$respuesta = \\sum_{x=0}^{n}x$\n",
        "\n",
        "Para verificar que su resultado es correcto pueden utilizar la fórmula cerrada:\n",
        "$\\sum_{x=0}^{n}x = \\frac{n \\cdot (n+1)}{2} $\n",
        "\n",
        "Usar un ciclo `while` para resolver el problema.\n",
        "\n"
      ]
    },
    {
      "cell_type": "code",
      "execution_count": null,
      "metadata": {},
      "outputs": [],
      "source": [
        "# Challenge 2\n",
        "# Escribe tu código aquí."
      ]
    },
    {
      "cell_type": "markdown",
      "metadata": {},
      "source": [
        "### Challenge 3\n",
        "\n",
        "Escribir un programa que genere la siguiente secuencia de números:\n",
        "\n",
        "```\n",
        "3\n",
        "2\n",
        "1\n",
        "Despegue!!\n",
        "```\n",
        "Usar un ciclo de cualquier tipo para resolver el problema."
      ]
    },
    {
      "cell_type": "code",
      "execution_count": null,
      "metadata": {},
      "outputs": [],
      "source": [
        "# Challenge 3\n",
        "# Escribe tu código aquí."
      ]
    },
    {
      "cell_type": "markdown",
      "metadata": {},
      "source": [
        "### Uso de `break`\n",
        "\n",
        "La instrucción `break` se usa dentro de bucles (`for` o `while`) para salir del ciclo antes de que termine normalmente.\n",
        "Es útil cuando se cumple una condición específica y ya no es necesario seguir iterando.\n",
        "\n",
        "Ejemplo:"
      ]
    },
    {
      "cell_type": "code",
      "execution_count": null,
      "metadata": {},
      "outputs": [],
      "source": [
        "for i in range(10):\n",
        "    if i == 5:\n",
        "        break  # Sale del bucle cuando i es igual a 5\n",
        "    print(i)"
      ]
    },
    {
      "cell_type": "markdown",
      "metadata": {},
      "source": [
        "Otro ejemplo:"
      ]
    },
    {
      "cell_type": "code",
      "execution_count": null,
      "metadata": {},
      "outputs": [],
      "source": [
        "numero = int(input(\"Ingrese el número de iteraciones: \"))\n",
        "\n",
        "while numero > 0:         # Mientras el número sea mayor a 0\n",
        "    if numero > 10:       # Si el número es mayor a 10...\n",
        "        print(\"Acá frenamos.\")\n",
        "        break             # Salimos del bucle usando un break.\n",
        "\n",
        "    print(numero)         # Imprimimos el número\n",
        "    numero -= 1           # Decrementamos el número en 1 para la próxima iteración."
      ]
    },
    {
      "cell_type": "markdown",
      "metadata": {},
      "source": [
        "### Uso de `continue`\n",
        "\n",
        "La instrucción `continue` también se utiliza dentro de bucles (`for` o `while`), salvo que es para saltear el resto del bloque de código en la iteración actual y continuar con la siguiente iteración del ciclo.  A diferencia de `break`, que termina el bucle, `continue` solo salta la iteración actual y continúa con la siguiente.\n",
        "\n",
        "Ejemplo:"
      ]
    },
    {
      "cell_type": "code",
      "execution_count": null,
      "metadata": {},
      "outputs": [],
      "source": [
        "for i in range(5):\n",
        "    if i == 3:\n",
        "        continue  # Salta el resto del bloque de código cuando i es igual a 3\n",
        "    print(i)"
      ]
    },
    {
      "cell_type": "markdown",
      "metadata": {},
      "source": [
        "Otro ejemplo:\n",
        "\n",
        "Vemos que en este ejemplo no se imprimen los números pares, ya que el `continue` saltea la iteración."
      ]
    },
    {
      "cell_type": "code",
      "execution_count": null,
      "metadata": {},
      "outputs": [],
      "source": [
        "for i in range(0, 10):      # Por cada i en el rango 0 a 10\n",
        "    if i % 2 == 0:          # Si el resto de dividir por dos es 0\n",
        "        continue            # Salteamos la iteración\n",
        "    print(i)                # imprimimos i"
      ]
    },
    {
      "cell_type": "markdown",
      "metadata": {},
      "source": [
        "### Challenge 4\n",
        "\n",
        "Realizar un programa que le pida al usuario que ingrese una palabra y luego que imprima todas las vocales de la palabra ingresada.\n",
        "\n",
        "Ejemplo de salida:\n",
        "\n",
        "```\n",
        ">>> Ingrese una palabra: Automacion\n",
        ">>> a\n",
        ">>> o\n",
        ">>> i\n",
        ">>> o\n",
        "```"
      ]
    },
    {
      "cell_type": "code",
      "execution_count": null,
      "metadata": {},
      "outputs": [],
      "source": [
        "# Challenge 4\n",
        "# Escribe tu código aquí."
      ]
    },
    {
      "cell_type": "markdown",
      "metadata": {},
      "source": [
        "### Challenge 5\n",
        "\n",
        "Dada la siguiente cadena de texto: `\"123450543210\"`.\n",
        "\n",
        "Usar dicho string para que imprima en pantalla todos los números que va leyendo hasta que encuentre el primer `0`.\n",
        "\n",
        "Ejemplo de salida:\n",
        "\n",
        "```\n",
        ">>> 1\n",
        ">>> 2\n",
        ">>> 3\n",
        ">>> 4\n",
        ">>> 5\n",
        ">>> Fin del programa.\n",
        "```"
      ]
    },
    {
      "cell_type": "code",
      "execution_count": null,
      "metadata": {},
      "outputs": [],
      "source": [
        "# Challenge 5\n",
        "# Escribe tu código aquí."
      ]
    },
    {
      "cell_type": "markdown",
      "metadata": {},
      "source": [
        "## Strings\n",
        "\n",
        "Los strings son una secuencia de caracteres. En Python, se pueden crear strings utilizando comillas simples (`'`) o dobles (`\"`).\n",
        "\n",
        "Son inmutables, lo que significa que no se pueden modificar una vez creados. Sin embargo, se pueden crear nuevos strings a partir de los existentes.\n",
        "\n",
        "Si hacemos de cuenta que un string es una secuencia de caracteres, podemos pensar en él como una lista de caracteres. Por lo tanto, podemos acceder a los caracteres individuales utilizando índices, al igual que lo haríamos con una lista de elementos. Como por ejemplo, el índice de un libro.\n",
        "\n",
        "### Indexación de Strings\n",
        "\n",
        "El concepto de indexación se refiere a la forma en que se accede a los elementos individuales de una secuencia. En Python, los strings son secuencias de caracteres y se pueden indexar para acceder a caracteres individuales.\n",
        "\n",
        "La indexación en Python comienza en 0, lo que significa que el primer carácter de un string tiene un índice de 0, el segundo carácter tiene un índice de 1, y así sucesivamente.\n",
        "\n",
        "También se puede acceder a los caracteres desde el final del string utilizando índices negativos. Por ejemplo, el último carácter tiene un índice de -1, el penúltimo tiene un índice de -2, y así sucesivamente.\n",
        "\n",
        "Ejemplo de indexación:\n",
        "```python\n",
        "    cadena[numero_de_indice]\n",
        "```\n",
        "\n",
        "```python\n",
        "    string = \"Hola, mundo!\"\n",
        "    print(string[0])  # Imprime 'H', el primer carácter\n",
        "    print(string[7])  # Imprime 'm', el octavo carácter (índice 7, ya que empieza en 0)\n",
        "```\n",
        "\n",
        "Veamos otro ejemplo práctico:"
      ]
    },
    {
      "cell_type": "code",
      "execution_count": null,
      "metadata": {},
      "outputs": [],
      "source": [
        "indice = 0\n",
        "cadena = \"Hola Mundo\"\n",
        "\n",
        "print(cadena[indice])  # Imprime el carácter en la posición 0 de la cadena"
      ]
    },
    {
      "cell_type": "markdown",
      "metadata": {},
      "source": [
        "Notar que el índice comienza desde 0, es decir, que en el string \"Hola Mundo\" las letras tienen los siguientes índices:\n",
        "\n",
        "```\n",
        "H  o  l  a  (espacio)  M  u  n  d  o\n",
        "0  1  2  3      4      5  6  7  8  9\n",
        "```"
      ]
    },
    {
      "cell_type": "markdown",
      "metadata": {},
      "source": [
        "Esto nos permite interactuar con cada letra de la cadena de forma independiente.\n",
        "Pero también podemos pedir un rango de los caracteres:\n",
        "\n",
        "```python\n",
        "    cadena[comienzo:fin]\n",
        "```\n",
        "\n",
        "PREGUNTA: ¿Qué crees que va a imprimir el siguiente bloque de código?"
      ]
    },
    {
      "cell_type": "code",
      "execution_count": null,
      "metadata": {},
      "outputs": [],
      "source": [
        "string = \"Hola Mundo!\"\n",
        "print(string[0:4])\n",
        "print(string[5:10])"
      ]
    },
    {
      "cell_type": "markdown",
      "metadata": {},
      "source": [
        "### Instrucción `len()`\n",
        "\n",
        "La función `len()` se utiliza para obtener la longitud de un string, es decir, el número de caracteres que contiene. La sintaxis es la siguiente:\n",
        "\n",
        "```python\n",
        "    len(cadena)\n",
        "```"
      ]
    },
    {
      "cell_type": "markdown",
      "metadata": {},
      "source": [
        "Ejemplo:"
      ]
    },
    {
      "cell_type": "code",
      "execution_count": null,
      "metadata": {},
      "outputs": [],
      "source": [
        "cadena = \"Hola Mundo!\"\n",
        "\n",
        "print(len(cadena))"
      ]
    },
    {
      "cell_type": "markdown",
      "metadata": {},
      "source": [
        "Veamos qué ocurre si la cadena es ingresada por el usuario:"
      ]
    },
    {
      "cell_type": "code",
      "execution_count": null,
      "metadata": {},
      "outputs": [],
      "source": [
        "entrada = input(\"Ingrese una cadena: \")\n",
        "print(\"Cadena ingresada:\", entrada)\n",
        "print(\"Longitud de la cadena ingresada:\", len(entrada))"
      ]
    },
    {
      "cell_type": "markdown",
      "metadata": {},
      "source": [
        "### Operaciones con Strings\n",
        "\n",
        "Recordemos que los strings en Python son inmutables, por ende no se pueden modificar una vez creados.\n",
        "\n",
        "Sin embargo, se pueden hacer varias operaciones con ellos, como concatenación, multiplicación y formateo.\n",
        "\n",
        "#### Concatenación o suma ( $ab$ )\n",
        "La concatenación de strings se refiere a unir dos o más strings en uno solo. En Python, se puede hacer utilizando el operador `+`. Por ejemplo:\n",
        "\n",
        "```python\n",
        "    string1 = \"Hola\"\n",
        "    string2 = \"Mundo\"\n",
        "    resultado = string1 + \" \" + string2\n",
        "    print(resultado)  # Imprime 'Hola Mundo'\n",
        "```\n",
        "\n",
        "Veamos un ejemplo más básico:"
      ]
    },
    {
      "cell_type": "code",
      "execution_count": null,
      "metadata": {},
      "outputs": [],
      "source": [
        "a = \"ho\"\n",
        "b = \"la\"\n",
        "\n",
        "# Concateno las dos cadenas\n",
        "c = a + b\n",
        "# Vemos el resultado\n",
        "print(c)"
      ]
    },
    {
      "cell_type": "markdown",
      "metadata": {},
      "source": [
        "#### Multiplicación ($n \\cdot a$)\n",
        "\n",
        "La multiplicación de strings se refiere a repetir un string un número específico de veces. En Python, se puede hacer utilizando el operador `*`. Por ejemplo:\n",
        "\n",
        "```python\n",
        "    string = \"Hola\"\n",
        "    resultado = string * 3\n",
        "    print(resultado)  # Imprime 'HolaHolaHola'\n",
        "```\n",
        "\n",
        "Ejemplo:"
      ]
    },
    {
      "cell_type": "code",
      "execution_count": null,
      "metadata": {},
      "outputs": [],
      "source": [
        "a = \"JO\"\n",
        "n = 3\n",
        "\n",
        "# Multiplico el string\n",
        "c = n * a\n",
        "# Vemos el resultado\n",
        "print(c, \"Feliz navidad.\")"
      ]
    },
    {
      "cell_type": "markdown",
      "metadata": {},
      "source": [
        "### Formateo de Strings\n",
        "\n",
        "El formateo de strings se refiere a la forma en que se pueden insertar valores dentro de un string. En Python, existen varias formas de formatear strings, como el uso de `f-strings`, el método `format()` y el operador `%`.\n",
        "\n",
        "#### Formateo con `f-strings`\n",
        "\n",
        "Los `f-strings` son una forma de formatear strings introducida en Python 3.6. Permiten insertar variables y expresiones dentro de un string utilizando llaves `{}`. La sintaxis es la siguiente:\n",
        "\n",
        "```python\n",
        "    f\"Texto {variable} texto\"\n",
        "```\n",
        "\n",
        "Ejemplo:"
      ]
    },
    {
      "cell_type": "code",
      "execution_count": null,
      "metadata": {},
      "outputs": [],
      "source": [
        "nombre = \"Juan\"\n",
        "edad = 30\n",
        "mensaje = f\"Hola, mi nombre es {nombre} y tengo {edad} años.\"\n",
        "print(mensaje)"
      ]
    },
    {
      "cell_type": "markdown",
      "metadata": {},
      "source": [
        "#### Formateo con `format()`\n",
        "El método `format()` se utiliza para insertar valores dentro de un string utilizando llaves `{}`. La sintaxis es la siguiente:\n",
        "\n",
        "```python\n",
        "    \"Texto {} texto\".format(variable)\n",
        "```\n",
        "\n",
        "Ejemplo:"
      ]
    },
    {
      "cell_type": "code",
      "execution_count": null,
      "metadata": {},
      "outputs": [],
      "source": [
        "nombre = \"Juan\"\n",
        "edad = 30\n",
        "mensaje = \"Hola, mi nombre es {} y tengo {} años.\".format(nombre, edad)\n",
        "print(mensaje)"
      ]
    },
    {
      "cell_type": "markdown",
      "metadata": {},
      "source": [
        "#### Formateo con `%`\n",
        "\n",
        "El operador `%` se utiliza para insertar valores dentro de un string utilizando el símbolo `%`. La sintaxis es la siguiente:\n",
        "\n",
        "```python\n",
        "    \"Texto %s texto\" % variable\n",
        "```\n",
        "\n",
        "Ejemplo:"
      ]
    },
    {
      "cell_type": "code",
      "execution_count": null,
      "metadata": {},
      "outputs": [],
      "source": [
        "nombre = \"Juan\"\n",
        "edad = 30\n",
        "mensaje = \"Hola, mi nombre es %s y tengo %d años.\" % (nombre, edad)\n",
        "print(mensaje)"
      ]
    },
    {
      "cell_type": "markdown",
      "metadata": {},
      "source": [
        "### Substrings o Sub-cadenas\n",
        "\n",
        "Un substring es una secuencia de caracteres que se encuentra dentro de otro string. En Python, se pueden obtener substrings utilizando la indexación y el slicing (corte) de strings.\n",
        "\n",
        "Para los strings, se puede usar la función `in` para verificar si un substring está presente dentro de un string. La sintaxis es la siguiente:\n",
        "\n",
        "```python\n",
        "    substring in string\n",
        "```\n",
        "\n",
        "Ejemplo:"
      ]
    },
    {
      "cell_type": "code",
      "execution_count": null,
      "metadata": {},
      "outputs": [],
      "source": [
        "string = \"Hola, mundo!\"\n",
        "substring = \"Hola\"\n",
        "if substring in string:\n",
        "    print(\"El substring está presente en el string.\")\n",
        "else:\n",
        "    print(\"El substring buscado no existe en el string original.\")"
      ]
    },
    {
      "cell_type": "markdown",
      "metadata": {},
      "source": [
        "### Caracteres Blancos\n",
        "\n",
        "Los caracteres en blanco son aquellos que no son visibles, como espacios, tabulaciones y saltos de línea. En Python, se pueden utilizar muchos caracteres en blanco, por ahora sólo veremos los más comunes:\n",
        "\n",
        "* `\\n`: salto de línea (enter)\n",
        "* `\\t`: tabulación\n",
        "* `\\r`: retorno de carro\n",
        "* `\\0`: carácter nulo\n",
        "\n",
        "Ejemplo:"
      ]
    },
    {
      "cell_type": "code",
      "execution_count": null,
      "metadata": {},
      "outputs": [],
      "source": [
        "string = \"Hola\\nMundo\"\n",
        "print(string)  # Se imprimirá el caracter blanco '\\n', lo que provocará un salto de línea."
      ]
    },
    {
      "cell_type": "markdown",
      "metadata": {},
      "source": [
        "### Funciones de Strings\n",
        "\n",
        "Python proporciona varias funciones integradas para trabajar con strings. Algunas de las más comunes son:\n",
        "\n",
        "Para usar dichas funciones usamos el nombre de la cadena seguido de un punto y el nombre de la función. Por ejemplo:\n",
        "```python\n",
        "    cadena.nombre_de_la_funcion()\n",
        "```\n",
        "\n",
        "#### Función `upper()`\n",
        "\n",
        "Convierte todos los caracteres de un string a mayúsculas. La sintaxis es la siguiente:\n",
        "\n",
        "```python\n",
        "    string.upper()\n",
        "```\n",
        "\n",
        "Ejemplo:\n",
        "```python\n",
        "    string = \"Hola, mundo!\"\n",
        "    resultado = string.upper()\n",
        "    print(resultado)  # Imprime 'HOLA, MUNDO!'\n",
        "```\n",
        "\n",
        "#### Función `lower()`\n",
        "\n",
        "Convierte todos los caracteres de un string a minúsculas. La sintaxis es la siguiente:\n",
        "\n",
        "```python\n",
        "    string.lower()\n",
        "```\n",
        "\n",
        "Ejemplo:\n",
        "```python\n",
        "    string = \"HOLA, MUNDO!\"\n",
        "    resultado = string.lower()\n",
        "    print(resultado)  # Imprime 'hola, mundo!'\n",
        "```\n",
        "\n",
        "#### Función `strip()`\n",
        "\n",
        "Elimina los espacios en blanco al **principio y al final** de un string. La sintaxis es la siguiente:\n",
        "\n",
        "```python\n",
        "    string.strip()\n",
        "```\n",
        "\n",
        "Ejemplo:\n",
        "```python\n",
        "    string = \"   Hola, mundo!   \"\n",
        "    resultado = string.strip()\n",
        "    print(resultado)  # Imprime 'Hola, mundo!'\n",
        "```\n",
        "\n",
        "#### Función `split()`\n",
        "\n",
        "Divide un string en una lista de substrings utilizando un separador específico. La sintaxis es la siguiente:\n",
        "\n",
        "```python\n",
        "    string.split(separador)\n",
        "```\n",
        "\n",
        "Ejemplo:\n",
        "```python\n",
        "    string = \"Hola, mundo!\"\n",
        "    resultado = string.split(\", \")\n",
        "    print(resultado)  # Imprime ['Hola', 'mundo!']\n",
        "```\n",
        "\n",
        "#### Función `join()`\n",
        "\n",
        "Une una lista de substrings en un solo string utilizando un separador específico. La sintaxis es la siguiente:\n",
        "\n",
        "```python\n",
        "    separador.join(lista)\n",
        "```\n",
        "\n",
        "Ejemplo:\n",
        "```python\n",
        "    lista = ['Hola', 'mundo!']\n",
        "    resultado = \" \".join(lista)\n",
        "    print(resultado)  # Imprime 'Hola mundo!'\n",
        "```\n",
        "\n",
        "#### Función `replace()`\n",
        "Reemplaza todas las ocurrencias de un substring por otro substring en un string. La sintaxis es la siguiente:\n",
        "\n",
        "```python\n",
        "    string.replace(substring_a_reemplazar, nuevo_substring)\n",
        "```\n",
        "\n",
        "Ejemplo:\n",
        "```python\n",
        "    string = \"Hola, mundo!\"\n",
        "    resultado = string.replace(\"mundo\", \"Python\")\n",
        "    print(resultado)  # Imprime 'Hola, Python!'\n",
        "```\n",
        "\n",
        "#### Función `find()`\n",
        "\n",
        "Devuelve el índice de la primera ocurrencia de un substring en un string. Si no se encuentra, devuelve -1. La sintaxis es la siguiente:\n",
        "\n",
        "```python\n",
        "    string.find(substring)\n",
        "```\n",
        "\n",
        "Ejemplo:\n",
        "```python\n",
        "    string = \"Hola, mundo!\"\n",
        "    resultado = string.find(\"mundo\")\n",
        "    print(resultado)  # Imprime 7\n",
        "```\n",
        "\n",
        "#### Funcion `replace()`\n",
        "\n",
        "Reemplaza todas las ocurrencias de un substring por otro substring en un string. La sintaxis es la siguiente:\n",
        "\n",
        "```python\n",
        "    string.replace(substring_a_reemplazar, nuevo_substring)\n",
        "```\n",
        "\n",
        "Ejemplo:\n",
        "```python\n",
        "    string = \"Hola, mundo!\"\n",
        "    resultado = string.replace(\"mundo\", \"Python\")\n",
        "    print(resultado)  # Imprime 'Hola, Python!'\n",
        "```\n",
        "\n",
        "#### Función `count()`\n",
        "\n",
        "Devuelve el número de ocurrencias de un substring en un string. La sintaxis es la siguiente:\n",
        "\n",
        "```python\n",
        "    string.count(substring)\n",
        "```\n",
        "\n",
        "Ejemplo:\n",
        "```python\n",
        "    string = \"Hola, mundo! Hola, Python!\"\n",
        "    resultado = string.count(\"Hola\")\n",
        "    print(resultado)  # Imprime 2\n",
        "```\n",
        "\n",
        "#### Función `startswith()`\n",
        "\n",
        "Devuelve `True` si un string comienza con un substring específico, de lo contrario devuelve `False`. La sintaxis es la siguiente:\n",
        "\n",
        "```python\n",
        "    string.startswith(substring)\n",
        "```\n",
        "\n",
        "Ejemplo:\n",
        "```python\n",
        "    string = \"Hola, mundo!\"\n",
        "    resultado = string.startswith(\"Hola\")\n",
        "    print(resultado)  # Imprime True\n",
        "```\n",
        "\n",
        "#### Función `endswith()`\n",
        "\n",
        "Devuelve `True` si un string termina con un substring específico, de lo contrario devuelve `False`. La sintaxis es la siguiente:\n",
        "\n",
        "```python\n",
        "    string.endswith(substring)\n",
        "```\n",
        "\n",
        "Ejemplo:\n",
        "```python\n",
        "    string = \"Hola, mundo!\"\n",
        "    resultado = string.endswith(\"mundo!\")\n",
        "    print(resultado)  # Imprime True\n",
        "```\n",
        "\n",
        "#### Función `capitalize()`\n",
        "\n",
        "Convierte el primer carácter de un string a mayúscula y el resto a minúscula. La sintaxis es la siguiente:\n",
        "\n",
        "```python\n",
        "    string.capitalize()\n",
        "```\n",
        "\n",
        "Ejemplo:\n",
        "```python\n",
        "    string = \"hola, mundo!\"\n",
        "    resultado = string.capitalize()\n",
        "    print(resultado)  # Imprime 'Hola, mundo!'\n",
        "```\n",
        "\n",
        "Estos son algunos ejemplos de funciones que tienen los strings, pero hay muchas más. Para ver la lista completa de funciones que tienen los strings, pueden consultar la [documentación oficial de Python](https://docs.python.org/3/library/stdtypes.html#text-sequence-type-str).\n",
        "\n",
        "PREGUNTA ¿Que devolverá el siguiente código?"
      ]
    },
    {
      "cell_type": "code",
      "execution_count": null,
      "metadata": {},
      "outputs": [],
      "source": [
        "cadena = \"Hola, como estas?\"\n",
        "indice = cadena.find(\"Como\")\n",
        "\n",
        "print(indice)"
      ]
    },
    {
      "cell_type": "markdown",
      "metadata": {},
      "source": [
        "### Challenge 6\n",
        "\n",
        "Pedir al usuario un string y analizarlo para determinar si es un [palindromo](https://es.wikipedia.org/wiki/Pal%C3%ADndromo).\n",
        "\n",
        "Un palíndromo es una palabra, frase o número que se lee igual de izquierda a derecha que de derecha a izquierda, ignorando espacios, signos de puntuación y mayúsculas/minúsculas.\n",
        "\n",
        "Ejemplo de palabras palíndromas:\n",
        "- \"reconocer\"\n",
        "- \"salas\"\n",
        "- \"arenera\"\n",
        "\n",
        "Ejemplo de frases palíndromas:\n",
        "- \"Anita lava la tina\"\n",
        "- \"La ruta natural\"\n",
        "- \"Yo hago yoga hoy\"\n",
        "\n",
        "Ejemplo de salida:\n",
        "```\n",
        ">>> Ingrese una palabra o frase: Hola\n",
        ">>> La palabra o frase no es un palíndromo.\n",
        "```\n",
        "\n",
        "```\n",
        ">>> Ingrese una palabra o frase: Neuquen\n",
        ">>> La palabra o frase es un palíndromo.\n",
        "```"
      ]
    },
    {
      "cell_type": "markdown",
      "metadata": {},
      "source": [
        "## Acceso a Archivos\n",
        "\n",
        "Los archivos son una forma de almacenar datos de forma permanente en un dispositivo de almacenamiento.\n",
        "\n",
        "### ¿Qué es y para qué sirve?\n",
        "\n",
        "El acceso a archivos permite que un programa de Python **lea** y/o **escriba** información directamente en archivos del sistema, como `.txt`, `.csv`, `.json`, etc.\n",
        "\n",
        "Esto es útil para:\n",
        "- Guardar registros o logs\n",
        "- Leer configuraciones\n",
        "- Persistir datos entre ejecuciones\n",
        "- Procesar grandes volúmenes de información\n",
        "\n",
        "\n",
        "### Abrir un Archivo: `open()`  \n",
        "\n",
        "La función `open()` se utiliza para abrir un archivo y devolver un objeto de archivo. La sintaxis básica es la siguiente:\n",
        "\n",
        "```python\n",
        "archivo = open(\"ruta/del/archivo.txt\", \"modo\")\n",
        "```\n",
        "\n",
        "Los modos más comunes son:\n",
        "\n",
        "- `\"r\"`: Leer (read) → da error si el archivo no existe  \n",
        "- `\"w\"`: Escribir (write) → crea archivo nuevo o lo sobrescribe  \n",
        "- `\"a\"`: Agregar (append) → agrega contenido al final del archivo  \n",
        "- `\"r+\"`: Leer y escribir  \n",
        "- `\"b\"`: modo binario (por ejemplo `\"rb\"`, `\"wb\"`)\n",
        "\n",
        "Ejemplo:\n",
        "\n",
        "```python\n",
        "archivo = open(\"datos.txt\", \"r\")\n",
        "\n",
        "for linea in archivo:\n",
        "    print(linea.strip())    # strip() elimina saltos de línea en los extremos\n",
        "\n",
        "archivo.close()\n",
        "```\n",
        "\n",
        "### Escribir en un archivo: `write()`\n",
        "\n",
        "Para escribir en un archivo, se utiliza el modo `\"w\"` o `\"a\"` al abrir el archivo. Si se usa `\"w\"`, el contenido anterior del archivo se sobrescribirá. Si se usa `\"a\"`, el nuevo contenido se agregará al final del archivo.\n",
        "\n",
        "Ejemplo:\n",
        "\n",
        "```python\n",
        "archivo = open(\"salida.txt\", \"w\")\n",
        "archivo.write(\"Primera línea\\n\")\n",
        "archivo.write(\"Segunda línea\\n\")\n",
        "archivo.close()\n",
        "```\n",
        "\n",
        "### Agregar contenido a un archivo existente: `append`\n",
        "\n",
        "Para agregar contenido a un archivo existente sin sobrescribirlo, se utiliza el modo `\"a\"` al abrir el archivo. Esto permite agregar nuevas líneas al final del archivo.\n",
        "\n",
        "Ejemplo:\n",
        "\n",
        "```python\n",
        "archivo = open(\"salida.txt\", \"a\")\n",
        "archivo.write(\"Nueva línea agregada\\n\")\n",
        "archivo.close()\n",
        "```\n",
        "\n",
        "### Uso de `with` para manejo seguro\n",
        "\n",
        "El uso de `with` es una forma recomendada de manejar archivos en Python, ya que garantiza que el archivo se cierre de forma segura.\n",
        "\n",
        "La sintaxis es la siguiente:\n",
        "\n",
        "```python\n",
        "with open(\"datos.txt\", \"r\") as archivo:\n",
        "    contenido = archivo.read()\n",
        "    print(contenido)\n",
        "```\n",
        "\n",
        "🔒 **Observación**: no es necesario llamar a `close()`. Se cierra automáticamente, incluso si ocurre un error.\n",
        "\n",
        "### Leer archivo y guardar datos en una lista\n",
        "\n",
        "Uno puede leer un archivo línea por línea y guardar cada línea en una lista. Esto es útil para procesar datos de forma más estructurada. Ya que cada línea se convierte en un elemento de la lista y se puede acceder a ellos fácilmente dado que la información ya no está en forma de archivo, sino en memoria dinámica.\n",
        "\n",
        "Por ejemplo:\n",
        "\n",
        "```python\n",
        "nombres = []\n",
        "with open(\"nombres.txt\", \"r\") as archivo:   # Abre el archivo en modo lectura\n",
        "    for linea in archivo:\n",
        "        nombres.append(linea.strip())   # Agrega cada línea a la lista, eliminando saltos de línea\n",
        "\n",
        "print(\"Nombres cargados:\", nombres)\n",
        "```"
      ]
    },
    {
      "cell_type": "code",
      "execution_count": null,
      "metadata": {},
      "outputs": [],
      "source": [
        "# EJEMPLOS DE MANIPULACIÓN DE CADENAS\n",
        "\n",
        "# Abro el archivo en modo escritura y lo asigno a la variable fp\n",
        "with open(\"archivo.txt\", \"w\") as fp:\n",
        "    # Escribo en fp un texto.\n",
        "    fp.write(\"Hola, qué tal?\\nEste es un ejemplo.\\nDe manejo de archivos usando Python.\")\n",
        "\n",
        "# Abro el archivo en modo lectura y lo asigno a la variable fp\n",
        "with open(\"archivo.txt\", \"r\") as fp:\n",
        "    print(fp.readline())    # leo la primera linea\n",
        "    print(fp.readline())    # leo la segunda linea\n",
        "    print(fp.readline())    # leo la tercera linea"
      ]
    },
    {
      "cell_type": "markdown",
      "metadata": {},
      "source": [
        "## Manejo de Excepciones\n",
        "\n",
        "### ¿Qué es una excepción?\n",
        "\n",
        "En Python, una **excepción** es un error que ocurre durante la ejecución del programa y que interrumpe su flujo normal. Las excepciones pueden ser causadas por errores de programación, errores de entrada/salida, problemas de red, entre otros.\n",
        "Cuando ocurre una excepción, el programa **se detiene** a menos que se maneje explícitamente.\n",
        "\n",
        "Por ejemplo, si intentamos dividir un número por cero, Python generará una excepción `ZeroDivisionError`:"
      ]
    },
    {
      "cell_type": "code",
      "execution_count": null,
      "metadata": {},
      "outputs": [],
      "source": [
        "print(10 / 0)  # Error: ZeroDivisionError"
      ]
    },
    {
      "cell_type": "markdown",
      "metadata": {},
      "source": [
        "### Cómo se manejan las Excepciones\n",
        "\n",
        "El manejo de excepciones es una técnica que permite **capturar** y **manejar** errores en un programa sin que este se detenga abruptamente. Esto es especialmente útil en situaciones donde el error puede ser anticipado, como la entrada de datos del usuario o la lectura de archivos.\n",
        "Esto permite que el programa continúe su ejecución y proporcione mensajes de error claros al usuario, en lugar de simplemente detenerse con letras rojas de (t)error.\n",
        "\n",
        "De esta forma nos **anticipamos al error** y actuamos en consecuencia para evitar que el programa explote por los aires.\n",
        "\n",
        "### Estructura `try-except`.\n",
        "\n",
        "Permite ejecutar un bloque de código y, si ocurre una excepción, capturarla y manejarla de manera controlada.\n",
        "\n",
        "La sintaxis básica es la siguiente:\n",
        "\n",
        "```python\n",
        "    try:\n",
        "        # Bloque de código que puede lanzar un error\n",
        "        ...\n",
        "    except TipoDeExcepcion:\n",
        "        # Código que se ejecuta si ocurre ese error\n",
        "        ...\n",
        "```\n",
        "\n",
        "#### Ejemplo 1: División entre cero\n",
        "\n",
        "```python\n",
        "    try:\n",
        "        resultado = 10 / 0\n",
        "    except ZeroDivisionError:\n",
        "        print(\"No se puede dividir por cero.\")\n",
        "```\n",
        "\n",
        "#### Ejemplo 2: Conversión de string a número\n",
        "\n",
        "```python\n",
        "    entrada = input(\"Ingrese un número: \")\n",
        "\n",
        "    try:\n",
        "        numero = int(entrada)\n",
        "        print(\"El doble es:\", numero * 2)\n",
        "    except ValueError:\n",
        "        print(\"Eso no es un número válido.\")\n",
        "```\n",
        "\n",
        "#### Ejemplo 3: Múltiples excepciones\n",
        "\n",
        "```python\n",
        "    try:\n",
        "        archivo = open(\"datos.txt\", \"r\")\n",
        "        contenido = archivo.read()\n",
        "        numero = int(contenido)\n",
        "        print(\"Número leído:\", numero)\n",
        "        archivo.close()\n",
        "    except FileNotFoundError:\n",
        "        print(\"El archivo no existe.\")\n",
        "    except ValueError:\n",
        "        print(\"El contenido no es un número.\")\n",
        "```\n",
        "\n",
        "#### Ejemplo 4: Capturar cualquier error (no recomendado salvo casos especiales)\n",
        "\n",
        "```python\n",
        "    try:\n",
        "        # Código que puede fallar\n",
        "        ...\n",
        "    except Exception as e:\n",
        "        print(\"Ocurrió un error:\", e)\n",
        "```\n",
        "\n",
        "De esta forma vemos que, cualquier bloque de código que pueda fallar, lo podemos encerrar dentro de un bloque `try` y si ocurre un error, Python salteará ese bloque de código e irá directamente a ejecutar el bloque `except` correspondiente, para mitigar cualquier error en tiempo de ejecución.\n",
        "\n",
        "\n",
        "### Uso de `finally`\n",
        "\n",
        "El bloque `finally` se ejecuta **siempre**, ocurra o no una excepción. Es útil para liberar recursos (cerrar archivos, conexiones, etc.).\n",
        "\n",
        "```python\n",
        "    try:\n",
        "        archivo = open(\"datos.txt\", \"r\") # Abre el archivo en modo lectura\n",
        "        contenido = archivo.read()       # Lee el contenido del archivo\n",
        "    except FileNotFoundError:\n",
        "        print(\"Archivo no encontrado.\")  # Manejo de excepción si el archivo no existe\n",
        "    finally:\n",
        "        print(\"Operación finalizada.\")   # Bloque de código que siempre se ejecuta al final.\n",
        "```\n",
        "\n",
        "\n",
        "### Buenas prácticas\n",
        "\n",
        "- Usar excepciones **específicas** (`ValueError`, `KeyError`, etc.).\n",
        "- Evitar capturar `Exception` genérica si no es necesario.\n",
        "- Usar `finally` para limpieza o cierre de recursos.\n",
        "- Agregar mensajes útiles para que el usuario entienda el error."
      ]
    },
    {
      "cell_type": "markdown",
      "metadata": {},
      "source": [
        "Ahora que vimos todos los temas..."
      ]
    },
    {
      "cell_type": "markdown",
      "metadata": {},
      "source": [
        "<img src=\"https://raw.githubusercontent.com/GonzaloMartin/Python-Bootcamp/refs/heads/main/Assets/listos_ejercicios.jpg\" width=\"500\">"
      ]
    },
    {
      "cell_type": "markdown",
      "metadata": {},
      "source": [
        "## Challenge Integrador 1\n",
        "\n",
        "### Calculadora 3.0 - (Dificultad: Media)\n",
        "\n",
        "Implementar una calculadora interactiva parecida a las anteriores (pueden reutilizar código de la calculadora que ya hicieron), pero que permita al usuario ingresar operaciones matemáticas básicas (suma, resta, multiplicación y división) hasta que decida salir del programa ingresando \"salir\". La calculadora debe permitir al usuario ingresar dos números y una operación, y luego mostrar el resultado. Si el usuario ingresa \"salir\", el programa debe terminar.\n",
        "\n",
        "\n",
        "#### Ejemplo de salida esperada:\n",
        "```\n",
        ">>> 4\n",
        ">>> *\n",
        ">>> 2\n",
        "8\n",
        ">>> +\n",
        ">>> 2\n",
        "10\n",
        ">>> -\n",
        ">>> 4\n",
        "6\n",
        ">>> /\n",
        ">>> 6\n",
        "1\n",
        ">>> salir\n",
        "Fin del programa.\n",
        "```"
      ]
    },
    {
      "cell_type": "code",
      "execution_count": null,
      "metadata": {},
      "outputs": [],
      "source": [
        "# Challenge Integrador 1\n",
        "# Escribe tu código aquí.\n",
        "# Dado que es un ejercicio largo, te recomiendo que lo hagas en un archivo nuevo .py"
      ]
    },
    {
      "cell_type": "markdown",
      "metadata": {},
      "source": [
        "## Challenge Integrador 2\n",
        "\n",
        "### Conjetura de Collatz - (Dificultad: Baja)\n",
        "\n",
        "La conjetura de Collatz, también conocida como el problema 3n + 1, es un problema matemático no resuelto que plantea una secuencia de números enteros.\n",
        "\n",
        "Proviene del matemático **Lothar Collatz**, que conjeturó que la siguiente secuencia siempre converge a 1 en una cantidad finita de pasos para cualquier número entero positivo.\n",
        "\n",
        "*  Si el número es par, lo divido por 2.\n",
        "*  Si el número es impar, lo multiplico por 3 y le sumo 1.\n",
        "\n",
        "En términos matemáticos:\n",
        "\n",
        "Si $f(n)$ es par &nbsp;&nbsp;&nbsp;&nbsp; $f(n+1) = \\frac{f(n)}{2}$\n",
        "\n",
        "Si $f(n)$ es impar $f(n+1) = 3 \\cdot f(n) +1$\n",
        "\n",
        "\n",
        "### Implementación\n",
        "\n",
        "Escribir un programa que le pida al usuario un número entero positivo y aplique la conjetura de Collatz.\n",
        "Se pide imprimir la cantidad de pasos necesarios que le toma al programa para llegar al valor 1.\n",
        "\n",
        "Ejemplo:\n",
        "\n",
        "Ingreso por teclado el valor $`3`$:\n",
        "\n",
        "$3 → 10 → 5 → 16 → 8 → 4 → 2 → 1$\n",
        "\n",
        "```\n",
        ">>> 3\n",
        "7\n",
        "```\n",
        "\n",
        "Ingreso por teclado el valor $`4`$:\n",
        "\n",
        "$4 → 2 → 1$\n",
        "\n",
        "```\n",
        ">>> 4\n",
        "2\n",
        "```"
      ]
    },
    {
      "cell_type": "code",
      "execution_count": null,
      "metadata": {},
      "outputs": [],
      "source": [
        "# Challenge Integrador 2\n",
        "# Escribe tu código aquí.\n",
        "# Dado que es un ejercicio largo, te recomiendo que lo hagas en un archivo nuevo .py"
      ]
    },
    {
      "cell_type": "markdown",
      "metadata": {},
      "source": [
        "## Challenge Integrador 3\n",
        "\n",
        "### Triángulo Rectángulo - (Dificultad: Media)\n",
        "\n",
        "Un triángulo rectángulo es un triángulo que tiene un ángulo recto (90 grados). En este caso, el triángulo se representará en la consola utilizando caracteres ASCII.\n",
        "\n",
        "### Implementación\n",
        "\n",
        "Escribir un programa que pida por teclado al usuario la altura de un triángulo y lo imprima en la consola. El triángulo debe estar alineado a la izquierda y ser de tipo rectángulo. La altura del triángulo debe ser un número entero positivo.\n",
        "\n",
        "#### Ejemplos de salida esperada:\n",
        "\n",
        "```Code\n",
        ">>> Ingrese la altura del triángulo: 3\n",
        "\n",
        "|\\\n",
        "| \\\n",
        "|__\\\n",
        "```\n",
        "\n",
        "```Code\n",
        ">>> Ingrese la altura del triángulo: 4\n",
        "\n",
        "|\\\n",
        "| \\\n",
        "|  \\\n",
        "|___\\\n",
        "```"
      ]
    },
    {
      "cell_type": "code",
      "execution_count": null,
      "metadata": {},
      "outputs": [],
      "source": [
        "# Challenge Integrador 3\n",
        "# Escribe tu código aquí.\n",
        "# Dado que es un ejercicio largo, te recomiendo que lo hagas en un archivo nuevo .py"
      ]
    },
    {
      "cell_type": "markdown",
      "metadata": {},
      "source": [
        "## Challenge Integrador 4  (Ejercicio Opcional)\n",
        "\n",
        "### Gestor de Alumnos - (Dificultad: Avanzado)\n",
        "\n",
        "Construir una aplicación que permita:\n",
        "- Cargar datos de estudiantes por consola.\n",
        "- Guardarlos en un archivo de texto (`estudiantes.txt`).\n",
        "- Leer ese archivo para generar estadísticas y reportes sobre el desempeño de los alumnos.\n",
        "- Generar un segundo archivo (`reporte.txt`) con un resumen detallado.\n",
        "\n",
        "→ Usar funciones para dividir el código en partes: entrada, validación, análisis, reporte.\n",
        "\n",
        "→ Validar bien los datos antes de escribirlos en el archivo.\n",
        "\n",
        "→ Pensar en cómo estructurar el archivo para poder leerlo fácilmente después.\n",
        "\n",
        "### Implementación\n",
        "\n",
        "Parte 1: Registro de Estudiantes.\n",
        "\n",
        "1. Pedir al usuario cuántos estudiantes desea registrar.\n",
        "2. Por cada estudiante:\n",
        "   - Pedir **nombre**, **apellido** y **nota**.\n",
        "   - Validar:\n",
        "     - Que nombre y apellido no estén vacíos.\n",
        "     - Que la nota sea un número entre `1` y `10`.\n",
        "3. Guardar cada registro en el archivo `estudiantes.txt` con el siguiente formato:\n",
        "\n",
        "```\n",
        "Nombre Apellido;Nota\n",
        "```\n",
        "\n",
        "Parte 2: Análisis de Desempeño.\n",
        "\n",
        "1. Leer el archivo `estudiantes.txt`.\n",
        "2. Para cada estudiante, clasificarlo como:\n",
        "    - **Destacado**: nota > 7\n",
        "    - **Regular**: nota entre 4 y 7 (inclusive)\n",
        "    - **Desaprobado**: nota < 4\n",
        "3. Calcular y mostrar por consola:\n",
        "    - Total de alumnos.\n",
        "    - Promedio general de la clase.\n",
        "    - Cantidad de alumnos por categoría.\n",
        "    - Mejor nota de la clase y el nombre del estudiante.\n",
        "    - Peor nota de la clase y el nombre del estudiante.\n",
        "\n",
        "Parte 3: Generación de Reporte.\n",
        "\n",
        "Crear un archivo `reporte.txt` con este formato:\n",
        "\n",
        "```\n",
        "Alumnos registrados: 5\n",
        "Promedio general: 6.4\n",
        "Alumnos destacados: 2\n",
        "Alumnos regulares: 2\n",
        "Alumnos desaprobados: 1\n",
        "\n",
        "Mejor nota: 9 (Cindy Nero)\n",
        "Peor nota: 3 (Armando Esteban Quito)\n",
        "```\n",
        "\n"
      ]
    },
    {
      "cell_type": "code",
      "execution_count": null,
      "metadata": {},
      "outputs": [],
      "source": [
        "# Challenge Integrador 4\n",
        "# Escribe tu código aquí.\n",
        "# Dado que es un ejercicio largo, te recomiendo que lo hagas en un archivo nuevo .py"
      ]
    }
  ],
  "metadata": {
    "colab": {
      "include_colab_link": true,
      "provenance": []
    },
    "kernelspec": {
      "display_name": "venv",
      "language": "python",
      "name": "python3"
    },
    "language_info": {
      "codemirror_mode": {
        "name": "ipython",
        "version": 3
      },
      "file_extension": ".py",
      "mimetype": "text/x-python",
      "name": "python",
      "nbconvert_exporter": "python",
      "pygments_lexer": "ipython3",
      "version": "3.9.13"
    }
  },
  "nbformat": 4,
  "nbformat_minor": 0
}

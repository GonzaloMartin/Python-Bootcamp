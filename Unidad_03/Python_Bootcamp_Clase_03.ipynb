{
  "cells": [
    {
      "cell_type": "markdown",
      "metadata": {
        "colab_type": "text",
        "id": "view-in-github"
      },
      "source": [
        "<a href=\"https://colab.research.google.com/github/GonzaloMartin/Python-Bootcamp/blob/main/Unidad_03/Python_Bootcamp_Clase_03.ipynb\" target=\"_parent\"><img src=\"https://colab.research.google.com/assets/colab-badge.svg\" alt=\"Open In Colab\"/></a>"
      ]
    },
    {
      "cell_type": "markdown",
      "metadata": {
        "id": "-TUcZs7nWywn"
      },
      "source": [
        "<img src=\"https://raw.githubusercontent.com/GonzaloMartin/Python-Bootcamp/refs/heads/main/Assets/python_bootcamp_banner1.png\" width=\"400\">\n",
        "\n",
        "# **Python Bootcamp orientado a la Automatización**\n",
        "\n",
        "El objetivo de la clase es brindar una introducción a la programación, presentando los fundamentos básicos de informática próximos pasos."
      ]
    },
    {
      "cell_type": "markdown",
      "metadata": {
        "id": "o9M3M7L0X1nL"
      },
      "source": [
        "# Unidad 3\n",
        "\n",
        "El objetivo de la clase es obtener la primera experiencia de trabajo con programación aprendiendo los siguientes temas.\n",
        "\n",
        "* Loops e iteraciones\n",
        "* Strings\n",
        "* Acceso a archivos\n",
        "\n",
        "La clase incluye teoría y práctica sobre cada tema aprendido."
      ]
    },
    {
      "cell_type": "markdown",
      "metadata": {
        "id": "hMRV7LXqgTsC"
      },
      "source": [
        "## Control de Flujo\n",
        "\n",
        "El control de flujo se refiere a la forma en que se ejecutan las instrucciones de un programa. Existen diferentes estructuras de control que permiten modificar el flujo de ejecución, como condicionales y bucles.\n",
        "Dependiendo de cómo se estructure ese flujo, el programa puede comportarse de formas distintas.\n",
        "\n",
        "Los tres tipos básicos de control de flujo son:\n",
        "1. Flujo Secuencial\n",
        "2. Flujo Condicional (o selectivo)\n",
        "3. Flujo Iterativo (o repetitivo)\n",
        "\n"
      ]
    },
    {
      "cell_type": "markdown",
      "metadata": {},
      "source": [
        "### Flujo Secuencial\n",
        "\n",
        "Para Python, la lectura del código es secuencial. Es decir, de arriba hacia abajo. Sin embargo, existen estructuras que permiten cambiar este flujo. Por ejemplo, si se desea ejecutar un bloque de código solo si se cumple una condición, se puede utilizar la estructura `if` (si). Si se desea ejecutar un bloque de código repetidamente, se puede utilizar la estructura `for` (para) o `while` (mientras).\n",
        "\n",
        "Ejemplo:"
      ]
    },
    {
      "cell_type": "code",
      "execution_count": null,
      "metadata": {},
      "outputs": [],
      "source": [
        "# Ejecución secuencial\n",
        "print(\"Inicio del programa\")\n",
        "\n",
        "# Definimos dos variables\n",
        "a = 10\n",
        "b = 20\n",
        "\n",
        "# Realizamos una operación\n",
        "suma = a + b\n",
        "\n",
        "# Mostramos el resultado\n",
        "print(\"La suma de a y b es:\", suma)\n",
        "\n",
        "print(\"Fin del programa\")"
      ]
    },
    {
      "cell_type": "markdown",
      "metadata": {},
      "source": [
        "### Flujo Condicional\n",
        "\n",
        "Consiste en ejecutar un bloque de código solo si se cumple una condición. En Python, se utiliza la instrucción `if` para implementar el flujo condicional. Según la Unidad Anterior, se puede utilizar la instrucción `if` para evaluar una condición y ejecutar un bloque de código si la condición es verdadera. También se pueden utilizar las instrucciones `elif` (sino si) y `else` (sino) para manejar múltiples condiciones.\n",
        "\n",
        "Con esta estructura, el código ya no es secuencial, sino que el flujo de ejecución depende de la evaluación de las condiciones. Si la condición es verdadera, se ejecuta el bloque de código correspondiente. Si no, se evalúa la siguiente condición y así sucesivamente. Si ninguna de las condiciones es verdadera, se ejecuta el bloque de código del `else` (sino)."
      ]
    },
    {
      "cell_type": "markdown",
      "metadata": {},
      "source": [
        "<img src=\"https://raw.githubusercontent.com/GonzaloMartin/Python-Bootcamp/refs/heads/main/Assets/u3_if_structure.png\" width=\"300\">"
      ]
    },
    {
      "cell_type": "markdown",
      "metadata": {},
      "source": [
        "<img src=\"https://raw.githubusercontent.com/GonzaloMartin/Python-Bootcamp/refs/heads/main/Assets/u3_if_statement.png\" width=\"500\">"
      ]
    },
    {
      "cell_type": "markdown",
      "metadata": {},
      "source": [
        "### Estructura if - Repaso\n",
        "\n",
        "Primero veamos un repaso de la estructura if. Esta nos permite realizar una serie de instrucciones si se cumple una condición. Sigue la siguiente sintaxis:\n",
        "```python\n",
        "if condicion1:\n",
        "    # Si se cumple condicion 1\n",
        "    ...\n",
        "elif condicion2:\n",
        "    # Si se cumple condicion 2\n",
        "    ...\n",
        "else:\n",
        "    # Si no se cumple ninguna condición\n",
        "    ...\n",
        "```\n",
        "\n",
        "Ejemplo:"
      ]
    },
    {
      "cell_type": "code",
      "execution_count": null,
      "metadata": {},
      "outputs": [],
      "source": [
        "# Obtengo un valor que el usuario ingresa por teclado y lo guardo en la variable 'numero'\n",
        "numero = int(input(\"Ingerse un número: \"))\n",
        "\n",
        "# Si la variable número es mayor a 0\n",
        "if numero > 0:\n",
        "    print(\"El número es positivo\")  # Si la condición se cumple, se ejecuta esta línea\n",
        "elif numero < 0:                    # En cambio, si la condición no se cumple...\n",
        "    print(\"El número es negativo\")  # ...se evalúa esta otra condición.\n",
        "else:                               # Si ninguna de las condiciones anteriores se cumple...\n",
        "    print(\"El número es 0\")         # ...se ejecuta esta línea."
      ]
    },
    {
      "cell_type": "markdown",
      "metadata": {},
      "source": [
        "## Flujo Iterativo\n",
        "\n",
        "El flujo iterativo permite ejecutar un bloque de código repetidamente mientras se cumpla una condición.\n",
        "\n",
        "En Python, existen dos estructuras principales para implementar el flujo iterativo: `for` y `while`. La estructura `for` se utiliza para iterar sobre una secuencia (como una lista o un rango), mientras que la estructura `while` se utiliza para repetir un bloque de código mientras una condición sea verdadera."
      ]
    },
    {
      "cell_type": "markdown",
      "metadata": {},
      "source": [
        "### Estructura de Ciclo Finito - `for` (para)\n",
        "\n",
        "La estructura `for` se utiliza para iterar sobre una secuencia de un conjunto (como una lista, una cadena de texto o un rango). La sintaxis básica es la siguiente:\n",
        "\n",
        "```python\n",
        "for variable in secuencia:\n",
        "    # Bloque de código a ejecutar en cada iteración\n",
        "    ...\n",
        "```\n",
        "\n",
        "En cada iteración, una variable toma el valor del elemento de la secuencia y el código se ejecuta 1 vez por cada iteración.\n",
        "Es útil cuando se conoce de antemano el número de iteraciones que se desea realizar o cuando se desea recorrer una secuencia de elementos.\n",
        "\n",
        "El primer conjunto que veremos es el rango o `range`. El rango es una función que genera una secuencia de números enteros. Funciona de la siguiente manera:\n",
        "\n",
        "```python\n",
        "    range(inicio, fin, paso)    # 'paso' es opcional y por defecto es 1. Sirve para indicar el incremento entre cada número.\n",
        "```\n",
        "Esto significa que internamente, se generará un conjunto de valores que vayan desde el inicio hasta fin.\n",
        "Inicio: El valor inicial del bucle. Siempre comienza desde 0, a menos que se especifique lo contrario.\n",
        "Fin: El valor final del bucle. Como el rango es exclusivo, el bucle se detendrá antes de alcanzar este valor.\n",
        "Paso: El incremento entre cada número. Por defecto es 1, pero se puede especificar un valor diferente.\n",
        "\n",
        "Ejemplo:\n",
        "```python\n",
        "    for i in range(5):   # Para 'i' dentro del rango de 0 a 5 (sin incluir 5), iterar...\n",
        "        print(i)         # Imprime en pantalla el valor que va tomando 'i' en cada iteración.\n",
        "```\n",
        "\n",
        "Otro ejemplo:\n",
        "\n",
        "PREGUNTA: Antes de correr el código, cual va a ser la salida del programa?"
      ]
    },
    {
      "cell_type": "code",
      "execution_count": null,
      "metadata": {},
      "outputs": [],
      "source": [
        "# Por cada x en el rango de 0 a 4..\n",
        "for x in range(0, 4):\n",
        "    print(x)    # Imprimo la variable x"
      ]
    },
    {
      "cell_type": "markdown",
      "metadata": {},
      "source": [
        "Cambiando el valor incremental del rango...\n",
        "Qué valores imprimirá el siguiente bloque de código?"
      ]
    },
    {
      "cell_type": "code",
      "execution_count": null,
      "metadata": {},
      "outputs": [],
      "source": [
        "for x in range(0, 10, 2):\n",
        "    print(x)"
      ]
    },
    {
      "cell_type": "markdown",
      "metadata": {},
      "source": [
        "También podemos iterar sobre cadenas de texto:"
      ]
    },
    {
      "cell_type": "code",
      "execution_count": null,
      "metadata": {},
      "outputs": [],
      "source": [
        "# Por cada letra en la cadena \"hola\"..\n",
        "for x in \"hola\":\n",
        "    print(x)    # Imprimo la letra que va conteniendo la variable 'x'."
      ]
    },
    {
      "cell_type": "markdown",
      "metadata": {},
      "source": [
        "### Challenge 1\n",
        "\n",
        "Escribir un programa que imprima por pantalla la suma de todos los números pares entre 0 y un número cualquiera ingresado por teclado.\n",
        "\n",
        "En términos matemáticos:\n",
        "\n",
        "$respuesta = \\sum_{x=0}^{n/2}2x$\n",
        " \n",
        "Utilizar un ciclo for para resolver el problema.\n"
      ]
    },
    {
      "cell_type": "code",
      "execution_count": null,
      "metadata": {},
      "outputs": [],
      "source": [
        "# Challenge 1\n",
        "# Escribe tu código aquí."
      ]
    }
  ],
  "metadata": {
    "colab": {
      "include_colab_link": true,
      "provenance": []
    },
    "kernelspec": {
      "display_name": "venv",
      "language": "python",
      "name": "python3"
    },
    "language_info": {
      "codemirror_mode": {
        "name": "ipython",
        "version": 3
      },
      "file_extension": ".py",
      "mimetype": "text/x-python",
      "name": "python",
      "nbconvert_exporter": "python",
      "pygments_lexer": "ipython3",
      "version": "3.9.13"
    }
  },
  "nbformat": 4,
  "nbformat_minor": 0
}

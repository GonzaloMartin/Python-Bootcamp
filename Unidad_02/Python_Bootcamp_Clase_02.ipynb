{
  "cells": [
    {
      "cell_type": "markdown",
      "metadata": {
        "colab_type": "text",
        "id": "view-in-github"
      },
      "source": [
        "<a href=\"https://colab.research.google.com/github/GonzaloMartin/Python-Bootcamp/blob/main/Unidad_02/Python_Bootcamp_Clase_02.ipynb\" target=\"_parent\"><img src=\"https://colab.research.google.com/assets/colab-badge.svg\" alt=\"Open In Colab\"/></a>"
      ]
    },
    {
      "cell_type": "markdown",
      "metadata": {
        "id": "-TUcZs7nWywn"
      },
      "source": [
        "<img src=\"https://raw.githubusercontent.com/GonzaloMartin/Python-Bootcamp/refs/heads/main/Assets/python_bootcamp_banner1.png\" width=\"400\">\n",
        "\n",
        "# **Python Bootcamp orientado a la Automatización**"
      ]
    },
    {
      "cell_type": "markdown",
      "metadata": {
        "id": "o9M3M7L0X1nL"
      },
      "source": [
        "# Unidad 2\n",
        "\n",
        "El objetivo de la clase es obtener la primera experiencia de trabajo con programación aprendiendo los siguientes temas.\n",
        "\n",
        "- Variables y expresiones\n",
        "- Condicionales\n",
        "- Funciones\n",
        "\n",
        "La clase incluye teoría y practica sobre cada tema aprendido."
      ]
    },
    {
      "cell_type": "markdown",
      "metadata": {
        "id": "hMRV7LXqgTsC"
      },
      "source": [
        "***\n",
        "## Variables y Expresiones 🧾\n",
        "\n",
        "Para poder realizar cualquier tipo de procesamiento es necesario almacenar los datos que van a ser usados en el programa/proceso que estemos creando. Aquí entran en juego las ***variables***.\n",
        " \n",
        "Aunque se vea muy sencillo, los que programan deben cumplir con ciertos requisitos para definir variables:\n",
        " \n",
        " \n",
        "*  Definir el nombre de la variable. Es recomendable que el nombre de la variable exprese lo que va a ser guardado en ella (nombres descriptivos). Las reglas para poner un nombre son:\n",
        "   *   Debe empezar con una letra minúscula o un guión bajo `_`.\n",
        "   *   No pueden comenzar con un número.\n",
        "   *   Los otros caracteres pueden ser letras, números o guión bajo.\n",
        "   *   Distingue mayúsculas de minúsculas (Es decir, es _Case Sensitive_. `edad` y `Edad` son diferentes).\n",
        "   *   No puede usar palabras reservadas de Python como nombres de variables (por ejemplo, `print`, `if`, `else`, entre otros)."
      ]
    },
    {
      "cell_type": "code",
      "execution_count": null,
      "metadata": {},
      "outputs": [],
      "source": [
        "edad = 30\n",
        "apellido = \"Gonzalo\""
      ]
    },
    {
      "cell_type": "markdown",
      "metadata": {},
      "source": [
        "Lo que ocurrió fue que python interpretó el código anterior de la siguiente manera:\n",
        "\n",
        "```\n",
        "Se crea una variable de nombre 'edad' y se le asigna el valor de tipo numérico '30'.\n",
        "Se crea una variable de nombre 'apellido' y se le asigna el valor de tipo cadena de caracteres 'Martin'.\n",
        "```"
      ]
    },
    {
      "cell_type": "markdown",
      "metadata": {},
      "source": [
        "***\n",
        "## Tipos de Datos 🔤\n",
        "\n",
        "En Python, una **variable** es un contenedor que se utiliza para almacenar datos. El tipo de datos que puede almacenar una variable depende del valor que se le asigne. Por ejemplo, si mi variable es `x` y le asigno el valor `5`, su tipo de dato será numérico.\n",
        "Pero si a `x` le asigno el valor `\"Hola, esta es una cadena de texto\"`, su tipo de dato será String (Cadena de caracteres).\n",
        "\n",
        "Python es un lenguaje de tipado dinámico (infiere el tipo de la variable basado en el vlor que se le asigna), lo que significa que no es necesario declarar el tipo de una variable explícitamente, pero se puede forzar en caso de ser necesario (por ejemplo, si espero un tipo de dato como argumento en un método).\n",
        "\n",
        "¿Y esto que significa?\n",
        "\n",
        "Que por ejemplo, en lenguajes como _Java_, es necesario definir el tipo de datos de una variable. Pero en Python no, ya que es un lenguaje que interpreta los tipos de datos.\n",
        "\n",
        "Ejemplo:\n",
        "\n",
        "```Java\n",
        "    int valor;  // Acá vemos que en Java el tipo de dato \"int\" se define a la izquierda.\n",
        "    // Java necesita que se especifique el tipo de dato de la variable.\n",
        "```\n",
        "```Python\n",
        "    valor = 0   # Acá vemos que en Python no hace falta especificar el tipo de dato Entero.\n",
        "    # Python ya lo interpreta el tipo de dato.\n",
        "```"
      ]
    },
    {
      "cell_type": "markdown",
      "metadata": {},
      "source": [
        "### Tipos de Datos Comunes\n",
        "\n",
        "- **Números Enteros (int):**\n",
        "    Representan números enteros, positivos o negativos, sin decimales.\n",
        "    ```python\n",
        "    edad = 30  # Variable de tipo int\n",
        "    ```\n",
        "\n",
        "- **Cadenas de Caracteres (str):**\n",
        "    Representan texto y se definen entre comillas simples o dobles.\n",
        "    ```python\n",
        "    nombre = \"Gonzalo\"  # Variable de tipo str\n",
        "    apellido = 'Martin'\n",
        "    ```\n",
        "\n",
        "- **Números de Punto Flotante (float):**\n",
        "    Representan números con decimales.\n",
        "    ```python\n",
        "    precio = 19.99  # Variable de tipo float\n",
        "    ```\n",
        "\n",
        "- **Booleanos (bool):**\n",
        "    Representan valores de verdad: `True` o `False`.\n",
        "    ```python\n",
        "    es_mayor_de_edad = True  # Variable de tipo bool\n",
        "    ```\n",
        "\n",
        "- **Listas (list):**\n",
        "    Son colecciones ordenadas y mutables de elementos. Cada lista se almacena en memoria dinámica. Cada elemendo puede modificarse, también es posible agregar o quitar elementos de la lista. Si al querer modificar un elemento vemos que no existe, Python lo crea.\n",
        "    ```python\n",
        "    dias = [\"lunes\", \"martes\", \"miercoles\"]  # Variable de tipo list\n",
        "    ```\n",
        "\n",
        "- **Tuplas (tuple):**\n",
        "    Son colecciones ordenadas e inmutables de elementos. No pueden modificarse. Se expresan en paréntesis y una vez definida, no acepta cambios.\n",
        "    ```python\n",
        "    coordenadas = (10, 20)  # Variable de tipo tuple.   Si quiero modificar, por ejemplo, el valor '20', no es posible.\n",
        "    ```\n",
        "\n",
        "- **Diccionarios (dict):**\n",
        "    Son colecciones desordenadas de pares clave-valor. Su valor puede modificarse a gusto.\n",
        "    ```python\n",
        "    persona = {\n",
        "        \"nombre\": \"Gonzalo\", \n",
        "        \"apellido: \"Martin\",\n",
        "        \"edad\": 30\n",
        "        }  # Variable de tipo dict\n",
        "    ```"
      ]
    },
    {
      "cell_type": "markdown",
      "metadata": {},
      "source": [
        "### Pregunta!! 🐍\n",
        "¿De qué tipo es la variable **X**?\n"
      ]
    },
    {
      "cell_type": "code",
      "execution_count": null,
      "metadata": {},
      "outputs": [],
      "source": [
        "x = 123\n",
        "type(x)"
      ]
    },
    {
      "cell_type": "markdown",
      "metadata": {},
      "source": [
        "***"
      ]
    },
    {
      "cell_type": "markdown",
      "metadata": {},
      "source": [
        "## Casting de Variables (Casteo) 🎛️\n",
        "\n",
        "El casting (o casteo) de variables es el proceso de convertir explícitamente una variable de un tipo de dato a otro. En Python, esto se puede hacer utilizando funciones integradas como `int()`, `float()`, `str()`, entre otras.\n",
        "\n",
        "Por ejemplo:\n",
        "1. Convertir un número entero a una cadena de caracteres:\n",
        "    ```python\n",
        "    edad = 30\n",
        "    edad = str(edad)  # Convierte el entero 30 a la cadena \"30\"\n",
        "    ```\n",
        "\n",
        "2. Convertir una cadena de texto a un número entero:\n",
        "    ```python\n",
        "    x = \"123\"\n",
        "    x = int(x)  # Convierte la cadena \"123\" al entero 123\n",
        "    ```\n",
        "\n",
        "3. Convertir un número entero a un número de punto flotante:\n",
        "    ```python\n",
        "    edad = 30\n",
        "    edad = float(edad)  # Convierte el entero 30 al flotante 30.0\n",
        "    ```\n",
        "\n",
        "El casting es útil cuando se necesita realizar operaciones entre diferentes tipos de datos o cuando se requiere un tipo específico para una operación o función."
      ]
    },
    {
      "cell_type": "markdown",
      "metadata": {},
      "source": [
        "### Otra Pregunta!! 🐍\n",
        "¿Cuál sería la salida del siguiente código?"
      ]
    },
    {
      "cell_type": "code",
      "execution_count": null,
      "metadata": {},
      "outputs": [],
      "source": [
        "flotante = 3.14\n",
        "entero = int(flotante)\n",
        "\n",
        "print(flotante)"
      ]
    },
    {
      "cell_type": "markdown",
      "metadata": {},
      "source": [
        "***"
      ]
    },
    {
      "cell_type": "markdown",
      "metadata": {},
      "source": [
        "## Inputs y Outputs 📥📤\n",
        "\n",
        "Los **inputs** y **outputs** son fundamentales para interactuar con el usuario. Es muy usado en terminales o líneas de comando."
      ]
    },
    {
      "cell_type": "markdown",
      "metadata": {},
      "source": [
        "### Output\n",
        "<div style=\"padding-left: 30px;\">\n",
        "El comando `print()` se utiliza para mostrar información al usuario. Puedes imprimir texto, variables, o combinaciones de ambos.\n",
        "\n",
        "Ejemplo:\n",
        "```python\n",
        "    print(\"Hola Mundo!\")\n",
        "```\n",
        "En este ejemplo simplemente mostramos en pantalla el texdto \"Hola Mundo!\".\n",
        "\n",
        "```Python\n",
        "    edad = 30\n",
        "    print(\"Tu edad es \" + edad)\n",
        "```\n",
        "En este otro ejemplo imprimimos el valor de la variable 'edad', concatenándola al texto con el operador +"
      ]
    },
    {
      "cell_type": "markdown",
      "metadata": {},
      "source": [
        "#### Imprimir con Formato\n",
        "<div style=\"padding-left: 30px;\">\n",
        "Es posible darle un formato a la impresión `print`, usando el identificador `f` al inicio de la expresión.\n",
        "\n",
        "Ejemplo:\n",
        "```Python\n",
        "    peso = 80\n",
        "    print(f\"Tu peso es de {peso}kg.\")\n",
        "```\n",
        "\n",
        "En este ejemplo, el programa muestra en pantalla el peso de la persona, y, en vez de concatenar pasando el operador +, lo que hace es usar el identificador `f` en donde la variable se debe incluir en el texto encerrada entre llaves `{` `}`.\n",
        "</div>"
      ]
    },
    {
      "cell_type": "markdown",
      "metadata": {},
      "source": [
        "### Input\n",
        "<div style=\"padding-left: 30px;\">\n",
        "El comando `input()` se usa para recibir datos del usuario. Es decir, para ingresar información mediante el teclado. Siempre devuelve un valor de tipo `String` (cadena de caracteres), por lo que si necesitas otro tipo de dato, debes realizar un **casting** para convertir dicho valor.\n",
        "\n",
        "Ejemplo:\n",
        "En este ejemplo, el programa solicita al usuario que ingrese su nombre y luego lo muestra en pantalla.\n",
        "</div>"
      ]
    },
    {
      "cell_type": "code",
      "execution_count": null,
      "metadata": {},
      "outputs": [],
      "source": [
        "# Solicitar un dato al usuario\n",
        "nombre = input(\"Ingrese su nombre: \")\n",
        "print(f\"Hola, {nombre}!\")"
      ]
    },
    {
      "cell_type": "markdown",
      "metadata": {},
      "source": [
        "***\n",
        "***\n",
        "## *Challenge 1*\n",
        "\n",
        ">Escribe un programa que solicite al usuario su nombre y edad, y luego muestre un mensaje que diga cuántos años tendrá en 5 años.\n",
        "\n",
        "#### Ejemplo de salida esperada:\n",
        "```\n",
        "¿Cómo te llamas? Juan\n",
        "¿Cuántos años tienes? 25\n",
        "Hola, Juan. En 5 años tendrás 30 años.\n",
        "```"
      ]
    },
    {
      "cell_type": "code",
      "execution_count": null,
      "metadata": {},
      "outputs": [],
      "source": [
        "# Challenge 1\n",
        "# Escribe tu código aquí.\n"
      ]
    },
    {
      "cell_type": "markdown",
      "metadata": {},
      "source": [
        "***\n",
        "***"
      ]
    },
    {
      "cell_type": "markdown",
      "metadata": {},
      "source": [
        "## Expresiones y Operaciones con Variables 🧮\n",
        "\n",
        "Las **expresiones** son combinaciones de valores, variables y operadores que Python evalúa para producir un resultado.\n",
        "Las operaciones con variables permiten realizar cálculos y manipular datos almacenados en las variables."
      ]
    },
    {
      "cell_type": "markdown",
      "metadata": {},
      "source": [
        "### Operaciones Aritméticas\n",
        "\n",
        "<div style=\"padding-left: 30px;\">\n",
        "Python admite estas operaciones aritméticas básicas, se pueden realizar con números y variables numéricas.\n",
        "Estas sirven para realizar modificar los datos recibidos y calcular salidas necesarias.\n",
        "A continuación, se describen los operadores aritméticos más comunes:\n",
        "\n",
        "1. **Suma (`a + b`)**:\n",
        "\n",
        "    Se usa para sumar números o concatenar cadenas de texto.\n",
        "    ```python\n",
        "        a = 10\n",
        "        b = 5\n",
        "        resultado = a + b  # Resultado: 15\n",
        "    ```\n",
        "\n",
        "2. **Resta (`a - b`)**:\n",
        "\n",
        "    Se usa para restar un número de otro.\n",
        "    ```python\n",
        "        a = 10\n",
        "        b = 5\n",
        "        resultado = a - b  # Resultado: 5\n",
        "    ```\n",
        "\n",
        "3. **Multiplicación (`a * b`)**:\n",
        "\n",
        "    Se usa para multiplicar dos números.\n",
        "    ```python\n",
        "        a = 10\n",
        "        b = 5\n",
        "        resultado = a * b  # Resultado: 50\n",
        "    ```\n",
        "\n",
        "4. **División (`a / b`)**:\n",
        "\n",
        "    Se usa para dividir un número entre otro. El resultado siempre será un número de punto flotante.\n",
        "    ```python\n",
        "        a = 10\n",
        "        b = 4\n",
        "        resultado = a / b  # Resultado: 2.5\n",
        "    ```\n",
        "\n",
        "5. **División Entera (`a // b`)**:\n",
        "\n",
        "    Devuelve el cociente entero de una división, descartando la parte decimal.\n",
        "    ```python\n",
        "        a = 10\n",
        "        b = 4\n",
        "        resultado = a // b  # Resultado: 2\n",
        "    ```\n",
        "\n",
        "6. **Módulo (`a % b`)**:\n",
        "\n",
        "    Devuelve el resto de una división.\n",
        "    ```python\n",
        "        a = 10\n",
        "        b = 4\n",
        "        resultado = a % b  # Resultado: 2\n",
        "    ```\n",
        "\n",
        "7. **Potencia (`**` -> $a^{b}$)**:\n",
        "\n",
        "    Se utiliza para elevar un número a la potencia de otro.\n",
        "    ```python\n",
        "        a = 2\n",
        "        b = 3\n",
        "        resultado = a ** b  # Resultado: 8\n",
        "    ```\n",
        "</div>"
      ]
    },
    {
      "cell_type": "markdown",
      "metadata": {},
      "source": [
        "***\n",
        "***\n",
        "## *Challenge 2*\n",
        "\n",
        "> Escribir un programa que le pida al usuario el valor del radio de un círculo (en metros) y calcule el área de un círculo 1m más pequeño.\n",
        "> \n",
        "> **Nota:**  El área del círculo se calcula con la expresión\n",
        "> \n",
        "> Area = $π$ x $r^{2}$\n",
        "> \n",
        "> En donde $π$ = 3.14"
      ]
    },
    {
      "cell_type": "markdown",
      "metadata": {},
      "source": [
        "#### Ejemplo de salida esperada:\n",
        "\n",
        "<div style=\"padding-left: 30px;\">\n",
        "\n",
        "```\n",
        "Ingresar el radio de un círculo (en metros): 10\n",
        "El área del círculo con un radio menor a 10 es: 254.34\n",
        "```\n",
        "</div>"
      ]
    },
    {
      "cell_type": "code",
      "execution_count": null,
      "metadata": {},
      "outputs": [],
      "source": [
        "# Challenge 2\n",
        "# Escribe tu código aquí."
      ]
    },
    {
      "cell_type": "markdown",
      "metadata": {},
      "source": [
        "***\n",
        "***"
      ]
    },
    {
      "cell_type": "markdown",
      "metadata": {},
      "source": [
        "### Operaciones de Comparación\n",
        "\n",
        "Se utilizan para comparar dos valores. Estas operaciones devuelven un valor booleano: `True` si la comparación es verdadera, o `False` si es falsa.  En general, se usan para evaluar si dos valores cumplen una relación:<br>\n",
        "\n",
        "1. **Igualdad (`==`)**:\n",
        "\n",
        "    Comprueba si dos valores son iguales. Ejemplo: `a` _es igual que_... `b`.\n",
        "    ```python\n",
        "    a = 5\n",
        "    b = 5\n",
        "    print(a == b)  # True\n",
        "    ```\n",
        "\n",
        "2. **Desigualdad (`!=`)**:\n",
        "\n",
        "    Comprueba si dos valores son diferentes. Ejemplo: `a` _es distinto que_... `b`.\n",
        "    ```python\n",
        "    a = 5\n",
        "    b = 3\n",
        "    print(a != b)  # True\n",
        "    ```\n",
        "\n",
        "3. **Mayor que (`>`)**:\n",
        "\n",
        "    Comprueba si el valor de la izquierda es mayor que el de la derecha.  Ejemplo: `a` _es mayor que_... `b`.\n",
        "    ```python\n",
        "    a = 5\n",
        "    b = 3\n",
        "    print(a > b)  # True\n",
        "    ```\n",
        "\n",
        "4. **Menor que (`<`)**:\n",
        "\n",
        "    Comprueba si el valor de la izquierda es menor que el de la derecha. Ejemplo: `a` _es menor que_... `b`.\n",
        "    ```python\n",
        "    a = 5\n",
        "    b = 3\n",
        "    print(a < b)  # False\n",
        "    ```\n",
        "\n",
        "5. **Mayor o igual que (`>=`)**:\n",
        "\n",
        "    Comprueba si el valor de la izquierda es mayor o igual que el de la derecha. Ejemplo: `a` _es mayor o igual que_... `b`.\n",
        "    ```python\n",
        "    a = 5\n",
        "    b = 5\n",
        "    print(a >= b)  # True\n",
        "    ```\n",
        "\n",
        "6. **Menor o igual que (`<=`)**:\n",
        "\n",
        "    Comprueba si el valor de la izquierda es menor o igual que el de la derecha.  Ejemplo: `a` _es menor o igual que_... `b`.\n",
        "    ```python\n",
        "    a = 3\n",
        "    b = 5\n",
        "    print(a <= b)  # True\n",
        "    ```"
      ]
    },
    {
      "cell_type": "markdown",
      "metadata": {},
      "source": [
        "***\n",
        "***\n",
        "## *Challenge 3*\n",
        "\n",
        "> Escribe un programa que solicite al usuario dos números enteros y realice las siguientes operaciones:\n",
        "> 1. Sumar los dos números y mostrar el resultado.\n",
        "> 2. Restar el segundo número al primero y mostrar el resultado.\n",
        "> 3. Multiplicar ambos números y mostrar el resultado.\n",
        "> 4. Dividir el primer número entre el segundo y mostrar el resultado (asegurándote de que el segundo número no sea cero).\n",
        "> 5. Calcular el módulo (resto) de la división del primer número entre el segundo y mostrar el resultado."
      ]
    },
    {
      "cell_type": "code",
      "execution_count": null,
      "metadata": {},
      "outputs": [],
      "source": [
        "# Challenge 3\n",
        "# Escribe tu código aquí."
      ]
    },
    {
      "cell_type": "markdown",
      "metadata": {},
      "source": [
        "***\n",
        "***"
      ]
    },
    {
      "cell_type": "markdown",
      "metadata": {},
      "source": [
        "## Operaciones Lógicas 🔗\n",
        "\n",
        "Las operaciones lógicas se utilizan para combinar o invertir expresiones booleanas. Estas operaciones devuelven un valor booleano (`True` o `False`) dependiendo de las condiciones evaluadas.\n",
        "\n",
        "\n",
        "1. **AND (`and`)**:\n",
        "\n",
        "    Devuelve `True` si ambas condiciones son verdaderas. ( $a \\land b$ ).\n",
        "    ```python\n",
        "    a = True\n",
        "    b = False\n",
        "    print(a and b)  # False\n",
        "    ```\n",
        "\n",
        "2. **OR (`or`)**:\n",
        "\n",
        "    Devuelve `True` si al menos una de las condiciones es verdadera. ( $a \\lor b$ ).\n",
        "    ```python\n",
        "    a = True\n",
        "    b = False\n",
        "    print(a or b)  # True\n",
        "    ```\n",
        "\n",
        "3. **NOT (`not`)**:\n",
        "\n",
        "    Invierte el valor de una condición. Si es `True`, devuelve `False`, y viceversa. ( $\\lnot a$ ).\n",
        "    ```python\n",
        "    a = True\n",
        "    print(not a)  # False\n",
        "    ```\n",
        "\n",
        "4. **OR Exclusivo (`^`)**:\n",
        "\n",
        "    Devuelve `True` si exactamente una de las condiciones es verdadera. ( $a \\oplus b$ ).\n",
        "    ```python\n",
        "    a = True\n",
        "    b = False\n",
        "    print(a ^ b)  # True\n",
        "    ```"
      ]
    },
    {
      "cell_type": "markdown",
      "metadata": {},
      "source": [
        "***\n",
        "## Control de Flujo Condicional 🎯\n",
        "\n",
        "Se refiere básicamente al manejo de IFs, permitiendo así que un programa tome decisiones y ejecute diferentes bloques de código dependiendo de ciertas condiciones. Esto se logra utilizando las estructuras condicionales como `if`, `elif` y `else`.\n"
      ]
    },
    {
      "cell_type": "markdown",
      "metadata": {},
      "source": [
        "### Estructura Básica IF\n",
        "\n",
        "**`if`**: Evalúa una condición. Si la condición es verdadera (`True`), ejecuta el bloque de código asociado.\n",
        "\n",
        "**`else`**: Se ejecuta si ninguna de las condiciones anteriores es verdadera.\n",
        "\n",
        "Su sintaxis es:\n",
        "```python\n",
        "if condición:\n",
        "    # Bloque de código que se ejecuta si la condición es verdadera\n",
        "else:\n",
        "    # Bloque que se ejecuta si ninguna de las anteriores condiciones se cumple\n",
        "```"
      ]
    },
    {
      "cell_type": "markdown",
      "metadata": {},
      "source": [
        "### Estructura Compleja (IFs Anidados)\n",
        "\n",
        "Se usa cuando se tienen múltiples condiciones a evaluar. Se le dice \"if anidados\" porque hay al menos un If dentro de otro. Para este caso, se le agrega a la estructura un caso condicional llamado \"else if\" (`elif`). Esto permite evaluar varias condiciones de manera secuencial. Si la primera condición es falsa, se evalúa la siguiente, y así sucesivamente. Si ninguna de las condiciones es verdadera, se ejecuta el bloque `else` que ya conocemos.\n",
        "\n",
        "La estructura es la siguiente:\n",
        "\n",
        "```python\n",
        "if persona_edad < 18:\n",
        "    # Bloque de código que se ejecuta\n",
        "    # si una persona es menor a 18 años.\n",
        "elif persona_edad >= 18 and persona_edad < 30:\n",
        "    # Bloque de código que se ejecuta si una persona es\n",
        "    # es mayor o igual a 18 años y menor a 30 años.\n",
        "    # Al pasar por esta condición, \n",
        "    # sabemos que el primer IF de arriba no aplica.\n",
        "else:\n",
        "    # Bloque de código que se ejecuta si ninguna \n",
        "    # de las condiciones anteriores es verdadera.\n",
        "    # En este caso, aquí sabemos que la persona es mayor a 30 años.\n",
        "```"
      ]
    },
    {
      "cell_type": "markdown",
      "metadata": {},
      "source": [
        "***\n",
        "***\n",
        "## *Challenge 4*\n",
        "\n",
        "> Escribir un programa que determine si una persona puede ingresar a un boliche.\n",
        ">\n",
        "> Para eso, el programa debe:\n",
        "> \n",
        "> 1. Pedirle al usuario su edad.\n",
        "> 2. Preguntarle si tiene entrada (respondiendo con \"si\" o \"no\").\n",
        "> \n",
        "> La persona puede ingresar solo si:\n",
        "> - Tiene 18 años o más.\n",
        "> - Tiene entrada.\n",
        "> \n",
        "> En caso contrario, se le debe negar la entrada.\n",
        "\n",
        "### Ejemplo de salida esperada:\n",
        "\n",
        "<div style=\"padding-left: 30px;\">\n",
        "\n",
        "```\n",
        "Ingresa tu edad: 20\n",
        "¿Tienes entrada? (sí/no): si\n",
        "Podés ingresar al boliche.\n",
        "```\n",
        "```\n",
        "Ingresa tu edad: 17\n",
        "¿Tienes entrada? (sí/no): si\n",
        "No podés ingresar al boliche.\n",
        "```\n",
        "</div>"
      ]
    },
    {
      "cell_type": "code",
      "execution_count": null,
      "metadata": {},
      "outputs": [],
      "source": [
        "# Challenge 4\n",
        "# Escribe tu código aquí."
      ]
    },
    {
      "cell_type": "markdown",
      "metadata": {},
      "source": [
        "***\n",
        "***"
      ]
    },
    {
      "cell_type": "markdown",
      "metadata": {},
      "source": [
        "## *Challenge 5*\n",
        "\n",
        "> Escribí un programa que le pida al usuario ingresar una temperatura en grados Celsius y, en base a ese valor, muestre un mensaje indicando la sensación térmica según la siguiente clasificación:\n",
        ">\n",
        "> - Menos de 0°C: Frío extremo\n",
        "> - Entre 0°C y 15°C: Frío\n",
        "> - Entre 16°C y 25°C: Templado\n",
        "> - Entre 26°C y 35°C: Calor\n",
        "> - Mayor a 35°C: Calor extremo\n",
        "\n",
        "#### Ejemplo de salida esperada:\n",
        "<div style=\"padding-left: 30px;\">\n",
        "\n",
        "```\n",
        "Ingresar temperatura actual en grados Celsius: 10\n",
        "Estado del clima: Frío\n",
        "```\n",
        "</div>"
      ]
    },
    {
      "cell_type": "code",
      "execution_count": null,
      "metadata": {},
      "outputs": [],
      "source": [
        "# Challenge 5\n",
        "# Escribe tu código aquí."
      ]
    },
    {
      "cell_type": "markdown",
      "metadata": {},
      "source": [
        "***\n",
        "***"
      ]
    },
    {
      "cell_type": "markdown",
      "metadata": {},
      "source": [
        "## Estructura múltiple Match (Case) 🎯\n",
        "\n",
        "**Match-case** es una estructura de control introducida a partir de la versión de Python 3.10 que permite realizar comparaciones más expresivas y legibles. Es similar a la estructura `switch-case` de otros lenguajes como C, Java o JavaScript, pero con características más avanzadas, como la capacidad de realizar patrones de coincidencia (pattern matching).\n",
        "\n",
        "Una estructura `match-case` evalúa una expresión y compara su valor con diferentes patrones especificados en los bloques `case`. Si encuentra una coincidencia, ejecuta el bloque de código correspondiente.\n",
        "\n",
        "Su sintaxis básica es:\n",
        "```python\n",
        "match (variable o condición):\n",
        "    case valor1:\n",
        "        # Bloque de código si variable coincide con valor1\n",
        "    case valor2:\n",
        "        # Bloque de código si variable coincide con valor2\n",
        "    case _:\n",
        "        # Bloque de código si no coincide con ninguno de los anteriores (similar a else)\n",
        "```\n",
        "\n",
        "Ejemplo:\n",
        "\n",
        "```python\n",
        "dia = \"lunes\"\n",
        "match dia:\n",
        "    case \"lunes\":\n",
        "        print(\"Hoy es lunes.\")\n",
        "    case \"martes\":\n",
        "        print(\"Hoy es martes.\")\n",
        "    case \"miércoles\":\n",
        "        print(\"Hoy es miércoles.\")\n",
        "    case _:\n",
        "        print(\"No es lunes, martes o miércoles.\")\n",
        "```\n",
        "En este ejemplo, la variable `dia` se compara con diferentes valores. Si coincide con \"lunes\", se imprime \"Hoy es lunes\". Si no coincide con ninguno de los casos, se ejecuta el bloque `_`, que actúa como un caso por defecto."
      ]
    },
    {
      "cell_type": "markdown",
      "metadata": {},
      "source": [
        "#### ¿Y cuál es la diferencia entre If anidados y Match-case?\n",
        "\n",
        ">La principal diferencia entre `if` anidados y `match-case` es la forma en que se estructuran y evalúan las condiciones. Mientras que los `if` anidados requieren múltiples comparaciones secuenciales, el `match-case` permite una evaluación más clara y concisa de patrones, lo que puede hacer que el código sea más legible y fácil de mantener.\n",
        "\n",
        "Por otra parte, el `match-case` permite patrones más complejos, como la coincidencia de estructuras de datos, lo que no es posible con los `if` anidados. Esto hace que el `match-case` sea más poderoso y flexible en ciertos casos.\n",
        "Además, para el caso de `if` anidados, estos permiten la evaluación de rangos de valores, mientras que el `match-case` se basa en la coincidencia exacta de valores o patrones."
      ]
    },
    {
      "cell_type": "markdown",
      "metadata": {},
      "source": [
        "***\n",
        "## Funciones ▶️\n",
        "\n",
        "Las **funciones** en Python son bloques de código reutilizables que realizan una tarea específica. Permiten estructurar el código de manera modular, facilitando su mantenimiento y reutilización.\n",
        "Pueden (o no) recibir parámetros (valores de entrada) y devolver resultados (valores de salida). Esto permite que el mismo bloque de código se ejecute con diferentes datos, lo que mejora la eficiencia y la legibilidad del código."
      ]
    },
    {
      "cell_type": "markdown",
      "metadata": {},
      "source": [
        "### Ventajas de Usar Funciones\n",
        "1. **Reutilización de Código**: Evita la repetición de código.\n",
        "2. **Modularidad**: Divide el programa en partes más pequeñas y manejables.\n",
        "3. **Legibilidad**: Hace que el código sea más fácil de entender.\n",
        "4. **Mantenimiento**: Facilita la actualización y corrección de errores."
      ]
    },
    {
      "cell_type": "markdown",
      "metadata": {},
      "source": [
        "### Definición de una Función\n",
        "<div style=\"padding-left: 30px;\">\n",
        "\n",
        "Para definir una función en Python, se utiliza la palabra clave `def`.\n",
        "\n",
        "Junto con `def` va el nombre de la función y sus posibles parámetros.\n",
        "\n",
        "```python\n",
        "def nombre_de_la_funcion(parametro1, parametro2, ...):\n",
        "    # Bloque de código que se ejecuta \n",
        "    # cuando se llama a la función\n",
        "    return salida1, salida2, ...\n",
        "    # (opcional) Devuelve un valor al lugar donde se llamó la función\n",
        "```\n",
        "\n",
        "Ejemplo:\n",
        "\n",
        "```python\n",
        "def suma(a, b):\n",
        "    resultado = a + b\n",
        "    return resultado\n",
        "```\n",
        "En este ejemplo, se define una función llamada `suma` que toma dos parámetros (`a` y `b`).\n",
        "\n",
        "Por otro lado, como mencionamos antes, las funciones pueden no recibir argumentos.\n",
        "\n",
        "En este caso se definen sin paréntesis o con paréntesis vacíos.\n",
        "\n",
        "```python\n",
        "def imprimir():\n",
        "    print(\"Imprimiendo...\")\n",
        "    return True\n",
        "```\n",
        "\n",
        "Un último caso es cuando una función puede no devolver nada.\n",
        "\n",
        "Se define la función sin el `return` o con un `return` vacío.\n",
        "\n",
        "```python\n",
        "def saludar():\n",
        "    print(\"Hola!\")\n",
        "```\n",
        "En este caso, la función `saludar` no devuelve ningún valor.\n",
        "</div>"
      ]
    },
    {
      "cell_type": "markdown",
      "metadata": {},
      "source": [
        "***\n",
        "***\n",
        "## *Challenge 6*\n",
        "\n",
        "> Modifica el programa del Challenge 5 para que la clasificación de la temperatura se realice dentro de una función llamada `clasificar_temperatura`. Esta función debe recibir la temperatura como parámetro y devolver la clasificación correspondiente. Luego, en el bloque principal del programa, llama a esta función y muestra el resultado.\n",
        "\n",
        "### Ejemplo de salida esperada:\n",
        "<div style=\"padding-left: 30px;\">\n",
        "\n",
        "```\n",
        "Ingresar temperatura actual en grados Celsius: 10\n",
        "Estado del clima: Frío\n",
        "```\n",
        "</div>"
      ]
    },
    {
      "cell_type": "code",
      "execution_count": null,
      "metadata": {},
      "outputs": [],
      "source": [
        "# Challenge 6\n",
        "# Escribe tu código aquí."
      ]
    },
    {
      "cell_type": "markdown",
      "metadata": {},
      "source": [
        "Bueno, ahora...."
      ]
    },
    {
      "cell_type": "markdown",
      "metadata": {},
      "source": [
        "<img src=\"https://raw.githubusercontent.com/GonzaloMartin/Python-Bootcamp/refs/heads/main/Assets/listos_ejercicios.jpg\" width=\"500\">"
      ]
    },
    {
      "cell_type": "markdown",
      "metadata": {},
      "source": [
        "***\n",
        "***\n",
        "## *Challenge Integrador 1*\n",
        "\n",
        "### Calculadora\n",
        "<style>\n",
        ".alert-atom-info {\n",
        "  background-color: #2c313c;  /* fondo oscuro suave */\n",
        "  color: #c7cfd6ff;             /* custom */\n",
        "  border: 1px solid #3e4451;  /* gris oscuro */\n",
        "  padding: 15px;\n",
        "  border-radius: 5px;\n",
        "  font-family: 'Fira Code', Consolas, monospace;\n",
        "}\n",
        "</style>\n",
        "<div class=\"alert alert-atom-info\">\n",
        "\n",
        "Implementar una calculadora simple que reciba dos números y una operación (suma, resta, multiplicación o división) y devuelva el resultado.\n",
        "\n",
        "Para esto, se deben implementar las siguientes funciones:\n",
        "1. `sumar(a, b)`: Devuelve la suma de `a` y `b`.\n",
        "2. `restar(a, b)`: Devuelve la resta de `a` y `b`.\n",
        "3. `multiplicar(a, b)`: Devuelve la multiplicación de `a` y `b`.\n",
        "4. `dividir(a, b)`: Devuelve la división de `a` entre `b`.\n",
        "5. `main()`: Función principal que solicita al usuario los números y la operación, llama a las funciones correspondientes y muestra el resultado.\n",
        "</div>\n",
        "\n",
        "#### Ejemplo de salida esperada:\n",
        "<div style=\"padding-left: 30px;\">\n",
        "\n",
        "```\n",
        ">>> 4\n",
        ">>> *\n",
        ">>> 2\n",
        "8\n",
        "```"
      ]
    },
    {
      "cell_type": "code",
      "execution_count": null,
      "metadata": {},
      "outputs": [],
      "source": [
        "# Challenge Integrador 1\n",
        "# Escribe tu código aquí."
      ]
    },
    {
      "cell_type": "markdown",
      "metadata": {},
      "source": [
        "***\n",
        "***"
      ]
    },
    {
      "cell_type": "markdown",
      "metadata": {},
      "source": [
        "## *Challenge Integrador 2*\n",
        "\n",
        "### Promediador\n",
        "<style>\n",
        ".alert-atom-info {\n",
        "  background-color: #2c313c;  /* fondo oscuro suave */\n",
        "  color: #c7cfd6ff;             /* custom */\n",
        "  border: 1px solid #3e4451;  /* gris oscuro */\n",
        "  padding: 15px;\n",
        "  border-radius: 5px;\n",
        "  font-family: 'Fira Code', Consolas, monospace;\n",
        "}\n",
        "</style>\n",
        "<div class=\"alert alert-atom-info\">\n",
        "Escribir una función que reciba 4 números enteros (del 1 al 10) y calcule el promedio.\n",
        "\n",
        "Si alguno de los números es negativo, debe devolver un mensaje indicando que no se aceptan números negativos.\n",
        "\n",
        "La función debe ser llamada desde el bloque principal del programa y mostrar el resultado en pantalla.\n",
        "</div>\n",
        "\n",
        "#### Ejemplo de salida esperada:\n",
        "\n",
        "<div style=\"padding-left: 30px;\">\n",
        "\n",
        "```\n",
        "Ingrese la primer nota: 8\n",
        "Ingrese la segunda nota: 7\n",
        "Ingrese la tercer nota: 9\n",
        "Ingrese la cuarta nota: 10\n",
        "El promedio es: 8.5\n",
        "```\n",
        "</div>"
      ]
    },
    {
      "cell_type": "code",
      "execution_count": null,
      "metadata": {},
      "outputs": [],
      "source": [
        "# Challenge Integrador 2\n",
        "# Escribe tu código aquí."
      ]
    },
    {
      "cell_type": "markdown",
      "metadata": {},
      "source": [
        "***\n",
        "***"
      ]
    },
    {
      "cell_type": "markdown",
      "metadata": {},
      "source": [
        "## *Challenge Integrador 3*\n",
        "\n",
        "### Calculadora 2.0\n",
        "<style>\n",
        ".alert-atom-info {\n",
        "  background-color: #2c313c;  /* fondo oscuro suave */\n",
        "  color: #c7cfd6ff;             /* custom */\n",
        "  border: 1px solid #3e4451;  /* gris oscuro */\n",
        "  padding: 15px;\n",
        "  border-radius: 5px;\n",
        "  font-family: 'Fira Code', Consolas, monospace;\n",
        "}\n",
        "</style>\n",
        "<div class=\"alert alert-atom-info\">\n",
        "\n",
        "Agregar a la calculadora del Challenge 1 los controles necesarios para que el usuario no ingrese números negativos. En caso de que el usuario ingrese un número negativo, se debe mostrar un mensaje indicando que no se aceptan números negativos y volver a solicitar el número.\n",
        "\n",
        "Además, se debe agregar el control para que la operación de Dividir no acepte el número 0 como divisor. En caso de que el usuario ingrese 0 como divisor, se debe mostrar un mensaje indicando que no se puede dividir por cero.\n",
        "</div>\n",
        "\n",
        "#### Ejemplo de salida esperada:\n",
        "<div style=\"padding-left: 30px;\">\n",
        "\n",
        "```\n",
        ">>> 4\n",
        ">>> /\n",
        ">>> 0\n",
        "No se puede dividir por cero.\n",
        "```\n",
        "</div>"
      ]
    },
    {
      "cell_type": "code",
      "execution_count": null,
      "metadata": {},
      "outputs": [],
      "source": [
        "# Challenge Integrador 3\n",
        "# Escribe tu código aquí."
      ]
    },
    {
      "cell_type": "markdown",
      "metadata": {},
      "source": [
        "***\n",
        "***"
      ]
    },
    {
      "cell_type": "markdown",
      "metadata": {},
      "source": [
        "## *Challenge Integrador 4 (Ejercicio Opcional de Recursividad)*\n",
        "\n",
        "### Factorial\n",
        "\n",
        "La factorial de un número entero no negativo `n` es el producto de todos los números enteros desde `1` hasta `n`. \n",
        "\n",
        "Se denota como `n!` y se calcula de la siguiente manera:\n",
        "\n",
        "```python\n",
        "n! = n * (n-1) * (n-2) * ... * 1\n",
        "```\n",
        "\n",
        "> Nota: Por definición matemática, la factorial de 1 es 1 y la factorial de 0 es 1.\n",
        "\n",
        "Por ejemplo:\n",
        "- `5! = 5 * 4 * 3 * 2 * 1 = 120`\n",
        "- `3! = 3 * 2 * 1         = 6`\n",
        "- `0! = 1` (por definición)\n",
        "- `1! = 1` (por definición)\n",
        "\n",
        "### Implementación\n",
        "\n",
        "<style>\n",
        ".alert-atom-info {\n",
        "  background-color: #2c313c;  /* fondo oscuro suave */\n",
        "  color: #c7cfd6ff;             /* custom */\n",
        "  border: 1px solid #3e4451;  /* gris oscuro */\n",
        "  padding: 15px;\n",
        "  border-radius: 5px;\n",
        "  font-family: 'Fira Code', Consolas, monospace;\n",
        "}\n",
        "</style>\n",
        "<div class=\"alert alert-atom-info\">\n",
        "Escribir una función recursiva que calcule el factorial de un número entero no negativo. La función debe recibir un número entero como parámetro y devolver su factorial.<br>\n",
        "\n",
        "La función debe ser llamada desde el bloque principal del programa y mostrar el resultado en pantalla.\n",
        "</div>\n",
        "\n",
        "#### Ejemplo de salida esperada:\n",
        "\n",
        "<div style=\"padding-left: 30px;\">\n",
        "\n",
        "```\n",
        "Ingrese un número para calcular su factorial: 5\n",
        "La factorial de 5 es: 120\n",
        "```\n",
        "</div>"
      ]
    },
    {
      "cell_type": "code",
      "execution_count": null,
      "metadata": {},
      "outputs": [],
      "source": [
        "# Challenge Integrador 4\n",
        "# Escribe tu código aquí."
      ]
    },
    {
      "cell_type": "markdown",
      "metadata": {},
      "source": [
        "***\n",
        "***"
      ]
    }
  ],
  "metadata": {
    "colab": {
      "include_colab_link": true,
      "provenance": []
    },
    "kernelspec": {
      "display_name": "Python 3",
      "language": "python",
      "name": "python3"
    },
    "language_info": {
      "codemirror_mode": {
        "name": "ipython",
        "version": 3
      },
      "file_extension": ".py",
      "mimetype": "text/x-python",
      "name": "python",
      "nbconvert_exporter": "python",
      "pygments_lexer": "ipython3",
      "version": "3.11.4"
    }
  },
  "nbformat": 4,
  "nbformat_minor": 0
}
